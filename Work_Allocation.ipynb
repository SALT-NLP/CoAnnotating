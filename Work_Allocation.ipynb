{
  "cells": [
    {
      "cell_type": "markdown",
      "metadata": {
        "id": "m5tUoHe9FRhs"
      },
      "source": [
        "## Import Libraries"
      ]
    },
    {
      "cell_type": "code",
      "execution_count": null,
      "metadata": {
        "colab": {
          "base_uri": "https://localhost:8080/"
        },
        "id": "Dr7BCHS-nIRW",
        "scrolled": true,
        "outputId": "4f8108cf-1602-4c98-aa89-cb2e0388bf7c"
      },
      "outputs": [
        {
          "output_type": "stream",
          "name": "stdout",
          "text": [
            "Looking in indexes: https://pypi.org/simple, https://us-python.pkg.dev/colab-wheels/public/simple/\n",
            "Collecting transformers\n",
            "  Downloading transformers-4.30.2-py3-none-any.whl (7.2 MB)\n",
            "\u001b[2K     \u001b[90m━━━━━━━━━━━━━━━━━━━━━━━━━━━━━━━━━━━━━━━━\u001b[0m \u001b[32m7.2/7.2 MB\u001b[0m \u001b[31m61.6 MB/s\u001b[0m eta \u001b[36m0:00:00\u001b[0m\n",
            "\u001b[?25hRequirement already satisfied: filelock in /usr/local/lib/python3.10/dist-packages (from transformers) (3.12.0)\n",
            "Collecting huggingface-hub<1.0,>=0.14.1 (from transformers)\n",
            "  Downloading huggingface_hub-0.15.1-py3-none-any.whl (236 kB)\n",
            "\u001b[2K     \u001b[90m━━━━━━━━━━━━━━━━━━━━━━━━━━━━━━━━━━━━━━\u001b[0m \u001b[32m236.8/236.8 kB\u001b[0m \u001b[31m29.3 MB/s\u001b[0m eta \u001b[36m0:00:00\u001b[0m\n",
            "\u001b[?25hRequirement already satisfied: numpy>=1.17 in /usr/local/lib/python3.10/dist-packages (from transformers) (1.22.4)\n",
            "Requirement already satisfied: packaging>=20.0 in /usr/local/lib/python3.10/dist-packages (from transformers) (23.1)\n",
            "Requirement already satisfied: pyyaml>=5.1 in /usr/local/lib/python3.10/dist-packages (from transformers) (6.0)\n",
            "Requirement already satisfied: regex!=2019.12.17 in /usr/local/lib/python3.10/dist-packages (from transformers) (2022.10.31)\n",
            "Requirement already satisfied: requests in /usr/local/lib/python3.10/dist-packages (from transformers) (2.27.1)\n",
            "Collecting tokenizers!=0.11.3,<0.14,>=0.11.1 (from transformers)\n",
            "  Downloading tokenizers-0.13.3-cp310-cp310-manylinux_2_17_x86_64.manylinux2014_x86_64.whl (7.8 MB)\n",
            "\u001b[2K     \u001b[90m━━━━━━━━━━━━━━━━━━━━━━━━━━━━━━━━━━━━━━━━\u001b[0m \u001b[32m7.8/7.8 MB\u001b[0m \u001b[31m97.7 MB/s\u001b[0m eta \u001b[36m0:00:00\u001b[0m\n",
            "\u001b[?25hCollecting safetensors>=0.3.1 (from transformers)\n",
            "  Downloading safetensors-0.3.1-cp310-cp310-manylinux_2_17_x86_64.manylinux2014_x86_64.whl (1.3 MB)\n",
            "\u001b[2K     \u001b[90m━━━━━━━━━━━━━━━━━━━━━━━━━━━━━━━━━━━━━━━━\u001b[0m \u001b[32m1.3/1.3 MB\u001b[0m \u001b[31m67.2 MB/s\u001b[0m eta \u001b[36m0:00:00\u001b[0m\n",
            "\u001b[?25hRequirement already satisfied: tqdm>=4.27 in /usr/local/lib/python3.10/dist-packages (from transformers) (4.65.0)\n",
            "Requirement already satisfied: fsspec in /usr/local/lib/python3.10/dist-packages (from huggingface-hub<1.0,>=0.14.1->transformers) (2023.4.0)\n",
            "Requirement already satisfied: typing-extensions>=3.7.4.3 in /usr/local/lib/python3.10/dist-packages (from huggingface-hub<1.0,>=0.14.1->transformers) (4.5.0)\n",
            "Requirement already satisfied: urllib3<1.27,>=1.21.1 in /usr/local/lib/python3.10/dist-packages (from requests->transformers) (1.26.15)\n",
            "Requirement already satisfied: certifi>=2017.4.17 in /usr/local/lib/python3.10/dist-packages (from requests->transformers) (2022.12.7)\n",
            "Requirement already satisfied: charset-normalizer~=2.0.0 in /usr/local/lib/python3.10/dist-packages (from requests->transformers) (2.0.12)\n",
            "Requirement already satisfied: idna<4,>=2.5 in /usr/local/lib/python3.10/dist-packages (from requests->transformers) (3.4)\n",
            "Installing collected packages: tokenizers, safetensors, huggingface-hub, transformers\n",
            "Successfully installed huggingface-hub-0.15.1 safetensors-0.3.1 tokenizers-0.13.3 transformers-4.30.2\n"
          ]
        }
      ],
      "source": [
        "!pip install transformers\n",
        "import pandas as pd\n",
        "import numpy as np\n",
        "import tensorflow as tf\n",
        "import torch\n",
        "from torch.nn import BCEWithLogitsLoss, BCELoss\n",
        "from torch.utils.data import TensorDataset, DataLoader, RandomSampler, SequentialSampler\n",
        "from tensorflow.keras.preprocessing.sequence import pad_sequences\n",
        "from sklearn.model_selection import train_test_split\n",
        "from sklearn.preprocessing import MultiLabelBinarizer\n",
        "from sklearn.metrics import classification_report, confusion_matrix, multilabel_confusion_matrix, f1_score, accuracy_score\n",
        "import pickle\n",
        "#from transformers import *\n",
        "from tqdm import tqdm, trange\n",
        "from ast import literal_eval"
      ]
    },
    {
      "cell_type": "code",
      "execution_count": null,
      "metadata": {
        "colab": {
          "base_uri": "https://localhost:8080/"
        },
        "id": "UhjnJEwKnISB",
        "outputId": "beabd055-2d23-4c54-b481-111ce954b9c1"
      },
      "outputs": [
        {
          "output_type": "stream",
          "name": "stdout",
          "text": [
            "Found GPU at: /device:GPU:0\n"
          ]
        }
      ],
      "source": [
        "device_name = tf.test.gpu_device_name()\n",
        "if device_name != '/device:GPU:0':\n",
        "  raise SystemError('GPU device not found')\n",
        "print('Found GPU at: {}'.format(device_name))"
      ]
    },
    {
      "cell_type": "code",
      "execution_count": null,
      "metadata": {
        "colab": {
          "base_uri": "https://localhost:8080/",
          "height": 35
        },
        "id": "uorMX_zrnISM",
        "scrolled": true,
        "outputId": "c17a34f7-3df3-4fab-9327-583a1e055120"
      },
      "outputs": [
        {
          "output_type": "execute_result",
          "data": {
            "text/plain": [
              "'Tesla T4'"
            ],
            "application/vnd.google.colaboratory.intrinsic+json": {
              "type": "string"
            }
          },
          "metadata": {},
          "execution_count": 3
        }
      ],
      "source": [
        "device = torch.device(\"cuda\" if torch.cuda.is_available() else \"cpu\")\n",
        "n_gpu = torch.cuda.device_count()\n",
        "torch.cuda.get_device_name(0)"
      ]
    },
    {
      "cell_type": "markdown",
      "metadata": {
        "id": "NHcY8kii7Qot"
      },
      "source": [
        "# Data Exploration"
      ]
    },
    {
      "cell_type": "code",
      "execution_count": null,
      "metadata": {
        "colab": {
          "base_uri": "https://localhost:8080/",
          "height": 734
        },
        "id": "62QeEJcKtWm3",
        "outputId": "f1afda6e-2ce6-4aad-8b80-617d7d320af7"
      },
      "outputs": [
        {
          "output_type": "execute_result",
          "data": {
            "text/plain": [
              "                                           sentence1  \\\n",
              "0  \" They are trying to turn him into a martyr , ...   \n",
              "1  Of the 23.5 million high-speed lines , 16.3 mi...   \n",
              "2  The news sent Cisco shares on a tear in after-...   \n",
              "3  The technology-laced Nasdaq Composite Index .I...   \n",
              "4  Doctors would face fines and up to two years i...   \n",
              "\n",
              "                                           sentence2  label   idx  \\\n",
              "0  \" We need to take these threats seriously , \" ...      0  1245   \n",
              "1  A total of 16.3 million lines provided advance...      0  2804   \n",
              "2  Cisco shares gained $ 1.28 in after-hours trad...      0  3641   \n",
              "3  The Standard & Poor 's 500 Index .SPX gained 1...      0  3296   \n",
              "4  Physicians who perform the procedure would fac...      0  1018   \n",
              "\n",
              "                                                text  \\\n",
              "0  Sentence1: \" They are trying to turn him into ...   \n",
              "1  Sentence1: Of the 23.5 million high-speed line...   \n",
              "2  Sentence1: The news sent Cisco shares on a tea...   \n",
              "3  Sentence1: The technology-laced Nasdaq Composi...   \n",
              "4  Sentence1: Doctors would face fines and up to ...   \n",
              "\n",
              "                                             prompt1  \\\n",
              "0  Please label if the following two sentences ar...   \n",
              "1  Please label if the following two sentences ar...   \n",
              "2  Please label if the following two sentences ar...   \n",
              "3  Please label if the following two sentences ar...   \n",
              "4  Please label if the following two sentences ar...   \n",
              "\n",
              "                                             prompt2  \\\n",
              "0  Sentence1: \" They are trying to turn him into ...   \n",
              "1  Sentence1: Of the 23.5 million high-speed line...   \n",
              "2  Sentence1: The news sent Cisco shares on a tea...   \n",
              "3  Sentence1: The technology-laced Nasdaq Composi...   \n",
              "4  Sentence1: Doctors would face fines and up to ...   \n",
              "\n",
              "                                             prompt3  \\\n",
              "0  Given the following two sentences, please clas...   \n",
              "1  Given the following two sentences, please clas...   \n",
              "2  Given the following two sentences, please clas...   \n",
              "3  Given the following two sentences, please clas...   \n",
              "4  Given the following two sentences, please clas...   \n",
              "\n",
              "                                             prompt4  \\\n",
              "0  Is it true that the following two sentences ar...   \n",
              "1  Is it true that the following two sentences ar...   \n",
              "2  Is it true that the following two sentences ar...   \n",
              "3  Is it true that the following two sentences ar...   \n",
              "4  Is it true that the following two sentences ar...   \n",
              "\n",
              "                                             prompt5  ... pred2 pred3 pred4  \\\n",
              "0  Is it true that the following two sentences ar...  ...     1     0     0   \n",
              "1  Is it true that the following two sentences ar...  ...     1     1     1   \n",
              "2  Is it true that the following two sentences ar...  ...     1     1     0   \n",
              "3  Is it true that the following two sentences ar...  ...     0     0     0   \n",
              "4  Is it true that the following two sentences ar...  ...     1     1     1   \n",
              "\n",
              "  pred5 pred6 pred7 pred8 pred9   entropy MV  \n",
              "0     0     0     0     0     0  0.503258  0  \n",
              "1     1     1     1     1     1 -0.000000  1  \n",
              "2     1     1     0     1     1  0.764205  1  \n",
              "3     0     0     0     0     0 -0.000000  0  \n",
              "4     1     1     1     1     0  0.503258  1  \n",
              "\n",
              "[5 rows x 34 columns]"
            ],
            "text/html": [
              "\n",
              "  <div id=\"df-0f368c40-61af-48b9-8449-e8f8c253c462\">\n",
              "    <div class=\"colab-df-container\">\n",
              "      <div>\n",
              "<style scoped>\n",
              "    .dataframe tbody tr th:only-of-type {\n",
              "        vertical-align: middle;\n",
              "    }\n",
              "\n",
              "    .dataframe tbody tr th {\n",
              "        vertical-align: top;\n",
              "    }\n",
              "\n",
              "    .dataframe thead th {\n",
              "        text-align: right;\n",
              "    }\n",
              "</style>\n",
              "<table border=\"1\" class=\"dataframe\">\n",
              "  <thead>\n",
              "    <tr style=\"text-align: right;\">\n",
              "      <th></th>\n",
              "      <th>sentence1</th>\n",
              "      <th>sentence2</th>\n",
              "      <th>label</th>\n",
              "      <th>idx</th>\n",
              "      <th>text</th>\n",
              "      <th>prompt1</th>\n",
              "      <th>prompt2</th>\n",
              "      <th>prompt3</th>\n",
              "      <th>prompt4</th>\n",
              "      <th>prompt5</th>\n",
              "      <th>...</th>\n",
              "      <th>pred2</th>\n",
              "      <th>pred3</th>\n",
              "      <th>pred4</th>\n",
              "      <th>pred5</th>\n",
              "      <th>pred6</th>\n",
              "      <th>pred7</th>\n",
              "      <th>pred8</th>\n",
              "      <th>pred9</th>\n",
              "      <th>entropy</th>\n",
              "      <th>MV</th>\n",
              "    </tr>\n",
              "  </thead>\n",
              "  <tbody>\n",
              "    <tr>\n",
              "      <th>0</th>\n",
              "      <td>\" They are trying to turn him into a martyr , ...</td>\n",
              "      <td>\" We need to take these threats seriously , \" ...</td>\n",
              "      <td>0</td>\n",
              "      <td>1245</td>\n",
              "      <td>Sentence1: \" They are trying to turn him into ...</td>\n",
              "      <td>Please label if the following two sentences ar...</td>\n",
              "      <td>Sentence1: \" They are trying to turn him into ...</td>\n",
              "      <td>Given the following two sentences, please clas...</td>\n",
              "      <td>Is it true that the following two sentences ar...</td>\n",
              "      <td>Is it true that the following two sentences ar...</td>\n",
              "      <td>...</td>\n",
              "      <td>1</td>\n",
              "      <td>0</td>\n",
              "      <td>0</td>\n",
              "      <td>0</td>\n",
              "      <td>0</td>\n",
              "      <td>0</td>\n",
              "      <td>0</td>\n",
              "      <td>0</td>\n",
              "      <td>0.503258</td>\n",
              "      <td>0</td>\n",
              "    </tr>\n",
              "    <tr>\n",
              "      <th>1</th>\n",
              "      <td>Of the 23.5 million high-speed lines , 16.3 mi...</td>\n",
              "      <td>A total of 16.3 million lines provided advance...</td>\n",
              "      <td>0</td>\n",
              "      <td>2804</td>\n",
              "      <td>Sentence1: Of the 23.5 million high-speed line...</td>\n",
              "      <td>Please label if the following two sentences ar...</td>\n",
              "      <td>Sentence1: Of the 23.5 million high-speed line...</td>\n",
              "      <td>Given the following two sentences, please clas...</td>\n",
              "      <td>Is it true that the following two sentences ar...</td>\n",
              "      <td>Is it true that the following two sentences ar...</td>\n",
              "      <td>...</td>\n",
              "      <td>1</td>\n",
              "      <td>1</td>\n",
              "      <td>1</td>\n",
              "      <td>1</td>\n",
              "      <td>1</td>\n",
              "      <td>1</td>\n",
              "      <td>1</td>\n",
              "      <td>1</td>\n",
              "      <td>-0.000000</td>\n",
              "      <td>1</td>\n",
              "    </tr>\n",
              "    <tr>\n",
              "      <th>2</th>\n",
              "      <td>The news sent Cisco shares on a tear in after-...</td>\n",
              "      <td>Cisco shares gained $ 1.28 in after-hours trad...</td>\n",
              "      <td>0</td>\n",
              "      <td>3641</td>\n",
              "      <td>Sentence1: The news sent Cisco shares on a tea...</td>\n",
              "      <td>Please label if the following two sentences ar...</td>\n",
              "      <td>Sentence1: The news sent Cisco shares on a tea...</td>\n",
              "      <td>Given the following two sentences, please clas...</td>\n",
              "      <td>Is it true that the following two sentences ar...</td>\n",
              "      <td>Is it true that the following two sentences ar...</td>\n",
              "      <td>...</td>\n",
              "      <td>1</td>\n",
              "      <td>1</td>\n",
              "      <td>0</td>\n",
              "      <td>1</td>\n",
              "      <td>1</td>\n",
              "      <td>0</td>\n",
              "      <td>1</td>\n",
              "      <td>1</td>\n",
              "      <td>0.764205</td>\n",
              "      <td>1</td>\n",
              "    </tr>\n",
              "    <tr>\n",
              "      <th>3</th>\n",
              "      <td>The technology-laced Nasdaq Composite Index .I...</td>\n",
              "      <td>The Standard &amp; Poor 's 500 Index .SPX gained 1...</td>\n",
              "      <td>0</td>\n",
              "      <td>3296</td>\n",
              "      <td>Sentence1: The technology-laced Nasdaq Composi...</td>\n",
              "      <td>Please label if the following two sentences ar...</td>\n",
              "      <td>Sentence1: The technology-laced Nasdaq Composi...</td>\n",
              "      <td>Given the following two sentences, please clas...</td>\n",
              "      <td>Is it true that the following two sentences ar...</td>\n",
              "      <td>Is it true that the following two sentences ar...</td>\n",
              "      <td>...</td>\n",
              "      <td>0</td>\n",
              "      <td>0</td>\n",
              "      <td>0</td>\n",
              "      <td>0</td>\n",
              "      <td>0</td>\n",
              "      <td>0</td>\n",
              "      <td>0</td>\n",
              "      <td>0</td>\n",
              "      <td>-0.000000</td>\n",
              "      <td>0</td>\n",
              "    </tr>\n",
              "    <tr>\n",
              "      <th>4</th>\n",
              "      <td>Doctors would face fines and up to two years i...</td>\n",
              "      <td>Physicians who perform the procedure would fac...</td>\n",
              "      <td>0</td>\n",
              "      <td>1018</td>\n",
              "      <td>Sentence1: Doctors would face fines and up to ...</td>\n",
              "      <td>Please label if the following two sentences ar...</td>\n",
              "      <td>Sentence1: Doctors would face fines and up to ...</td>\n",
              "      <td>Given the following two sentences, please clas...</td>\n",
              "      <td>Is it true that the following two sentences ar...</td>\n",
              "      <td>Is it true that the following two sentences ar...</td>\n",
              "      <td>...</td>\n",
              "      <td>1</td>\n",
              "      <td>1</td>\n",
              "      <td>1</td>\n",
              "      <td>1</td>\n",
              "      <td>1</td>\n",
              "      <td>1</td>\n",
              "      <td>1</td>\n",
              "      <td>0</td>\n",
              "      <td>0.503258</td>\n",
              "      <td>1</td>\n",
              "    </tr>\n",
              "  </tbody>\n",
              "</table>\n",
              "<p>5 rows × 34 columns</p>\n",
              "</div>\n",
              "      <button class=\"colab-df-convert\" onclick=\"convertToInteractive('df-0f368c40-61af-48b9-8449-e8f8c253c462')\"\n",
              "              title=\"Convert this dataframe to an interactive table.\"\n",
              "              style=\"display:none;\">\n",
              "        \n",
              "  <svg xmlns=\"http://www.w3.org/2000/svg\" height=\"24px\"viewBox=\"0 0 24 24\"\n",
              "       width=\"24px\">\n",
              "    <path d=\"M0 0h24v24H0V0z\" fill=\"none\"/>\n",
              "    <path d=\"M18.56 5.44l.94 2.06.94-2.06 2.06-.94-2.06-.94-.94-2.06-.94 2.06-2.06.94zm-11 1L8.5 8.5l.94-2.06 2.06-.94-2.06-.94L8.5 2.5l-.94 2.06-2.06.94zm10 10l.94 2.06.94-2.06 2.06-.94-2.06-.94-.94-2.06-.94 2.06-2.06.94z\"/><path d=\"M17.41 7.96l-1.37-1.37c-.4-.4-.92-.59-1.43-.59-.52 0-1.04.2-1.43.59L10.3 9.45l-7.72 7.72c-.78.78-.78 2.05 0 2.83L4 21.41c.39.39.9.59 1.41.59.51 0 1.02-.2 1.41-.59l7.78-7.78 2.81-2.81c.8-.78.8-2.07 0-2.86zM5.41 20L4 18.59l7.72-7.72 1.47 1.35L5.41 20z\"/>\n",
              "  </svg>\n",
              "      </button>\n",
              "      \n",
              "  <style>\n",
              "    .colab-df-container {\n",
              "      display:flex;\n",
              "      flex-wrap:wrap;\n",
              "      gap: 12px;\n",
              "    }\n",
              "\n",
              "    .colab-df-convert {\n",
              "      background-color: #E8F0FE;\n",
              "      border: none;\n",
              "      border-radius: 50%;\n",
              "      cursor: pointer;\n",
              "      display: none;\n",
              "      fill: #1967D2;\n",
              "      height: 32px;\n",
              "      padding: 0 0 0 0;\n",
              "      width: 32px;\n",
              "    }\n",
              "\n",
              "    .colab-df-convert:hover {\n",
              "      background-color: #E2EBFA;\n",
              "      box-shadow: 0px 1px 2px rgba(60, 64, 67, 0.3), 0px 1px 3px 1px rgba(60, 64, 67, 0.15);\n",
              "      fill: #174EA6;\n",
              "    }\n",
              "\n",
              "    [theme=dark] .colab-df-convert {\n",
              "      background-color: #3B4455;\n",
              "      fill: #D2E3FC;\n",
              "    }\n",
              "\n",
              "    [theme=dark] .colab-df-convert:hover {\n",
              "      background-color: #434B5C;\n",
              "      box-shadow: 0px 1px 3px 1px rgba(0, 0, 0, 0.15);\n",
              "      filter: drop-shadow(0px 1px 2px rgba(0, 0, 0, 0.3));\n",
              "      fill: #FFFFFF;\n",
              "    }\n",
              "  </style>\n",
              "\n",
              "      <script>\n",
              "        const buttonEl =\n",
              "          document.querySelector('#df-0f368c40-61af-48b9-8449-e8f8c253c462 button.colab-df-convert');\n",
              "        buttonEl.style.display =\n",
              "          google.colab.kernel.accessAllowed ? 'block' : 'none';\n",
              "\n",
              "        async function convertToInteractive(key) {\n",
              "          const element = document.querySelector('#df-0f368c40-61af-48b9-8449-e8f8c253c462');\n",
              "          const dataTable =\n",
              "            await google.colab.kernel.invokeFunction('convertToInteractive',\n",
              "                                                     [key], {});\n",
              "          if (!dataTable) return;\n",
              "\n",
              "          const docLinkHtml = 'Like what you see? Visit the ' +\n",
              "            '<a target=\"_blank\" href=https://colab.research.google.com/notebooks/data_table.ipynb>data table notebook</a>'\n",
              "            + ' to learn more about interactive tables.';\n",
              "          element.innerHTML = '';\n",
              "          dataTable['output_type'] = 'display_data';\n",
              "          await google.colab.output.renderOutput(dataTable, element);\n",
              "          const docLink = document.createElement('div');\n",
              "          docLink.innerHTML = docLinkHtml;\n",
              "          element.appendChild(docLink);\n",
              "        }\n",
              "      </script>\n",
              "    </div>\n",
              "  </div>\n",
              "  "
            ]
          },
          "metadata": {},
          "execution_count": 4
        }
      ],
      "source": [
        "import pandas as pd\n",
        "data=pd.read_csv('mrpc_train(entropy).csv')\n",
        "data.head()"
      ]
    },
    {
      "cell_type": "code",
      "execution_count": null,
      "metadata": {
        "colab": {
          "base_uri": "https://localhost:8080/",
          "height": 472
        },
        "id": "fEYeBp_u5E11",
        "outputId": "53d1cb54-1b5b-4715-d310-acdaa8f91055"
      },
      "outputs": [
        {
          "output_type": "display_data",
          "data": {
            "text/plain": [
              "<Figure size 640x480 with 1 Axes>"
            ],
            "image/png": "[encoded data removed]"
          },
          "metadata": {}
        }
      ],
      "source": [
        "import pandas as pd\n",
        "import matplotlib.pyplot as plt\n",
        "\n",
        "plt.hist(data['entropy'], bins=15, align='left')\n",
        "\n",
        "# Add axis labels and a title\n",
        "plt.xlabel('Value')\n",
        "plt.ylabel('Frequency')\n",
        "plt.title('Histogram of Values')\n",
        "# Display the plot\n",
        "plt.show()"
      ]
    },
    {
      "cell_type": "code",
      "execution_count": null,
      "metadata": {
        "colab": {
          "base_uri": "https://localhost:8080/"
        },
        "id": "dTMiGKjD7YGF",
        "outputId": "d710aba5-d931-4a2f-b3c9-c2d152856be1"
      },
      "outputs": [
        {
          "name": "stdout",
          "output_type": "stream",
          "text": [
            "-0.0: 462\n",
            "0.5032583347756457: 303\n",
            "0.7642045065086203: 117\n",
            "0.9182958340544896: 68\n",
            "0.9910760598382222: 64\n",
            "1.224394445405986: 2\n",
            "1.3921472236645345: 1\n"
          ]
        },
        {
          "name": "stderr",
          "output_type": "stream",
          "text": [
            "<ipython-input-10-707faf383544>:5: FutureWarning: iteritems is deprecated and will be removed in a future version. Use .items instead.\n",
            "  for index, count in counts.iteritems():\n"
          ]
        }
      ],
      "source": [
        "# count the unique values in the 'fruit' column\n",
        "counts = data['entropy'].value_counts()\n",
        "\n",
        "# print the unique values and their count\n",
        "for index, count in counts.iteritems():\n",
        "    print(f\"{index}: {count}\")"
      ]
    },
    {
      "cell_type": "code",
      "execution_count": null,
      "metadata": {
        "colab": {
          "base_uri": "https://localhost:8080/"
        },
        "id": "sw0vHm8j2wWy",
        "outputId": "58f792e0-22f3-4de8-f239-444a9588f3a7"
      },
      "outputs": [
        {
          "name": "stdout",
          "output_type": "stream",
          "text": [
            "<class 'pandas.core.frame.DataFrame'>\n",
            "RangeIndex: 1017 entries, 0 to 1016\n",
            "Data columns (total 34 columns):\n",
            " #   Column     Non-Null Count  Dtype  \n",
            "---  ------     --------------  -----  \n",
            " 0   sentence1  1017 non-null   object \n",
            " 1   sentence2  1017 non-null   object \n",
            " 2   label      1017 non-null   int64  \n",
            " 3   idx        1017 non-null   int64  \n",
            " 4   text       1017 non-null   object \n",
            " 5   prompt1    1017 non-null   object \n",
            " 6   prompt2    1017 non-null   object \n",
            " 7   prompt3    1017 non-null   object \n",
            " 8   prompt4    1017 non-null   object \n",
            " 9   prompt5    1017 non-null   object \n",
            " 10  prompt6    1017 non-null   object \n",
            " 11  prompt7    1017 non-null   object \n",
            " 12  prompt8    1017 non-null   object \n",
            " 13  prompt9    1017 non-null   object \n",
            " 14  label1     1017 non-null   object \n",
            " 15  label2     1017 non-null   object \n",
            " 16  label3     1017 non-null   object \n",
            " 17  label4     1017 non-null   object \n",
            " 18  label5     1017 non-null   object \n",
            " 19  label6     1017 non-null   object \n",
            " 20  label7     1017 non-null   object \n",
            " 21  label8     1017 non-null   object \n",
            " 22  label9     1017 non-null   object \n",
            " 23  pred1      1017 non-null   int64  \n",
            " 24  pred2      1017 non-null   int64  \n",
            " 25  pred3      1017 non-null   int64  \n",
            " 26  pred4      1017 non-null   int64  \n",
            " 27  pred5      1017 non-null   int64  \n",
            " 28  pred6      1017 non-null   int64  \n",
            " 29  pred7      1017 non-null   int64  \n",
            " 30  pred8      1017 non-null   int64  \n",
            " 31  pred9      1017 non-null   int64  \n",
            " 32  entropy    1017 non-null   float64\n",
            " 33  MV         1017 non-null   int64  \n",
            "dtypes: float64(1), int64(12), object(21)\n",
            "memory usage: 270.3+ KB\n"
          ]
        }
      ],
      "source": [
        "data.info()"
      ]
    },
    {
      "cell_type": "code",
      "execution_count": null,
      "metadata": {
        "colab": {
          "base_uri": "https://localhost:8080/",
          "height": 876
        },
        "id": "GDXsD2fEhJvf",
        "outputId": "056b9bd0-4dcd-4d0a-eddf-10c6ad12d9a9"
      },
      "outputs": [
        {
          "data": {
            "text/html": [
              "\n",
              "  <div id=\"df-c105583f-3479-4ffe-83e3-890223bfd8c2\">\n",
              "    <div class=\"colab-df-container\">\n",
              "      <div>\n",
              "<style scoped>\n",
              "    .dataframe tbody tr th:only-of-type {\n",
              "        vertical-align: middle;\n",
              "    }\n",
              "\n",
              "    .dataframe tbody tr th {\n",
              "        vertical-align: top;\n",
              "    }\n",
              "\n",
              "    .dataframe thead th {\n",
              "        text-align: right;\n",
              "    }\n",
              "</style>\n",
              "<table border=\"1\" class=\"dataframe\">\n",
              "  <thead>\n",
              "    <tr style=\"text-align: right;\">\n",
              "      <th></th>\n",
              "      <th>text</th>\n",
              "      <th>label</th>\n",
              "      <th>MV</th>\n",
              "    </tr>\n",
              "  </thead>\n",
              "  <tbody>\n",
              "    <tr>\n",
              "      <th>18</th>\n",
              "      <td>Sentence1: Board Chancellor Robert Bennett declined to comment on personnel matters Tuesday , as did Mills .\\nSentence2: Mr. Mills declined to comment yesterday , saying that he never discussed personnel matters .</td>\n",
              "      <td>1</td>\n",
              "      <td>1</td>\n",
              "    </tr>\n",
              "    <tr>\n",
              "      <th>28</th>\n",
              "      <td>Sentence1: Britain has said it will oppose articles calling for closer coordination of tax and economic policy , to uphold the national right of veto .\\nSentence2: Britain has said it wants to haggle over articles of the draft calling for closer coordination of tax and economic policy .</td>\n",
              "      <td>0</td>\n",
              "      <td>0</td>\n",
              "    </tr>\n",
              "    <tr>\n",
              "      <th>30</th>\n",
              "      <td>Sentence1: An evaluation suggested there was no overall net clinical benefit in patients receiving the drug in the study , the companies said in a statement distributed by Business Wire .\\nSentence2: An evaluation of 240 arthritis patients suggested there was no overall net clinical benefit from taking the medicine , the companies said in a statement distributed by Business Wire .</td>\n",
              "      <td>1</td>\n",
              "      <td>1</td>\n",
              "    </tr>\n",
              "    <tr>\n",
              "      <th>36</th>\n",
              "      <td>Sentence1: At 5 p.m. EDT , Henri had maximum sustained winds near 50 mph , with some gusts reaching 60 mph .\\nSentence2: At 8 p.m. Friday , Henri was becoming disorganized , but still had maximum sustained winds near 50 mph , with stronger gusts .</td>\n",
              "      <td>0</td>\n",
              "      <td>1</td>\n",
              "    </tr>\n",
              "    <tr>\n",
              "      <th>38</th>\n",
              "      <td>Sentence1: The Institute for Supply Management said its manufacturing index stood at 53.7 in September .\\nSentence2: The Institute for Supply Management 's manufacturing index dipped to 53.7 from 54.7 in August .</td>\n",
              "      <td>0</td>\n",
              "      <td>0</td>\n",
              "    </tr>\n",
              "    <tr>\n",
              "      <th>39</th>\n",
              "      <td>Sentence1: He plans to visit an AIDS clinic in Uganda and meet with infected mothers in Nigeria .\\nSentence2: From there he plans to visit South Africa and make stops in Botswana , Uganda and Nigeria .</td>\n",
              "      <td>0</td>\n",
              "      <td>0</td>\n",
              "    </tr>\n",
              "    <tr>\n",
              "      <th>43</th>\n",
              "      <td>Sentence1: On Friday , the Food and Drug Administration approved the use of silicone breast implants with conditions .\\nSentence2: The drug was approved for use Friday by the Food and Drug Administration .</td>\n",
              "      <td>0</td>\n",
              "      <td>0</td>\n",
              "    </tr>\n",
              "    <tr>\n",
              "      <th>47</th>\n",
              "      <td>Sentence1: Analysts say Davis , who faces a historic recall election in October , could get a boost in the polls with a budget plan in place .\\nSentence2: Analysts say Davis , a Democrat , could get a boost in the polls if the 29-day-old budget crisis is resolved without further delay .</td>\n",
              "      <td>0</td>\n",
              "      <td>0</td>\n",
              "    </tr>\n",
              "    <tr>\n",
              "      <th>64</th>\n",
              "      <td>Sentence1: The long-running newsmagazine Dateline NBC has been cut from three to two airings per week and is searching for a replacement for retiring co-anchor Jane Pauley .\\nSentence2: The long-running newsmagazine Dateline NBC has been cut from three to two airings per week , losing its Tuesday berth .</td>\n",
              "      <td>0</td>\n",
              "      <td>1</td>\n",
              "    </tr>\n",
              "    <tr>\n",
              "      <th>65</th>\n",
              "      <td>Sentence1: For the first quarter , HP pulled in $ 2.94 billion and captured 27.9 percent of the market .\\nSentence2: H-P came in second with nearly $ 3.32 billion in sales and 26 percent of the market 's revenue .</td>\n",
              "      <td>1</td>\n",
              "      <td>0</td>\n",
              "    </tr>\n",
              "    <tr>\n",
              "      <th>71</th>\n",
              "      <td>Sentence1: Neighboring Canada has just decided to legalize same-sex marriage , and they have high hopes that Massachusetts ' supreme court will take a similar step soon .\\nSentence2: Canada has just decided to legalize same-sex marriage , and they have high hope that Massachusetts ' high court will take a similar step within a few weeks .</td>\n",
              "      <td>1</td>\n",
              "      <td>0</td>\n",
              "    </tr>\n",
              "    <tr>\n",
              "      <th>74</th>\n",
              "      <td>Sentence1: Officials with North Carolina Speedway at Rockingham could not be reached .\\nSentence2: NASCAR officials could not be reached for comment Tuesday .</td>\n",
              "      <td>1</td>\n",
              "      <td>1</td>\n",
              "    </tr>\n",
              "    <tr>\n",
              "      <th>82</th>\n",
              "      <td>Sentence1: The single currency rose as far as 135.13 yen , matching a record high hit shortly after the euro 's launch in January 1999 .\\nSentence2: The single currency rose as far as 135.26 yen , its highest level since the introduction of the single currency in January 1999 .</td>\n",
              "      <td>1</td>\n",
              "      <td>1</td>\n",
              "    </tr>\n",
              "    <tr>\n",
              "      <th>96</th>\n",
              "      <td>Sentence1: PowderJect is roughly 20 percent owned by CEO Drayson , a high-profile UK businessman , and his family .\\nSentence2: PowderJect , roughly 20 percent owned by Chief Executive Paul Drayson and his family , reported surging annual profit early this month .</td>\n",
              "      <td>0</td>\n",
              "      <td>1</td>\n",
              "    </tr>\n",
              "    <tr>\n",
              "      <th>108</th>\n",
              "      <td>Sentence1: Despite such optimism , Taiwan 's SARS crisis threatened to whirl out of control this month .\\nSentence2: Despite such optimism , Taiwan 's SARS crisis threatened to whirl out of control in the last week of May .</td>\n",
              "      <td>1</td>\n",
              "      <td>1</td>\n",
              "    </tr>\n",
              "  </tbody>\n",
              "</table>\n",
              "</div>\n",
              "      <button class=\"colab-df-convert\" onclick=\"convertToInteractive('df-c105583f-3479-4ffe-83e3-890223bfd8c2')\"\n",
              "              title=\"Convert this dataframe to an interactive table.\"\n",
              "              style=\"display:none;\">\n",
              "        \n",
              "  <svg xmlns=\"http://www.w3.org/2000/svg\" height=\"24px\"viewBox=\"0 0 24 24\"\n",
              "       width=\"24px\">\n",
              "    <path d=\"M0 0h24v24H0V0z\" fill=\"none\"/>\n",
              "    <path d=\"M18.56 5.44l.94 2.06.94-2.06 2.06-.94-2.06-.94-.94-2.06-.94 2.06-2.06.94zm-11 1L8.5 8.5l.94-2.06 2.06-.94-2.06-.94L8.5 2.5l-.94 2.06-2.06.94zm10 10l.94 2.06.94-2.06 2.06-.94-2.06-.94-.94-2.06-.94 2.06-2.06.94z\"/><path d=\"M17.41 7.96l-1.37-1.37c-.4-.4-.92-.59-1.43-.59-.52 0-1.04.2-1.43.59L10.3 9.45l-7.72 7.72c-.78.78-.78 2.05 0 2.83L4 21.41c.39.39.9.59 1.41.59.51 0 1.02-.2 1.41-.59l7.78-7.78 2.81-2.81c.8-.78.8-2.07 0-2.86zM5.41 20L4 18.59l7.72-7.72 1.47 1.35L5.41 20z\"/>\n",
              "  </svg>\n",
              "      </button>\n",
              "      \n",
              "  <style>\n",
              "    .colab-df-container {\n",
              "      display:flex;\n",
              "      flex-wrap:wrap;\n",
              "      gap: 12px;\n",
              "    }\n",
              "\n",
              "    .colab-df-convert {\n",
              "      background-color: #E8F0FE;\n",
              "      border: none;\n",
              "      border-radius: 50%;\n",
              "      cursor: pointer;\n",
              "      display: none;\n",
              "      fill: #1967D2;\n",
              "      height: 32px;\n",
              "      padding: 0 0 0 0;\n",
              "      width: 32px;\n",
              "    }\n",
              "\n",
              "    .colab-df-convert:hover {\n",
              "      background-color: #E2EBFA;\n",
              "      box-shadow: 0px 1px 2px rgba(60, 64, 67, 0.3), 0px 1px 3px 1px rgba(60, 64, 67, 0.15);\n",
              "      fill: #174EA6;\n",
              "    }\n",
              "\n",
              "    [theme=dark] .colab-df-convert {\n",
              "      background-color: #3B4455;\n",
              "      fill: #D2E3FC;\n",
              "    }\n",
              "\n",
              "    [theme=dark] .colab-df-convert:hover {\n",
              "      background-color: #434B5C;\n",
              "      box-shadow: 0px 1px 3px 1px rgba(0, 0, 0, 0.15);\n",
              "      filter: drop-shadow(0px 1px 2px rgba(0, 0, 0, 0.3));\n",
              "      fill: #FFFFFF;\n",
              "    }\n",
              "  </style>\n",
              "\n",
              "      <script>\n",
              "        const buttonEl =\n",
              "          document.querySelector('#df-c105583f-3479-4ffe-83e3-890223bfd8c2 button.colab-df-convert');\n",
              "        buttonEl.style.display =\n",
              "          google.colab.kernel.accessAllowed ? 'block' : 'none';\n",
              "\n",
              "        async function convertToInteractive(key) {\n",
              "          const element = document.querySelector('#df-c105583f-3479-4ffe-83e3-890223bfd8c2');\n",
              "          const dataTable =\n",
              "            await google.colab.kernel.invokeFunction('convertToInteractive',\n",
              "                                                     [key], {});\n",
              "          if (!dataTable) return;\n",
              "\n",
              "          const docLinkHtml = 'Like what you see? Visit the ' +\n",
              "            '<a target=\"_blank\" href=https://colab.research.google.com/notebooks/data_table.ipynb>data table notebook</a>'\n",
              "            + ' to learn more about interactive tables.';\n",
              "          element.innerHTML = '';\n",
              "          dataTable['output_type'] = 'display_data';\n",
              "          await google.colab.output.renderOutput(dataTable, element);\n",
              "          const docLink = document.createElement('div');\n",
              "          docLink.innerHTML = docLinkHtml;\n",
              "          element.appendChild(docLink);\n",
              "        }\n",
              "      </script>\n",
              "    </div>\n",
              "  </div>\n",
              "  "
            ],
            "text/plain": [
              "                                                                                                                                                                                                                                                                                                                                                                                                text  \\\n",
              "18                                                                                                                                                                             Sentence1: Board Chancellor Robert Bennett declined to comment on personnel matters Tuesday , as did Mills .\\nSentence2: Mr. Mills declined to comment yesterday , saying that he never discussed personnel matters .   \n",
              "28                                                                                                   Sentence1: Britain has said it will oppose articles calling for closer coordination of tax and economic policy , to uphold the national right of veto .\\nSentence2: Britain has said it wants to haggle over articles of the draft calling for closer coordination of tax and economic policy .   \n",
              "30   Sentence1: An evaluation suggested there was no overall net clinical benefit in patients receiving the drug in the study , the companies said in a statement distributed by Business Wire .\\nSentence2: An evaluation of 240 arthritis patients suggested there was no overall net clinical benefit from taking the medicine , the companies said in a statement distributed by Business Wire .   \n",
              "36                                                                                                                                           Sentence1: At 5 p.m. EDT , Henri had maximum sustained winds near 50 mph , with some gusts reaching 60 mph .\\nSentence2: At 8 p.m. Friday , Henri was becoming disorganized , but still had maximum sustained winds near 50 mph , with stronger gusts .   \n",
              "38                                                                                                                                                                              Sentence1: The Institute for Supply Management said its manufacturing index stood at 53.7 in September .\\nSentence2: The Institute for Supply Management 's manufacturing index dipped to 53.7 from 54.7 in August .   \n",
              "39                                                                                                                                                                                         Sentence1: He plans to visit an AIDS clinic in Uganda and meet with infected mothers in Nigeria .\\nSentence2: From there he plans to visit South Africa and make stops in Botswana , Uganda and Nigeria .   \n",
              "43                                                                                                                                                                                     Sentence1: On Friday , the Food and Drug Administration approved the use of silicone breast implants with conditions .\\nSentence2: The drug was approved for use Friday by the Food and Drug Administration .   \n",
              "47                                                                                                   Sentence1: Analysts say Davis , who faces a historic recall election in October , could get a boost in the polls with a budget plan in place .\\nSentence2: Analysts say Davis , a Democrat , could get a boost in the polls if the 29-day-old budget crisis is resolved without further delay .   \n",
              "64                                                                                 Sentence1: The long-running newsmagazine Dateline NBC has been cut from three to two airings per week and is searching for a replacement for retiring co-anchor Jane Pauley .\\nSentence2: The long-running newsmagazine Dateline NBC has been cut from three to two airings per week , losing its Tuesday berth .   \n",
              "65                                                                                                                                                                             Sentence1: For the first quarter , HP pulled in $ 2.94 billion and captured 27.9 percent of the market .\\nSentence2: H-P came in second with nearly $ 3.32 billion in sales and 26 percent of the market 's revenue .   \n",
              "71                                              Sentence1: Neighboring Canada has just decided to legalize same-sex marriage , and they have high hopes that Massachusetts ' supreme court will take a similar step soon .\\nSentence2: Canada has just decided to legalize same-sex marriage , and they have high hope that Massachusetts ' high court will take a similar step within a few weeks .   \n",
              "74                                                                                                                                                                                                                                    Sentence1: Officials with North Carolina Speedway at Rockingham could not be reached .\\nSentence2: NASCAR officials could not be reached for comment Tuesday .   \n",
              "82                                                                                                            Sentence1: The single currency rose as far as 135.13 yen , matching a record high hit shortly after the euro 's launch in January 1999 .\\nSentence2: The single currency rose as far as 135.26 yen , its highest level since the introduction of the single currency in January 1999 .   \n",
              "96                                                                                                                          Sentence1: PowderJect is roughly 20 percent owned by CEO Drayson , a high-profile UK businessman , and his family .\\nSentence2: PowderJect , roughly 20 percent owned by Chief Executive Paul Drayson and his family , reported surging annual profit early this month .   \n",
              "108                                                                                                                                                                  Sentence1: Despite such optimism , Taiwan 's SARS crisis threatened to whirl out of control this month .\\nSentence2: Despite such optimism , Taiwan 's SARS crisis threatened to whirl out of control in the last week of May .   \n",
              "\n",
              "     label  MV  \n",
              "18       1   1  \n",
              "28       0   0  \n",
              "30       1   1  \n",
              "36       0   1  \n",
              "38       0   0  \n",
              "39       0   0  \n",
              "43       0   0  \n",
              "47       0   0  \n",
              "64       0   1  \n",
              "65       1   0  \n",
              "71       1   0  \n",
              "74       1   1  \n",
              "82       1   1  \n",
              "96       0   1  \n",
              "108      1   1  "
            ]
          },
          "execution_count": 13,
          "metadata": {},
          "output_type": "execute_result"
        }
      ],
      "source": [
        "#qualitative study of those with high entropy\n",
        "pd.set_option('display.max_colwidth', None)\n",
        "df_high=data[data['entropy']>0.8]\n",
        "df_high.head(15)[['text','label','MV']]"
      ]
    },
    {
      "cell_type": "code",
      "execution_count": null,
      "metadata": {
        "colab": {
          "base_uri": "https://localhost:8080/"
        },
        "id": "kP2v4s8j79ru",
        "outputId": "574e4ce2-11ba-4aa2-f839-f843ef5b60f8"
      },
      "outputs": [
        {
          "name": "stdout",
          "output_type": "stream",
          "text": [
            "266\n"
          ]
        }
      ],
      "source": [
        "#length calculation for cost computation\n",
        "df_low=data[data['entropy']<0.2]\n",
        "print(df_low.shape[0])\n",
        "df=df_low\n",
        "df['length1']=df['prompt1'].apply(lambda x:len(x.split()))\n",
        "df['length2']=df['prompt2'].apply(lambda x:len(x.split()))\n",
        "df['length3']=df['prompt3'].apply(lambda x:len(x.split()))\n",
        "df['length4']=df['prompt4'].apply(lambda x:len(x.split()))\n",
        "df['length5']=df['prompt5'].apply(lambda x:len(x.split()))\n",
        "df['length6']=df['prompt6'].apply(lambda x:len(x.split()))\n",
        "df['length7']=df['prompt7'].apply(lambda x:len(x.split()))\n",
        "df['length8']=df['prompt8'].apply(lambda x:len(x.split()))\n",
        "df['length9']=df['prompt9'].apply(lambda x:len(x.split()))\n",
        "df['length10']=df['prompt10'].apply(lambda x:len(x.split()))\n",
        "df['length11']=df['prompt11'].apply(lambda x:len(x.split()))\n",
        "df['length12']=df['prompt12'].apply(lambda x:len(x.split()))\n",
        "df['length13']=df['prompt13'].apply(lambda x:len(x.split()))\n",
        "df['length']=df['length1']+df['length2']+df['length3']+df['length4']+df['length5']+df['length6']+df['length7']+df['length8']+df['length9']+df['length10']+df['length11']+df['length12']+df['length13']\n",
        "#sum(df['length'].tolist())"
      ]
    },
    {
      "cell_type": "code",
      "execution_count": null,
      "metadata": {
        "colab": {
          "base_uri": "https://localhost:8080/"
        },
        "id": "lljHhLxuaChh",
        "outputId": "efa3eca0-33ee-4f92-e36d-4aa983b54376"
      },
      "outputs": [
        {
          "data": {
            "text/plain": [
              "[\"Title: Wall St. Bears Claw Back Into the Black Description:  NEW YORK (Reuters) - Short-sellers, Wall Street's dwindling  band of ultra-cynics, are seeing green again.\",\n",
              " \"Title: Rescuing an Old Saver Description: If you think you may need to help your elderly relatives with their finances, don't be shy about having the money talk -- soon.\",\n",
              " 'Title: Veteran inventor in market float Description: Trevor Baylis, the veteran inventor famous for creating the Freeplay clockwork radio, is planning to float his company on the stock market.',\n",
              " 'Title: Quality Gets Swept Away Description: Quality Distribution is hammered after reporting a large loss for the second quarter.',\n",
              " \"Title: What's Cool In the Pool ... ... And Hot On the Deck Description: Americans are spending more on tricking out the places where they swim. Here's a look at the new wave of accessories\"]"
            ]
          },
          "execution_count": 10,
          "metadata": {},
          "output_type": "execute_result"
        }
      ],
      "source": [
        "df_low['text'].tolist()[:5]"
      ]
    },
    {
      "cell_type": "code",
      "execution_count": null,
      "metadata": {
        "id": "-wavQMyy9SoW"
      },
      "outputs": [],
      "source": [
        "def calculate_alignment(threshold, df_input):\n",
        "  df_low=df_input[df_input['entropy']<=threshold]\n",
        "  print(df_low.shape[0])\n",
        "  df_low_correct1=df_low[df_low['MV']==df_low['label']]\n",
        "  return df_low_correct1.shape[0]/df_low.shape[0]"
      ]
    },
    {
      "cell_type": "code",
      "execution_count": null,
      "metadata": {
        "colab": {
          "base_uri": "https://localhost:8080/"
        },
        "id": "qYvGm6fUBM5N",
        "outputId": "014ce84e-f079-48b1-e42e-3a2cf74abb8c"
      },
      "outputs": [
        {
          "name": "stdout",
          "output_type": "stream",
          "text": [
            "770\n"
          ]
        },
        {
          "data": {
            "text/plain": [
              "0.7584415584415585"
            ]
          },
          "execution_count": 11,
          "metadata": {},
          "output_type": "execute_result"
        }
      ],
      "source": [
        "calculate_alignment(0.6, data)"
      ]
    },
    {
      "cell_type": "code",
      "execution_count": null,
      "metadata": {
        "colab": {
          "base_uri": "https://localhost:8080/"
        },
        "id": "06lGS9fgKLjv",
        "outputId": "21a2eb99-d865-4dce-e4bc-e595726477da"
      },
      "outputs": [
        {
          "name": "stdout",
          "output_type": "stream",
          "text": [
            "462\n",
            "462\n",
            "462\n",
            "765\n",
            "882\n",
            "1014\n"
          ]
        },
        {
          "data": {
            "text/plain": [
              "[0.7965367965367965,\n",
              " 0.7965367965367965,\n",
              " 0.7965367965367965,\n",
              " 0.7620915032679738,\n",
              " 0.7290249433106576,\n",
              " 0.7120315581854043]"
            ]
          },
          "execution_count": 16,
          "metadata": {},
          "output_type": "execute_result"
        }
      ],
      "source": [
        "x = [0, 0.2, 0.4, 0.6, 0.8, 1]\n",
        "y = [calculate_alignment(i, data) for i in x]\n",
        "y"
      ]
    },
    {
      "cell_type": "code",
      "execution_count": null,
      "metadata": {
        "colab": {
          "base_uri": "https://localhost:8080/",
          "height": 539
        },
        "id": "-FYfmfNwB8-8",
        "outputId": "3538a8d9-7ad5-49b9-ddbb-c8ef836147d6"
      },
      "outputs": [
        {
          "name": "stdout",
          "output_type": "stream",
          "text": [
            "462\n",
            "462\n",
            "462\n",
            "765\n",
            "882\n",
            "1014\n"
          ]
        },
        {
          "data": {
            "image/png": "[encoded data removed]",
            "text/plain": [
              "<Figure size 640x480 with 1 Axes>"
            ]
          },
          "metadata": {},
          "output_type": "display_data"
        }
      ],
      "source": [
        "import matplotlib.pyplot as plt\n",
        "import numpy as np\n",
        "\n",
        "x = [0, 0.2, 0.4, 0.6, 0.8, 1]\n",
        "y = [calculate_alignment(i, data) for i in x]\n",
        "\n",
        "plt.scatter(x, y, s=80, facecolors='none', edgecolors='r')\n",
        "plt.show()"
      ]
    },
    {
      "cell_type": "code",
      "execution_count": null,
      "metadata": {
        "id": "bH-186UG76UP"
      },
      "outputs": [],
      "source": [
        "data['MV_yes']=data['MV'].apply(lambda x:1 if x==1 else 0)\n",
        "data['MV_no']=data['MV'].apply(lambda x:1 if x==0 else 0)\n",
        "data['label_yes']=data['label'].apply(lambda x:1 if x==1 else 0)\n",
        "data['label_no']=data['label'].apply(lambda x:1 if x==0 else 0)"
      ]
    },
    {
      "cell_type": "code",
      "execution_count": null,
      "metadata": {
        "colab": {
          "base_uri": "https://localhost:8080/",
          "height": 751
        },
        "id": "xlCZ12ECSYt2",
        "outputId": "5864b3b6-5f7a-4087-aa18-7634beb62887"
      },
      "outputs": [
        {
          "output_type": "stream",
          "name": "stdout",
          "text": [
            "610\n"
          ]
        },
        {
          "output_type": "execute_result",
          "data": {
            "text/plain": [
              "                                           sentence1  \\\n",
              "0  Bush said that he ordered the Treasury Departm...   \n",
              "1  Strong spokeswoman Stephanie Truog said , \" We...   \n",
              "2  Many of the victims of Sunday 's attack had be...   \n",
              "3  \" The bank requires growth from elsewhere in t...   \n",
              "4  Tyco later said the loan had not been forgiven...   \n",
              "\n",
              "                                           sentence2  label   idx  \\\n",
              "0  Bush said in a statement that he ordered the U...      1  3154   \n",
              "1  Strong Financial released a statement Wednesda...      0  3402   \n",
              "2  Many of the victims had been headed home for R...      0  3958   \n",
              "3  The Bank of England \" requires growth from els...      1  1410   \n",
              "4  Tyco has said the loan was not forgiven , but ...      1   142   \n",
              "\n",
              "                                                text  \\\n",
              "0  Sentence1: Bush said that he ordered the Treas...   \n",
              "1  Sentence1: Strong spokeswoman Stephanie Truog ...   \n",
              "2  Sentence1: Many of the victims of Sunday 's at...   \n",
              "3  Sentence1: \" The bank requires growth from els...   \n",
              "4  Sentence1: Tyco later said the loan had not be...   \n",
              "\n",
              "                                             prompt1  \\\n",
              "0  Please label if the following two sentences ar...   \n",
              "1  Please label if the following two sentences ar...   \n",
              "2  Please label if the following two sentences ar...   \n",
              "3  Please label if the following two sentences ar...   \n",
              "4  Please label if the following two sentences ar...   \n",
              "\n",
              "                                             prompt2  \\\n",
              "0  Sentence1: Bush said that he ordered the Treas...   \n",
              "1  Sentence1: Strong spokeswoman Stephanie Truog ...   \n",
              "2  Sentence1: Many of the victims of Sunday 's at...   \n",
              "3  Sentence1: \" The bank requires growth from els...   \n",
              "4  Sentence1: Tyco later said the loan had not be...   \n",
              "\n",
              "                                             prompt3  \\\n",
              "0  Given the following two sentences, please clas...   \n",
              "1  Given the following two sentences, please clas...   \n",
              "2  Given the following two sentences, please clas...   \n",
              "3  Given the following two sentences, please clas...   \n",
              "4  Given the following two sentences, please clas...   \n",
              "\n",
              "                                             prompt4  \\\n",
              "0  Is it true that the following two sentences ar...   \n",
              "1  Is it true that the following two sentences ar...   \n",
              "2  Is it true that the following two sentences ar...   \n",
              "3  Is it true that the following two sentences ar...   \n",
              "4  Is it true that the following two sentences ar...   \n",
              "\n",
              "                                             prompt5  ... pred7 pred8 pred9  \\\n",
              "0  Is it true that the following two sentences ar...  ...     1     1     1   \n",
              "1  Is it true that the following two sentences ar...  ...     1     1     1   \n",
              "2  Is it true that the following two sentences ar...  ...     1     1     1   \n",
              "3  Is it true that the following two sentences ar...  ...     1     1     1   \n",
              "4  Is it true that the following two sentences ar...  ...     1     1     1   \n",
              "\n",
              "  entropy MV MV_yes MV_no label_yes label_no allocate  \n",
              "0    -0.0  1      1     0         1        0        1  \n",
              "1    -0.0  1      1     0         0        1        1  \n",
              "2    -0.0  1      1     0         0        1        1  \n",
              "3    -0.0  1      1     0         1        0        1  \n",
              "4    -0.0  1      1     0         1        0        1  \n",
              "\n",
              "[5 rows x 39 columns]"
            ],
            "text/html": [
              "\n",
              "  <div id=\"df-d7fa3eb7-c89b-44a7-af00-4f27bba6a76d\">\n",
              "    <div class=\"colab-df-container\">\n",
              "      <div>\n",
              "<style scoped>\n",
              "    .dataframe tbody tr th:only-of-type {\n",
              "        vertical-align: middle;\n",
              "    }\n",
              "\n",
              "    .dataframe tbody tr th {\n",
              "        vertical-align: top;\n",
              "    }\n",
              "\n",
              "    .dataframe thead th {\n",
              "        text-align: right;\n",
              "    }\n",
              "</style>\n",
              "<table border=\"1\" class=\"dataframe\">\n",
              "  <thead>\n",
              "    <tr style=\"text-align: right;\">\n",
              "      <th></th>\n",
              "      <th>sentence1</th>\n",
              "      <th>sentence2</th>\n",
              "      <th>label</th>\n",
              "      <th>idx</th>\n",
              "      <th>text</th>\n",
              "      <th>prompt1</th>\n",
              "      <th>prompt2</th>\n",
              "      <th>prompt3</th>\n",
              "      <th>prompt4</th>\n",
              "      <th>prompt5</th>\n",
              "      <th>...</th>\n",
              "      <th>pred7</th>\n",
              "      <th>pred8</th>\n",
              "      <th>pred9</th>\n",
              "      <th>entropy</th>\n",
              "      <th>MV</th>\n",
              "      <th>MV_yes</th>\n",
              "      <th>MV_no</th>\n",
              "      <th>label_yes</th>\n",
              "      <th>label_no</th>\n",
              "      <th>allocate</th>\n",
              "    </tr>\n",
              "  </thead>\n",
              "  <tbody>\n",
              "    <tr>\n",
              "      <th>0</th>\n",
              "      <td>Bush said that he ordered the Treasury Departm...</td>\n",
              "      <td>Bush said in a statement that he ordered the U...</td>\n",
              "      <td>1</td>\n",
              "      <td>3154</td>\n",
              "      <td>Sentence1: Bush said that he ordered the Treas...</td>\n",
              "      <td>Please label if the following two sentences ar...</td>\n",
              "      <td>Sentence1: Bush said that he ordered the Treas...</td>\n",
              "      <td>Given the following two sentences, please clas...</td>\n",
              "      <td>Is it true that the following two sentences ar...</td>\n",
              "      <td>Is it true that the following two sentences ar...</td>\n",
              "      <td>...</td>\n",
              "      <td>1</td>\n",
              "      <td>1</td>\n",
              "      <td>1</td>\n",
              "      <td>-0.0</td>\n",
              "      <td>1</td>\n",
              "      <td>1</td>\n",
              "      <td>0</td>\n",
              "      <td>1</td>\n",
              "      <td>0</td>\n",
              "      <td>1</td>\n",
              "    </tr>\n",
              "    <tr>\n",
              "      <th>1</th>\n",
              "      <td>Strong spokeswoman Stephanie Truog said , \" We...</td>\n",
              "      <td>Strong Financial released a statement Wednesda...</td>\n",
              "      <td>0</td>\n",
              "      <td>3402</td>\n",
              "      <td>Sentence1: Strong spokeswoman Stephanie Truog ...</td>\n",
              "      <td>Please label if the following two sentences ar...</td>\n",
              "      <td>Sentence1: Strong spokeswoman Stephanie Truog ...</td>\n",
              "      <td>Given the following two sentences, please clas...</td>\n",
              "      <td>Is it true that the following two sentences ar...</td>\n",
              "      <td>Is it true that the following two sentences ar...</td>\n",
              "      <td>...</td>\n",
              "      <td>1</td>\n",
              "      <td>1</td>\n",
              "      <td>1</td>\n",
              "      <td>-0.0</td>\n",
              "      <td>1</td>\n",
              "      <td>1</td>\n",
              "      <td>0</td>\n",
              "      <td>0</td>\n",
              "      <td>1</td>\n",
              "      <td>1</td>\n",
              "    </tr>\n",
              "    <tr>\n",
              "      <th>2</th>\n",
              "      <td>Many of the victims of Sunday 's attack had be...</td>\n",
              "      <td>Many of the victims had been headed home for R...</td>\n",
              "      <td>0</td>\n",
              "      <td>3958</td>\n",
              "      <td>Sentence1: Many of the victims of Sunday 's at...</td>\n",
              "      <td>Please label if the following two sentences ar...</td>\n",
              "      <td>Sentence1: Many of the victims of Sunday 's at...</td>\n",
              "      <td>Given the following two sentences, please clas...</td>\n",
              "      <td>Is it true that the following two sentences ar...</td>\n",
              "      <td>Is it true that the following two sentences ar...</td>\n",
              "      <td>...</td>\n",
              "      <td>1</td>\n",
              "      <td>1</td>\n",
              "      <td>1</td>\n",
              "      <td>-0.0</td>\n",
              "      <td>1</td>\n",
              "      <td>1</td>\n",
              "      <td>0</td>\n",
              "      <td>0</td>\n",
              "      <td>1</td>\n",
              "      <td>1</td>\n",
              "    </tr>\n",
              "    <tr>\n",
              "      <th>3</th>\n",
              "      <td>\" The bank requires growth from elsewhere in t...</td>\n",
              "      <td>The Bank of England \" requires growth from els...</td>\n",
              "      <td>1</td>\n",
              "      <td>1410</td>\n",
              "      <td>Sentence1: \" The bank requires growth from els...</td>\n",
              "      <td>Please label if the following two sentences ar...</td>\n",
              "      <td>Sentence1: \" The bank requires growth from els...</td>\n",
              "      <td>Given the following two sentences, please clas...</td>\n",
              "      <td>Is it true that the following two sentences ar...</td>\n",
              "      <td>Is it true that the following two sentences ar...</td>\n",
              "      <td>...</td>\n",
              "      <td>1</td>\n",
              "      <td>1</td>\n",
              "      <td>1</td>\n",
              "      <td>-0.0</td>\n",
              "      <td>1</td>\n",
              "      <td>1</td>\n",
              "      <td>0</td>\n",
              "      <td>1</td>\n",
              "      <td>0</td>\n",
              "      <td>1</td>\n",
              "    </tr>\n",
              "    <tr>\n",
              "      <th>4</th>\n",
              "      <td>Tyco later said the loan had not been forgiven...</td>\n",
              "      <td>Tyco has said the loan was not forgiven , but ...</td>\n",
              "      <td>1</td>\n",
              "      <td>142</td>\n",
              "      <td>Sentence1: Tyco later said the loan had not be...</td>\n",
              "      <td>Please label if the following two sentences ar...</td>\n",
              "      <td>Sentence1: Tyco later said the loan had not be...</td>\n",
              "      <td>Given the following two sentences, please clas...</td>\n",
              "      <td>Is it true that the following two sentences ar...</td>\n",
              "      <td>Is it true that the following two sentences ar...</td>\n",
              "      <td>...</td>\n",
              "      <td>1</td>\n",
              "      <td>1</td>\n",
              "      <td>1</td>\n",
              "      <td>-0.0</td>\n",
              "      <td>1</td>\n",
              "      <td>1</td>\n",
              "      <td>0</td>\n",
              "      <td>1</td>\n",
              "      <td>0</td>\n",
              "      <td>1</td>\n",
              "    </tr>\n",
              "  </tbody>\n",
              "</table>\n",
              "<p>5 rows × 39 columns</p>\n",
              "</div>\n",
              "      <button class=\"colab-df-convert\" onclick=\"convertToInteractive('df-d7fa3eb7-c89b-44a7-af00-4f27bba6a76d')\"\n",
              "              title=\"Convert this dataframe to an interactive table.\"\n",
              "              style=\"display:none;\">\n",
              "        \n",
              "  <svg xmlns=\"http://www.w3.org/2000/svg\" height=\"24px\"viewBox=\"0 0 24 24\"\n",
              "       width=\"24px\">\n",
              "    <path d=\"M0 0h24v24H0V0z\" fill=\"none\"/>\n",
              "    <path d=\"M18.56 5.44l.94 2.06.94-2.06 2.06-.94-2.06-.94-.94-2.06-.94 2.06-2.06.94zm-11 1L8.5 8.5l.94-2.06 2.06-.94-2.06-.94L8.5 2.5l-.94 2.06-2.06.94zm10 10l.94 2.06.94-2.06 2.06-.94-2.06-.94-.94-2.06-.94 2.06-2.06.94z\"/><path d=\"M17.41 7.96l-1.37-1.37c-.4-.4-.92-.59-1.43-.59-.52 0-1.04.2-1.43.59L10.3 9.45l-7.72 7.72c-.78.78-.78 2.05 0 2.83L4 21.41c.39.39.9.59 1.41.59.51 0 1.02-.2 1.41-.59l7.78-7.78 2.81-2.81c.8-.78.8-2.07 0-2.86zM5.41 20L4 18.59l7.72-7.72 1.47 1.35L5.41 20z\"/>\n",
              "  </svg>\n",
              "      </button>\n",
              "      \n",
              "  <style>\n",
              "    .colab-df-container {\n",
              "      display:flex;\n",
              "      flex-wrap:wrap;\n",
              "      gap: 12px;\n",
              "    }\n",
              "\n",
              "    .colab-df-convert {\n",
              "      background-color: #E8F0FE;\n",
              "      border: none;\n",
              "      border-radius: 50%;\n",
              "      cursor: pointer;\n",
              "      display: none;\n",
              "      fill: #1967D2;\n",
              "      height: 32px;\n",
              "      padding: 0 0 0 0;\n",
              "      width: 32px;\n",
              "    }\n",
              "\n",
              "    .colab-df-convert:hover {\n",
              "      background-color: #E2EBFA;\n",
              "      box-shadow: 0px 1px 2px rgba(60, 64, 67, 0.3), 0px 1px 3px 1px rgba(60, 64, 67, 0.15);\n",
              "      fill: #174EA6;\n",
              "    }\n",
              "\n",
              "    [theme=dark] .colab-df-convert {\n",
              "      background-color: #3B4455;\n",
              "      fill: #D2E3FC;\n",
              "    }\n",
              "\n",
              "    [theme=dark] .colab-df-convert:hover {\n",
              "      background-color: #434B5C;\n",
              "      box-shadow: 0px 1px 3px 1px rgba(0, 0, 0, 0.15);\n",
              "      filter: drop-shadow(0px 1px 2px rgba(0, 0, 0, 0.3));\n",
              "      fill: #FFFFFF;\n",
              "    }\n",
              "  </style>\n",
              "\n",
              "      <script>\n",
              "        const buttonEl =\n",
              "          document.querySelector('#df-d7fa3eb7-c89b-44a7-af00-4f27bba6a76d button.colab-df-convert');\n",
              "        buttonEl.style.display =\n",
              "          google.colab.kernel.accessAllowed ? 'block' : 'none';\n",
              "\n",
              "        async function convertToInteractive(key) {\n",
              "          const element = document.querySelector('#df-d7fa3eb7-c89b-44a7-af00-4f27bba6a76d');\n",
              "          const dataTable =\n",
              "            await google.colab.kernel.invokeFunction('convertToInteractive',\n",
              "                                                     [key], {});\n",
              "          if (!dataTable) return;\n",
              "\n",
              "          const docLinkHtml = 'Like what you see? Visit the ' +\n",
              "            '<a target=\"_blank\" href=https://colab.research.google.com/notebooks/data_table.ipynb>data table notebook</a>'\n",
              "            + ' to learn more about interactive tables.';\n",
              "          element.innerHTML = '';\n",
              "          dataTable['output_type'] = 'display_data';\n",
              "          await google.colab.output.renderOutput(dataTable, element);\n",
              "          const docLink = document.createElement('div');\n",
              "          docLink.innerHTML = docLinkHtml;\n",
              "          element.appendChild(docLink);\n",
              "        }\n",
              "      </script>\n",
              "    </div>\n",
              "  </div>\n",
              "  "
            ]
          },
          "metadata": {},
          "execution_count": 149
        }
      ],
      "source": [
        "import pandas as pd\n",
        "df=data\n",
        "df=df.sort_values(by='entropy',ignore_index=True)\n",
        "# Assuming your dataframe is called 'df'\n",
        "total_rows = df.shape[0]\n",
        "num_rows_20_percent = int(total_rows * 0.6) #can change this to 0.2, 0.4, 0.6, 0.8\n",
        "print(num_rows_20_percent)\n",
        "\n",
        "df['allocate'] = 0  # Initialize the new column with 0\n",
        "df.loc[:num_rows_20_percent-1, 'allocate'] = 1  # Assign 1 to the first 20% of rows\n",
        "\n",
        "df.head()"
      ]
    },
    {
      "cell_type": "code",
      "execution_count": null,
      "metadata": {
        "colab": {
          "base_uri": "https://localhost:8080/",
          "height": 734
        },
        "id": "WxS4YXfA730N",
        "outputId": "b173d5b1-ee33-450a-ddb0-233c3c7f1ed4"
      },
      "outputs": [
        {
          "output_type": "execute_result",
          "data": {
            "text/plain": [
              "                                           sentence1  \\\n",
              "0  Bush said that he ordered the Treasury Departm...   \n",
              "1  Strong spokeswoman Stephanie Truog said , \" We...   \n",
              "2  Many of the victims of Sunday 's attack had be...   \n",
              "3  \" The bank requires growth from elsewhere in t...   \n",
              "4  Tyco later said the loan had not been forgiven...   \n",
              "\n",
              "                                           sentence2  label   idx  \\\n",
              "0  Bush said in a statement that he ordered the U...      1  3154   \n",
              "1  Strong Financial released a statement Wednesda...      0  3402   \n",
              "2  Many of the victims had been headed home for R...      0  3958   \n",
              "3  The Bank of England \" requires growth from els...      1  1410   \n",
              "4  Tyco has said the loan was not forgiven , but ...      1   142   \n",
              "\n",
              "                                                text  \\\n",
              "0  Sentence1: Bush said that he ordered the Treas...   \n",
              "1  Sentence1: Strong spokeswoman Stephanie Truog ...   \n",
              "2  Sentence1: Many of the victims of Sunday 's at...   \n",
              "3  Sentence1: \" The bank requires growth from els...   \n",
              "4  Sentence1: Tyco later said the loan had not be...   \n",
              "\n",
              "                                             prompt1  \\\n",
              "0  Please label if the following two sentences ar...   \n",
              "1  Please label if the following two sentences ar...   \n",
              "2  Please label if the following two sentences ar...   \n",
              "3  Please label if the following two sentences ar...   \n",
              "4  Please label if the following two sentences ar...   \n",
              "\n",
              "                                             prompt2  \\\n",
              "0  Sentence1: Bush said that he ordered the Treas...   \n",
              "1  Sentence1: Strong spokeswoman Stephanie Truog ...   \n",
              "2  Sentence1: Many of the victims of Sunday 's at...   \n",
              "3  Sentence1: \" The bank requires growth from els...   \n",
              "4  Sentence1: Tyco later said the loan had not be...   \n",
              "\n",
              "                                             prompt3  \\\n",
              "0  Given the following two sentences, please clas...   \n",
              "1  Given the following two sentences, please clas...   \n",
              "2  Given the following two sentences, please clas...   \n",
              "3  Given the following two sentences, please clas...   \n",
              "4  Given the following two sentences, please clas...   \n",
              "\n",
              "                                             prompt4  \\\n",
              "0  Is it true that the following two sentences ar...   \n",
              "1  Is it true that the following two sentences ar...   \n",
              "2  Is it true that the following two sentences ar...   \n",
              "3  Is it true that the following two sentences ar...   \n",
              "4  Is it true that the following two sentences ar...   \n",
              "\n",
              "                                             prompt5  ... pred9 entropy MV  \\\n",
              "0  Is it true that the following two sentences ar...  ...     1    -0.0  1   \n",
              "1  Is it true that the following two sentences ar...  ...     1    -0.0  1   \n",
              "2  Is it true that the following two sentences ar...  ...     1    -0.0  1   \n",
              "3  Is it true that the following two sentences ar...  ...     1    -0.0  1   \n",
              "4  Is it true that the following two sentences ar...  ...     1    -0.0  1   \n",
              "\n",
              "  MV_yes MV_no label_yes label_no allocate yes no  \n",
              "0      1     0         1        0        1   1  0  \n",
              "1      1     0         0        1        1   1  0  \n",
              "2      1     0         0        1        1   1  0  \n",
              "3      1     0         1        0        1   1  0  \n",
              "4      1     0         1        0        1   1  0  \n",
              "\n",
              "[5 rows x 41 columns]"
            ],
            "text/html": [
              "\n",
              "  <div id=\"df-3fb0a350-0f84-43ee-b937-6e7608deec04\">\n",
              "    <div class=\"colab-df-container\">\n",
              "      <div>\n",
              "<style scoped>\n",
              "    .dataframe tbody tr th:only-of-type {\n",
              "        vertical-align: middle;\n",
              "    }\n",
              "\n",
              "    .dataframe tbody tr th {\n",
              "        vertical-align: top;\n",
              "    }\n",
              "\n",
              "    .dataframe thead th {\n",
              "        text-align: right;\n",
              "    }\n",
              "</style>\n",
              "<table border=\"1\" class=\"dataframe\">\n",
              "  <thead>\n",
              "    <tr style=\"text-align: right;\">\n",
              "      <th></th>\n",
              "      <th>sentence1</th>\n",
              "      <th>sentence2</th>\n",
              "      <th>label</th>\n",
              "      <th>idx</th>\n",
              "      <th>text</th>\n",
              "      <th>prompt1</th>\n",
              "      <th>prompt2</th>\n",
              "      <th>prompt3</th>\n",
              "      <th>prompt4</th>\n",
              "      <th>prompt5</th>\n",
              "      <th>...</th>\n",
              "      <th>pred9</th>\n",
              "      <th>entropy</th>\n",
              "      <th>MV</th>\n",
              "      <th>MV_yes</th>\n",
              "      <th>MV_no</th>\n",
              "      <th>label_yes</th>\n",
              "      <th>label_no</th>\n",
              "      <th>allocate</th>\n",
              "      <th>yes</th>\n",
              "      <th>no</th>\n",
              "    </tr>\n",
              "  </thead>\n",
              "  <tbody>\n",
              "    <tr>\n",
              "      <th>0</th>\n",
              "      <td>Bush said that he ordered the Treasury Departm...</td>\n",
              "      <td>Bush said in a statement that he ordered the U...</td>\n",
              "      <td>1</td>\n",
              "      <td>3154</td>\n",
              "      <td>Sentence1: Bush said that he ordered the Treas...</td>\n",
              "      <td>Please label if the following two sentences ar...</td>\n",
              "      <td>Sentence1: Bush said that he ordered the Treas...</td>\n",
              "      <td>Given the following two sentences, please clas...</td>\n",
              "      <td>Is it true that the following two sentences ar...</td>\n",
              "      <td>Is it true that the following two sentences ar...</td>\n",
              "      <td>...</td>\n",
              "      <td>1</td>\n",
              "      <td>-0.0</td>\n",
              "      <td>1</td>\n",
              "      <td>1</td>\n",
              "      <td>0</td>\n",
              "      <td>1</td>\n",
              "      <td>0</td>\n",
              "      <td>1</td>\n",
              "      <td>1</td>\n",
              "      <td>0</td>\n",
              "    </tr>\n",
              "    <tr>\n",
              "      <th>1</th>\n",
              "      <td>Strong spokeswoman Stephanie Truog said , \" We...</td>\n",
              "      <td>Strong Financial released a statement Wednesda...</td>\n",
              "      <td>0</td>\n",
              "      <td>3402</td>\n",
              "      <td>Sentence1: Strong spokeswoman Stephanie Truog ...</td>\n",
              "      <td>Please label if the following two sentences ar...</td>\n",
              "      <td>Sentence1: Strong spokeswoman Stephanie Truog ...</td>\n",
              "      <td>Given the following two sentences, please clas...</td>\n",
              "      <td>Is it true that the following two sentences ar...</td>\n",
              "      <td>Is it true that the following two sentences ar...</td>\n",
              "      <td>...</td>\n",
              "      <td>1</td>\n",
              "      <td>-0.0</td>\n",
              "      <td>1</td>\n",
              "      <td>1</td>\n",
              "      <td>0</td>\n",
              "      <td>0</td>\n",
              "      <td>1</td>\n",
              "      <td>1</td>\n",
              "      <td>1</td>\n",
              "      <td>0</td>\n",
              "    </tr>\n",
              "    <tr>\n",
              "      <th>2</th>\n",
              "      <td>Many of the victims of Sunday 's attack had be...</td>\n",
              "      <td>Many of the victims had been headed home for R...</td>\n",
              "      <td>0</td>\n",
              "      <td>3958</td>\n",
              "      <td>Sentence1: Many of the victims of Sunday 's at...</td>\n",
              "      <td>Please label if the following two sentences ar...</td>\n",
              "      <td>Sentence1: Many of the victims of Sunday 's at...</td>\n",
              "      <td>Given the following two sentences, please clas...</td>\n",
              "      <td>Is it true that the following two sentences ar...</td>\n",
              "      <td>Is it true that the following two sentences ar...</td>\n",
              "      <td>...</td>\n",
              "      <td>1</td>\n",
              "      <td>-0.0</td>\n",
              "      <td>1</td>\n",
              "      <td>1</td>\n",
              "      <td>0</td>\n",
              "      <td>0</td>\n",
              "      <td>1</td>\n",
              "      <td>1</td>\n",
              "      <td>1</td>\n",
              "      <td>0</td>\n",
              "    </tr>\n",
              "    <tr>\n",
              "      <th>3</th>\n",
              "      <td>\" The bank requires growth from elsewhere in t...</td>\n",
              "      <td>The Bank of England \" requires growth from els...</td>\n",
              "      <td>1</td>\n",
              "      <td>1410</td>\n",
              "      <td>Sentence1: \" The bank requires growth from els...</td>\n",
              "      <td>Please label if the following two sentences ar...</td>\n",
              "      <td>Sentence1: \" The bank requires growth from els...</td>\n",
              "      <td>Given the following two sentences, please clas...</td>\n",
              "      <td>Is it true that the following two sentences ar...</td>\n",
              "      <td>Is it true that the following two sentences ar...</td>\n",
              "      <td>...</td>\n",
              "      <td>1</td>\n",
              "      <td>-0.0</td>\n",
              "      <td>1</td>\n",
              "      <td>1</td>\n",
              "      <td>0</td>\n",
              "      <td>1</td>\n",
              "      <td>0</td>\n",
              "      <td>1</td>\n",
              "      <td>1</td>\n",
              "      <td>0</td>\n",
              "    </tr>\n",
              "    <tr>\n",
              "      <th>4</th>\n",
              "      <td>Tyco later said the loan had not been forgiven...</td>\n",
              "      <td>Tyco has said the loan was not forgiven , but ...</td>\n",
              "      <td>1</td>\n",
              "      <td>142</td>\n",
              "      <td>Sentence1: Tyco later said the loan had not be...</td>\n",
              "      <td>Please label if the following two sentences ar...</td>\n",
              "      <td>Sentence1: Tyco later said the loan had not be...</td>\n",
              "      <td>Given the following two sentences, please clas...</td>\n",
              "      <td>Is it true that the following two sentences ar...</td>\n",
              "      <td>Is it true that the following two sentences ar...</td>\n",
              "      <td>...</td>\n",
              "      <td>1</td>\n",
              "      <td>-0.0</td>\n",
              "      <td>1</td>\n",
              "      <td>1</td>\n",
              "      <td>0</td>\n",
              "      <td>1</td>\n",
              "      <td>0</td>\n",
              "      <td>1</td>\n",
              "      <td>1</td>\n",
              "      <td>0</td>\n",
              "    </tr>\n",
              "  </tbody>\n",
              "</table>\n",
              "<p>5 rows × 41 columns</p>\n",
              "</div>\n",
              "      <button class=\"colab-df-convert\" onclick=\"convertToInteractive('df-3fb0a350-0f84-43ee-b937-6e7608deec04')\"\n",
              "              title=\"Convert this dataframe to an interactive table.\"\n",
              "              style=\"display:none;\">\n",
              "        \n",
              "  <svg xmlns=\"http://www.w3.org/2000/svg\" height=\"24px\"viewBox=\"0 0 24 24\"\n",
              "       width=\"24px\">\n",
              "    <path d=\"M0 0h24v24H0V0z\" fill=\"none\"/>\n",
              "    <path d=\"M18.56 5.44l.94 2.06.94-2.06 2.06-.94-2.06-.94-.94-2.06-.94 2.06-2.06.94zm-11 1L8.5 8.5l.94-2.06 2.06-.94-2.06-.94L8.5 2.5l-.94 2.06-2.06.94zm10 10l.94 2.06.94-2.06 2.06-.94-2.06-.94-.94-2.06-.94 2.06-2.06.94z\"/><path d=\"M17.41 7.96l-1.37-1.37c-.4-.4-.92-.59-1.43-.59-.52 0-1.04.2-1.43.59L10.3 9.45l-7.72 7.72c-.78.78-.78 2.05 0 2.83L4 21.41c.39.39.9.59 1.41.59.51 0 1.02-.2 1.41-.59l7.78-7.78 2.81-2.81c.8-.78.8-2.07 0-2.86zM5.41 20L4 18.59l7.72-7.72 1.47 1.35L5.41 20z\"/>\n",
              "  </svg>\n",
              "      </button>\n",
              "      \n",
              "  <style>\n",
              "    .colab-df-container {\n",
              "      display:flex;\n",
              "      flex-wrap:wrap;\n",
              "      gap: 12px;\n",
              "    }\n",
              "\n",
              "    .colab-df-convert {\n",
              "      background-color: #E8F0FE;\n",
              "      border: none;\n",
              "      border-radius: 50%;\n",
              "      cursor: pointer;\n",
              "      display: none;\n",
              "      fill: #1967D2;\n",
              "      height: 32px;\n",
              "      padding: 0 0 0 0;\n",
              "      width: 32px;\n",
              "    }\n",
              "\n",
              "    .colab-df-convert:hover {\n",
              "      background-color: #E2EBFA;\n",
              "      box-shadow: 0px 1px 2px rgba(60, 64, 67, 0.3), 0px 1px 3px 1px rgba(60, 64, 67, 0.15);\n",
              "      fill: #174EA6;\n",
              "    }\n",
              "\n",
              "    [theme=dark] .colab-df-convert {\n",
              "      background-color: #3B4455;\n",
              "      fill: #D2E3FC;\n",
              "    }\n",
              "\n",
              "    [theme=dark] .colab-df-convert:hover {\n",
              "      background-color: #434B5C;\n",
              "      box-shadow: 0px 1px 3px 1px rgba(0, 0, 0, 0.15);\n",
              "      filter: drop-shadow(0px 1px 2px rgba(0, 0, 0, 0.3));\n",
              "      fill: #FFFFFF;\n",
              "    }\n",
              "  </style>\n",
              "\n",
              "      <script>\n",
              "        const buttonEl =\n",
              "          document.querySelector('#df-3fb0a350-0f84-43ee-b937-6e7608deec04 button.colab-df-convert');\n",
              "        buttonEl.style.display =\n",
              "          google.colab.kernel.accessAllowed ? 'block' : 'none';\n",
              "\n",
              "        async function convertToInteractive(key) {\n",
              "          const element = document.querySelector('#df-3fb0a350-0f84-43ee-b937-6e7608deec04');\n",
              "          const dataTable =\n",
              "            await google.colab.kernel.invokeFunction('convertToInteractive',\n",
              "                                                     [key], {});\n",
              "          if (!dataTable) return;\n",
              "\n",
              "          const docLinkHtml = 'Like what you see? Visit the ' +\n",
              "            '<a target=\"_blank\" href=https://colab.research.google.com/notebooks/data_table.ipynb>data table notebook</a>'\n",
              "            + ' to learn more about interactive tables.';\n",
              "          element.innerHTML = '';\n",
              "          dataTable['output_type'] = 'display_data';\n",
              "          await google.colab.output.renderOutput(dataTable, element);\n",
              "          const docLink = document.createElement('div');\n",
              "          docLink.innerHTML = docLinkHtml;\n",
              "          element.appendChild(docLink);\n",
              "        }\n",
              "      </script>\n",
              "    </div>\n",
              "  </div>\n",
              "  "
            ]
          },
          "metadata": {},
          "execution_count": 150
        }
      ],
      "source": [
        "#allocation\n",
        "yes=[]\n",
        "no=[]\n",
        "chatgpt_count=0\n",
        "#df=data\n",
        "for index, row in df.iterrows():\n",
        "    if row['allocate']==1: #edit the threshold here: I tried <-0.2(all human), ==0, <0.2, <0.4, <0.6, <0.8, <1(all chatgpt)\n",
        "      yes.append(row['MV_yes'])\n",
        "      no.append(row['MV_no'])\n",
        "    else:\n",
        "      yes.append(row['label_yes'])\n",
        "      no.append(row['label_no'])\n",
        "df['yes']=yes\n",
        "df['no']=no\n",
        "df.head()"
      ]
    },
    {
      "cell_type": "markdown",
      "metadata": {
        "id": "dLcetMjZFjSH"
      },
      "source": [
        "# Fine-tuning\n",
        "\n"
      ]
    },
    {
      "cell_type": "markdown",
      "metadata": {
        "id": "2dal0ggBcYdD"
      },
      "source": [
        "Dataset will be tokenized then split into training and validation sets. The validation set will be used to monitor training. For testing a separate test set will be loaded for analysis."
      ]
    },
    {
      "cell_type": "code",
      "execution_count": null,
      "metadata": {
        "id": "0ecREc7GnISW",
        "scrolled": true
      },
      "outputs": [],
      "source": [
        "#df = data #jigsaw-toxic-comment-classification-challenge"
      ]
    },
    {
      "cell_type": "code",
      "execution_count": null,
      "metadata": {
        "colab": {
          "base_uri": "https://localhost:8080/"
        },
        "id": "UVI59S9VaAfB",
        "outputId": "8b193bb7-979b-4f81-b65d-f5d330186a63"
      },
      "outputs": [
        {
          "output_type": "stream",
          "name": "stdout",
          "text": [
            "Label columns:  ['yes', 'no']\n"
          ]
        }
      ],
      "source": [
        "#combined\n",
        "cols = df.columns\n",
        "label_cols = list(cols[39:41])\n",
        "num_labels = len(label_cols)\n",
        "print('Label columns: ', label_cols)"
      ]
    },
    {
      "cell_type": "code",
      "execution_count": null,
      "metadata": {
        "colab": {
          "base_uri": "https://localhost:8080/"
        },
        "id": "xzgA5qQgYIBZ",
        "outputId": "6a89aea9-97bf-469b-f30d-a925b4ff9b80"
      },
      "outputs": [
        {
          "output_type": "stream",
          "name": "stdout",
          "text": [
            "Count of 1 per label: \n",
            " yes    632\n",
            "no     385\n",
            "dtype: int64 \n",
            "\n",
            "Count of 0 per label: \n",
            " yes    385\n",
            "no     632\n",
            "dtype: int64\n"
          ]
        }
      ],
      "source": [
        "print('Count of 1 per label: \\n', df[label_cols].sum(), '\\n') # Label counts, may need to downsample or upsample\n",
        "print('Count of 0 per label: \\n', df[label_cols].eq(0).sum())"
      ]
    },
    {
      "cell_type": "code",
      "execution_count": null,
      "metadata": {
        "colab": {
          "base_uri": "https://localhost:8080/",
          "height": 734
        },
        "id": "0DF3ddjej5vd",
        "outputId": "16841558-5bfa-45bb-d501-3a469bf1cd7e"
      },
      "outputs": [
        {
          "output_type": "execute_result",
          "data": {
            "text/plain": [
              "                                           sentence1  \\\n",
              "0  Bush said that he ordered the Treasury Departm...   \n",
              "1  Strong spokeswoman Stephanie Truog said , \" We...   \n",
              "2  Many of the victims of Sunday 's attack had be...   \n",
              "3  \" The bank requires growth from elsewhere in t...   \n",
              "4  Tyco later said the loan had not been forgiven...   \n",
              "\n",
              "                                           sentence2  label   idx  \\\n",
              "0  Bush said in a statement that he ordered the U...      1  3154   \n",
              "1  Strong Financial released a statement Wednesda...      0  3402   \n",
              "2  Many of the victims had been headed home for R...      0  3958   \n",
              "3  The Bank of England \" requires growth from els...      1  1410   \n",
              "4  Tyco has said the loan was not forgiven , but ...      1   142   \n",
              "\n",
              "                                                text  \\\n",
              "0  Sentence1: Bush said that he ordered the Treas...   \n",
              "1  Sentence1: Strong spokeswoman Stephanie Truog ...   \n",
              "2  Sentence1: Many of the victims of Sunday 's at...   \n",
              "3  Sentence1: \" The bank requires growth from els...   \n",
              "4  Sentence1: Tyco later said the loan had not be...   \n",
              "\n",
              "                                             prompt1  \\\n",
              "0  Please label if the following two sentences ar...   \n",
              "1  Please label if the following two sentences ar...   \n",
              "2  Please label if the following two sentences ar...   \n",
              "3  Please label if the following two sentences ar...   \n",
              "4  Please label if the following two sentences ar...   \n",
              "\n",
              "                                             prompt2  \\\n",
              "0  Sentence1: Bush said that he ordered the Treas...   \n",
              "1  Sentence1: Strong spokeswoman Stephanie Truog ...   \n",
              "2  Sentence1: Many of the victims of Sunday 's at...   \n",
              "3  Sentence1: \" The bank requires growth from els...   \n",
              "4  Sentence1: Tyco later said the loan had not be...   \n",
              "\n",
              "                                             prompt3  \\\n",
              "0  Given the following two sentences, please clas...   \n",
              "1  Given the following two sentences, please clas...   \n",
              "2  Given the following two sentences, please clas...   \n",
              "3  Given the following two sentences, please clas...   \n",
              "4  Given the following two sentences, please clas...   \n",
              "\n",
              "                                             prompt4  \\\n",
              "0  Is it true that the following two sentences ar...   \n",
              "1  Is it true that the following two sentences ar...   \n",
              "2  Is it true that the following two sentences ar...   \n",
              "3  Is it true that the following two sentences ar...   \n",
              "4  Is it true that the following two sentences ar...   \n",
              "\n",
              "                                             prompt5  ... entropy MV MV_yes  \\\n",
              "0  Is it true that the following two sentences ar...  ...    -0.0  1      1   \n",
              "1  Is it true that the following two sentences ar...  ...    -0.0  1      1   \n",
              "2  Is it true that the following two sentences ar...  ...    -0.0  1      1   \n",
              "3  Is it true that the following two sentences ar...  ...    -0.0  1      1   \n",
              "4  Is it true that the following two sentences ar...  ...    -0.0  1      1   \n",
              "\n",
              "  MV_no label_yes label_no allocate yes no one_hot_labels  \n",
              "0     0         1        0        1   1  0         [1, 0]  \n",
              "1     0         0        1        1   1  0         [1, 0]  \n",
              "2     0         0        1        1   1  0         [1, 0]  \n",
              "3     0         1        0        1   1  0         [1, 0]  \n",
              "4     0         1        0        1   1  0         [1, 0]  \n",
              "\n",
              "[5 rows x 42 columns]"
            ],
            "text/html": [
              "\n",
              "  <div id=\"df-e76107dc-d6a6-47d7-b1aa-2d1f61dfc851\">\n",
              "    <div class=\"colab-df-container\">\n",
              "      <div>\n",
              "<style scoped>\n",
              "    .dataframe tbody tr th:only-of-type {\n",
              "        vertical-align: middle;\n",
              "    }\n",
              "\n",
              "    .dataframe tbody tr th {\n",
              "        vertical-align: top;\n",
              "    }\n",
              "\n",
              "    .dataframe thead th {\n",
              "        text-align: right;\n",
              "    }\n",
              "</style>\n",
              "<table border=\"1\" class=\"dataframe\">\n",
              "  <thead>\n",
              "    <tr style=\"text-align: right;\">\n",
              "      <th></th>\n",
              "      <th>sentence1</th>\n",
              "      <th>sentence2</th>\n",
              "      <th>label</th>\n",
              "      <th>idx</th>\n",
              "      <th>text</th>\n",
              "      <th>prompt1</th>\n",
              "      <th>prompt2</th>\n",
              "      <th>prompt3</th>\n",
              "      <th>prompt4</th>\n",
              "      <th>prompt5</th>\n",
              "      <th>...</th>\n",
              "      <th>entropy</th>\n",
              "      <th>MV</th>\n",
              "      <th>MV_yes</th>\n",
              "      <th>MV_no</th>\n",
              "      <th>label_yes</th>\n",
              "      <th>label_no</th>\n",
              "      <th>allocate</th>\n",
              "      <th>yes</th>\n",
              "      <th>no</th>\n",
              "      <th>one_hot_labels</th>\n",
              "    </tr>\n",
              "  </thead>\n",
              "  <tbody>\n",
              "    <tr>\n",
              "      <th>0</th>\n",
              "      <td>Bush said that he ordered the Treasury Departm...</td>\n",
              "      <td>Bush said in a statement that he ordered the U...</td>\n",
              "      <td>1</td>\n",
              "      <td>3154</td>\n",
              "      <td>Sentence1: Bush said that he ordered the Treas...</td>\n",
              "      <td>Please label if the following two sentences ar...</td>\n",
              "      <td>Sentence1: Bush said that he ordered the Treas...</td>\n",
              "      <td>Given the following two sentences, please clas...</td>\n",
              "      <td>Is it true that the following two sentences ar...</td>\n",
              "      <td>Is it true that the following two sentences ar...</td>\n",
              "      <td>...</td>\n",
              "      <td>-0.0</td>\n",
              "      <td>1</td>\n",
              "      <td>1</td>\n",
              "      <td>0</td>\n",
              "      <td>1</td>\n",
              "      <td>0</td>\n",
              "      <td>1</td>\n",
              "      <td>1</td>\n",
              "      <td>0</td>\n",
              "      <td>[1, 0]</td>\n",
              "    </tr>\n",
              "    <tr>\n",
              "      <th>1</th>\n",
              "      <td>Strong spokeswoman Stephanie Truog said , \" We...</td>\n",
              "      <td>Strong Financial released a statement Wednesda...</td>\n",
              "      <td>0</td>\n",
              "      <td>3402</td>\n",
              "      <td>Sentence1: Strong spokeswoman Stephanie Truog ...</td>\n",
              "      <td>Please label if the following two sentences ar...</td>\n",
              "      <td>Sentence1: Strong spokeswoman Stephanie Truog ...</td>\n",
              "      <td>Given the following two sentences, please clas...</td>\n",
              "      <td>Is it true that the following two sentences ar...</td>\n",
              "      <td>Is it true that the following two sentences ar...</td>\n",
              "      <td>...</td>\n",
              "      <td>-0.0</td>\n",
              "      <td>1</td>\n",
              "      <td>1</td>\n",
              "      <td>0</td>\n",
              "      <td>0</td>\n",
              "      <td>1</td>\n",
              "      <td>1</td>\n",
              "      <td>1</td>\n",
              "      <td>0</td>\n",
              "      <td>[1, 0]</td>\n",
              "    </tr>\n",
              "    <tr>\n",
              "      <th>2</th>\n",
              "      <td>Many of the victims of Sunday 's attack had be...</td>\n",
              "      <td>Many of the victims had been headed home for R...</td>\n",
              "      <td>0</td>\n",
              "      <td>3958</td>\n",
              "      <td>Sentence1: Many of the victims of Sunday 's at...</td>\n",
              "      <td>Please label if the following two sentences ar...</td>\n",
              "      <td>Sentence1: Many of the victims of Sunday 's at...</td>\n",
              "      <td>Given the following two sentences, please clas...</td>\n",
              "      <td>Is it true that the following two sentences ar...</td>\n",
              "      <td>Is it true that the following two sentences ar...</td>\n",
              "      <td>...</td>\n",
              "      <td>-0.0</td>\n",
              "      <td>1</td>\n",
              "      <td>1</td>\n",
              "      <td>0</td>\n",
              "      <td>0</td>\n",
              "      <td>1</td>\n",
              "      <td>1</td>\n",
              "      <td>1</td>\n",
              "      <td>0</td>\n",
              "      <td>[1, 0]</td>\n",
              "    </tr>\n",
              "    <tr>\n",
              "      <th>3</th>\n",
              "      <td>\" The bank requires growth from elsewhere in t...</td>\n",
              "      <td>The Bank of England \" requires growth from els...</td>\n",
              "      <td>1</td>\n",
              "      <td>1410</td>\n",
              "      <td>Sentence1: \" The bank requires growth from els...</td>\n",
              "      <td>Please label if the following two sentences ar...</td>\n",
              "      <td>Sentence1: \" The bank requires growth from els...</td>\n",
              "      <td>Given the following two sentences, please clas...</td>\n",
              "      <td>Is it true that the following two sentences ar...</td>\n",
              "      <td>Is it true that the following two sentences ar...</td>\n",
              "      <td>...</td>\n",
              "      <td>-0.0</td>\n",
              "      <td>1</td>\n",
              "      <td>1</td>\n",
              "      <td>0</td>\n",
              "      <td>1</td>\n",
              "      <td>0</td>\n",
              "      <td>1</td>\n",
              "      <td>1</td>\n",
              "      <td>0</td>\n",
              "      <td>[1, 0]</td>\n",
              "    </tr>\n",
              "    <tr>\n",
              "      <th>4</th>\n",
              "      <td>Tyco later said the loan had not been forgiven...</td>\n",
              "      <td>Tyco has said the loan was not forgiven , but ...</td>\n",
              "      <td>1</td>\n",
              "      <td>142</td>\n",
              "      <td>Sentence1: Tyco later said the loan had not be...</td>\n",
              "      <td>Please label if the following two sentences ar...</td>\n",
              "      <td>Sentence1: Tyco later said the loan had not be...</td>\n",
              "      <td>Given the following two sentences, please clas...</td>\n",
              "      <td>Is it true that the following two sentences ar...</td>\n",
              "      <td>Is it true that the following two sentences ar...</td>\n",
              "      <td>...</td>\n",
              "      <td>-0.0</td>\n",
              "      <td>1</td>\n",
              "      <td>1</td>\n",
              "      <td>0</td>\n",
              "      <td>1</td>\n",
              "      <td>0</td>\n",
              "      <td>1</td>\n",
              "      <td>1</td>\n",
              "      <td>0</td>\n",
              "      <td>[1, 0]</td>\n",
              "    </tr>\n",
              "  </tbody>\n",
              "</table>\n",
              "<p>5 rows × 42 columns</p>\n",
              "</div>\n",
              "      <button class=\"colab-df-convert\" onclick=\"convertToInteractive('df-e76107dc-d6a6-47d7-b1aa-2d1f61dfc851')\"\n",
              "              title=\"Convert this dataframe to an interactive table.\"\n",
              "              style=\"display:none;\">\n",
              "        \n",
              "  <svg xmlns=\"http://www.w3.org/2000/svg\" height=\"24px\"viewBox=\"0 0 24 24\"\n",
              "       width=\"24px\">\n",
              "    <path d=\"M0 0h24v24H0V0z\" fill=\"none\"/>\n",
              "    <path d=\"M18.56 5.44l.94 2.06.94-2.06 2.06-.94-2.06-.94-.94-2.06-.94 2.06-2.06.94zm-11 1L8.5 8.5l.94-2.06 2.06-.94-2.06-.94L8.5 2.5l-.94 2.06-2.06.94zm10 10l.94 2.06.94-2.06 2.06-.94-2.06-.94-.94-2.06-.94 2.06-2.06.94z\"/><path d=\"M17.41 7.96l-1.37-1.37c-.4-.4-.92-.59-1.43-.59-.52 0-1.04.2-1.43.59L10.3 9.45l-7.72 7.72c-.78.78-.78 2.05 0 2.83L4 21.41c.39.39.9.59 1.41.59.51 0 1.02-.2 1.41-.59l7.78-7.78 2.81-2.81c.8-.78.8-2.07 0-2.86zM5.41 20L4 18.59l7.72-7.72 1.47 1.35L5.41 20z\"/>\n",
              "  </svg>\n",
              "      </button>\n",
              "      \n",
              "  <style>\n",
              "    .colab-df-container {\n",
              "      display:flex;\n",
              "      flex-wrap:wrap;\n",
              "      gap: 12px;\n",
              "    }\n",
              "\n",
              "    .colab-df-convert {\n",
              "      background-color: #E8F0FE;\n",
              "      border: none;\n",
              "      border-radius: 50%;\n",
              "      cursor: pointer;\n",
              "      display: none;\n",
              "      fill: #1967D2;\n",
              "      height: 32px;\n",
              "      padding: 0 0 0 0;\n",
              "      width: 32px;\n",
              "    }\n",
              "\n",
              "    .colab-df-convert:hover {\n",
              "      background-color: #E2EBFA;\n",
              "      box-shadow: 0px 1px 2px rgba(60, 64, 67, 0.3), 0px 1px 3px 1px rgba(60, 64, 67, 0.15);\n",
              "      fill: #174EA6;\n",
              "    }\n",
              "\n",
              "    [theme=dark] .colab-df-convert {\n",
              "      background-color: #3B4455;\n",
              "      fill: #D2E3FC;\n",
              "    }\n",
              "\n",
              "    [theme=dark] .colab-df-convert:hover {\n",
              "      background-color: #434B5C;\n",
              "      box-shadow: 0px 1px 3px 1px rgba(0, 0, 0, 0.15);\n",
              "      filter: drop-shadow(0px 1px 2px rgba(0, 0, 0, 0.3));\n",
              "      fill: #FFFFFF;\n",
              "    }\n",
              "  </style>\n",
              "\n",
              "      <script>\n",
              "        const buttonEl =\n",
              "          document.querySelector('#df-e76107dc-d6a6-47d7-b1aa-2d1f61dfc851 button.colab-df-convert');\n",
              "        buttonEl.style.display =\n",
              "          google.colab.kernel.accessAllowed ? 'block' : 'none';\n",
              "\n",
              "        async function convertToInteractive(key) {\n",
              "          const element = document.querySelector('#df-e76107dc-d6a6-47d7-b1aa-2d1f61dfc851');\n",
              "          const dataTable =\n",
              "            await google.colab.kernel.invokeFunction('convertToInteractive',\n",
              "                                                     [key], {});\n",
              "          if (!dataTable) return;\n",
              "\n",
              "          const docLinkHtml = 'Like what you see? Visit the ' +\n",
              "            '<a target=\"_blank\" href=https://colab.research.google.com/notebooks/data_table.ipynb>data table notebook</a>'\n",
              "            + ' to learn more about interactive tables.';\n",
              "          element.innerHTML = '';\n",
              "          dataTable['output_type'] = 'display_data';\n",
              "          await google.colab.output.renderOutput(dataTable, element);\n",
              "          const docLink = document.createElement('div');\n",
              "          docLink.innerHTML = docLinkHtml;\n",
              "          element.appendChild(docLink);\n",
              "        }\n",
              "      </script>\n",
              "    </div>\n",
              "  </div>\n",
              "  "
            ]
          },
          "metadata": {},
          "execution_count": 153
        }
      ],
      "source": [
        "df['one_hot_labels'] = list(df[label_cols].values)\n",
        "df.head()"
      ]
    },
    {
      "cell_type": "code",
      "execution_count": null,
      "metadata": {
        "id": "MlhHifh5bW7e"
      },
      "outputs": [],
      "source": [
        "labels = list(df.one_hot_labels.values)\n",
        "comments = list(df.text.values)"
      ]
    },
    {
      "cell_type": "markdown",
      "metadata": {
        "id": "IlMHfElhGJzc"
      },
      "source": [
        "Load the pretrained tokenizer that corresponds to your choice in model. e.g.,\n",
        "\n",
        "```\n",
        "BERT:\n",
        "tokenizer = BertTokenizer.from_pretrained('bert-base-uncased', do_lower_case=True)\n",
        "\n",
        "XLNet:\n",
        "tokenizer = XLNetTokenizer.from_pretrained('xlnet-base-cased', do_lower_case=False)\n",
        "\n",
        "RoBERTa:\n",
        "tokenizer = RobertaTokenizer.from_pretrained('roberta-base', do_lower_case=False)\n",
        "```\n"
      ]
    },
    {
      "cell_type": "markdown",
      "metadata": {
        "id": "IhVr8SziL_PY"
      },
      "source": [
        "In order to avoid memory issues with Google Colab, I enforce a max_length of 100 tokens. Note that some sentences may not adequately represent each label because of this."
      ]
    },
    {
      "cell_type": "code",
      "execution_count": null,
      "metadata": {
        "colab": {
          "base_uri": "https://localhost:8080/"
        },
        "id": "HNsEu-vUur-4",
        "outputId": "3c687927-aa76-46c0-d4f6-0bce0f08d5d7"
      },
      "outputs": [
        {
          "output_type": "stream",
          "name": "stderr",
          "text": [
            "Truncation was not explicitly activated but `max_length` is provided a specific value, please use `truncation=True` to explicitly truncate examples to max length. Defaulting to 'longest_first' truncation strategy. If you encode pairs of sequences (GLUE-style) with the tokenizer you can select this strategy more precisely by providing a specific strategy to `truncation`.\n",
            "/usr/local/lib/python3.10/dist-packages/transformers/tokenization_utils_base.py:2377: FutureWarning: The `pad_to_max_length` argument is deprecated and will be removed in a future version, use `padding=True` or `padding='longest'` to pad to the longest sequence in the batch, or use `padding='max_length'` to pad to a max length. In this case, you can give a specific length with `max_length` (e.g. `max_length=45`) or leave max_length to None to pad to the maximal input size of the model (e.g. 512 for Bert).\n",
            "  warnings.warn(\n"
          ]
        },
        {
          "output_type": "stream",
          "name": "stdout",
          "text": [
            "tokenizer outputs:  dict_keys(['input_ids', 'attention_mask'])\n"
          ]
        }
      ],
      "source": [
        "from transformers import RobertaTokenizer\n",
        "max_length = 100\n",
        "tokenizer = RobertaTokenizer.from_pretrained('roberta-base', do_lower_case=False) # tokenizer\n",
        "encodings = tokenizer.batch_encode_plus(comments,max_length=max_length,pad_to_max_length=True) # tokenizer's encoding method\n",
        "print('tokenizer outputs: ', encodings.keys())"
      ]
    },
    {
      "cell_type": "code",
      "execution_count": null,
      "metadata": {
        "colab": {
          "base_uri": "https://localhost:8080/"
        },
        "id": "nG9vOTp92yZE",
        "outputId": "4258abef-382f-4559-96f3-e04a9869a03d"
      },
      "outputs": [
        {
          "data": {
            "text/plain": [
              "dict_keys(['input_ids', 'attention_mask'])"
            ]
          },
          "execution_count": 62,
          "metadata": {},
          "output_type": "execute_result"
        }
      ],
      "source": [
        "encodings.keys()"
      ]
    },
    {
      "cell_type": "code",
      "execution_count": null,
      "metadata": {
        "id": "l6CCLSjfur-9"
      },
      "outputs": [],
      "source": [
        "input_ids = encodings['input_ids'] # tokenized and encoded sentences\n",
        "#token_type_ids = encodings['token_type_ids'] # token type ids\n",
        "attention_masks = encodings['attention_mask'] # attention masks"
      ]
    },
    {
      "cell_type": "code",
      "execution_count": null,
      "metadata": {
        "colab": {
          "base_uri": "https://localhost:8080/"
        },
        "id": "vSOFbThlYcpb",
        "outputId": "7ed1ae93-ab55-4e47-e18d-eaede42a24f3"
      },
      "outputs": [
        {
          "output_type": "stream",
          "name": "stdout",
          "text": [
            "df label indices with only one instance:  []\n"
          ]
        }
      ],
      "source": [
        "# Identifying indices of 'one_hot_labels' entries that only occur once - this will allow us to stratify split our training data later\n",
        "label_counts = df.one_hot_labels.astype(str).value_counts()\n",
        "one_freq = label_counts[label_counts==1].keys()\n",
        "one_freq_idxs = sorted(list(df[df.one_hot_labels.astype(str).isin(one_freq)].index), reverse=True)\n",
        "print('df label indices with only one instance: ', one_freq_idxs)"
      ]
    },
    {
      "cell_type": "code",
      "execution_count": null,
      "metadata": {
        "id": "CQQ7CoOag_r7"
      },
      "outputs": [],
      "source": [
        "# Gathering single instance inputs to force into the training set after stratified split\n",
        "one_freq_input_ids = [input_ids.pop(i) for i in one_freq_idxs]\n",
        "#one_freq_token_types = [token_type_ids.pop(i) for i in one_freq_idxs]\n",
        "one_freq_attention_masks = [attention_masks.pop(i) for i in one_freq_idxs]\n",
        "one_freq_labels = [labels.pop(i) for i in one_freq_idxs]"
      ]
    },
    {
      "cell_type": "markdown",
      "metadata": {
        "id": "r9PxAt48HRRj"
      },
      "source": [
        "Be sure to handle all classes during validation using \"stratify\" during train/validation split:"
      ]
    },
    {
      "cell_type": "code",
      "execution_count": null,
      "metadata": {
        "id": "WPFaq4ufnIT2"
      },
      "outputs": [],
      "source": [
        "# Use train_test_split to split our data into train and validation sets\n",
        "\n",
        "train_inputs, validation_inputs, train_labels, validation_labels, train_masks, validation_masks = train_test_split(input_ids, labels, attention_masks,\n",
        "                                                            random_state=20, test_size=0.10, stratify = labels)\n",
        "\n",
        "# Add one frequency data to train data\n",
        "train_inputs.extend(one_freq_input_ids)\n",
        "train_labels.extend(one_freq_labels)\n",
        "train_masks.extend(one_freq_attention_masks)\n",
        "#train_token_types.extend(one_freq_token_types)\n",
        "\n",
        "# Convert all of our data into torch tensors, the required datatype for our model\n",
        "train_inputs = torch.tensor(train_inputs)\n",
        "train_labels = torch.tensor(train_labels)\n",
        "train_masks = torch.tensor(train_masks)\n",
        "#train_token_types = torch.tensor(train_token_types)\n",
        "\n",
        "validation_inputs = torch.tensor(validation_inputs)\n",
        "validation_labels = torch.tensor(validation_labels)\n",
        "validation_masks = torch.tensor(validation_masks)\n",
        "#validation_token_types = torch.tensor(validation_token_types)"
      ]
    },
    {
      "cell_type": "code",
      "execution_count": null,
      "metadata": {
        "id": "ZRnuLna-nIT4"
      },
      "outputs": [],
      "source": [
        "# Select a batch size for training. For fine-tuning with XLNet, the authors recommend a batch size of 32, 48, or 128. We will use 32 here to avoid memory issues.\n",
        "batch_size = 16\n",
        "\n",
        "# Create an iterator of our data with torch DataLoader. This helps save on memory during training because, unlike a for loop,\n",
        "# with an iterator the entire dataset does not need to be loaded into memory\n",
        "\n",
        "train_data = TensorDataset(train_inputs, train_masks, train_labels)\n",
        "train_sampler = RandomSampler(train_data)\n",
        "train_dataloader = DataLoader(train_data, sampler=train_sampler, batch_size=batch_size)\n",
        "\n",
        "validation_data = TensorDataset(validation_inputs, validation_masks, validation_labels)\n",
        "validation_sampler = SequentialSampler(validation_data)\n",
        "validation_dataloader = DataLoader(validation_data, sampler=validation_sampler, batch_size=batch_size)"
      ]
    },
    {
      "cell_type": "code",
      "execution_count": null,
      "metadata": {
        "id": "iiFRnP_ZTBFa"
      },
      "outputs": [],
      "source": [
        "torch.save(validation_dataloader,'validation_data_loader')\n",
        "torch.save(train_dataloader,'train_data_loader')"
      ]
    },
    {
      "cell_type": "markdown",
      "metadata": {
        "id": "ncGteBuSFuZM"
      },
      "source": [
        "## Load Model & Set Params"
      ]
    },
    {
      "cell_type": "markdown",
      "metadata": {
        "id": "Z0dL-Bz_NrGj"
      },
      "source": [
        "Load the appropriate model below, each model already contains a single dense layer for classification on top.\n",
        "\n",
        "\n",
        "\n",
        "```\n",
        "BERT:\n",
        "model = BertForSequenceClassification.from_pretrained(\"bert-base-uncased\", num_labels=num_labels)\n",
        "\n",
        "XLNet:\n",
        "model = XLNetForSequenceClassification.from_pretrained(\"xlnet-base-cased\", num_labels=num_labels)\n",
        "\n",
        "RoBERTa:\n",
        "model = RobertaForSequenceClassification.from_pretrained('roberta-base', num_labels=num_labels)\n",
        "```\n",
        "\n"
      ]
    },
    {
      "cell_type": "code",
      "execution_count": null,
      "metadata": {
        "colab": {
          "base_uri": "https://localhost:8080/"
        },
        "id": "Ujk4k16DnIT6",
        "outputId": "6d052091-943d-4757-cccc-bff64848704f"
      },
      "outputs": [
        {
          "output_type": "stream",
          "name": "stderr",
          "text": [
            "Some weights of the model checkpoint at roberta-base were not used when initializing RobertaForSequenceClassification: ['lm_head.layer_norm.bias', 'lm_head.bias', 'lm_head.dense.weight', 'lm_head.dense.bias', 'lm_head.layer_norm.weight']\n",
            "- This IS expected if you are initializing RobertaForSequenceClassification from the checkpoint of a model trained on another task or with another architecture (e.g. initializing a BertForSequenceClassification model from a BertForPreTraining model).\n",
            "- This IS NOT expected if you are initializing RobertaForSequenceClassification from the checkpoint of a model that you expect to be exactly identical (initializing a BertForSequenceClassification model from a BertForSequenceClassification model).\n",
            "Some weights of RobertaForSequenceClassification were not initialized from the model checkpoint at roberta-base and are newly initialized: ['classifier.out_proj.weight', 'classifier.dense.weight', 'classifier.out_proj.bias', 'classifier.dense.bias']\n",
            "You should probably TRAIN this model on a down-stream task to be able to use it for predictions and inference.\n"
          ]
        },
        {
          "output_type": "execute_result",
          "data": {
            "text/plain": [
              "RobertaForSequenceClassification(\n",
              "  (roberta): RobertaModel(\n",
              "    (embeddings): RobertaEmbeddings(\n",
              "      (word_embeddings): Embedding(50265, 768, padding_idx=1)\n",
              "      (position_embeddings): Embedding(514, 768, padding_idx=1)\n",
              "      (token_type_embeddings): Embedding(1, 768)\n",
              "      (LayerNorm): LayerNorm((768,), eps=1e-05, elementwise_affine=True)\n",
              "      (dropout): Dropout(p=0.1, inplace=False)\n",
              "    )\n",
              "    (encoder): RobertaEncoder(\n",
              "      (layer): ModuleList(\n",
              "        (0-11): 12 x RobertaLayer(\n",
              "          (attention): RobertaAttention(\n",
              "            (self): RobertaSelfAttention(\n",
              "              (query): Linear(in_features=768, out_features=768, bias=True)\n",
              "              (key): Linear(in_features=768, out_features=768, bias=True)\n",
              "              (value): Linear(in_features=768, out_features=768, bias=True)\n",
              "              (dropout): Dropout(p=0.1, inplace=False)\n",
              "            )\n",
              "            (output): RobertaSelfOutput(\n",
              "              (dense): Linear(in_features=768, out_features=768, bias=True)\n",
              "              (LayerNorm): LayerNorm((768,), eps=1e-05, elementwise_affine=True)\n",
              "              (dropout): Dropout(p=0.1, inplace=False)\n",
              "            )\n",
              "          )\n",
              "          (intermediate): RobertaIntermediate(\n",
              "            (dense): Linear(in_features=768, out_features=3072, bias=True)\n",
              "            (intermediate_act_fn): GELUActivation()\n",
              "          )\n",
              "          (output): RobertaOutput(\n",
              "            (dense): Linear(in_features=3072, out_features=768, bias=True)\n",
              "            (LayerNorm): LayerNorm((768,), eps=1e-05, elementwise_affine=True)\n",
              "            (dropout): Dropout(p=0.1, inplace=False)\n",
              "          )\n",
              "        )\n",
              "      )\n",
              "    )\n",
              "  )\n",
              "  (classifier): RobertaClassificationHead(\n",
              "    (dense): Linear(in_features=768, out_features=768, bias=True)\n",
              "    (dropout): Dropout(p=0.1, inplace=False)\n",
              "    (out_proj): Linear(in_features=768, out_features=2, bias=True)\n",
              "  )\n",
              ")"
            ]
          },
          "metadata": {},
          "execution_count": 162
        }
      ],
      "source": [
        "# Load model, the pretrained model will include a single linear classification layer on top for classification.\n",
        "from transformers import RobertaForSequenceClassification\n",
        "model = RobertaForSequenceClassification.from_pretrained('roberta-base', num_labels=num_labels)\n",
        "model.cuda()"
      ]
    },
    {
      "cell_type": "markdown",
      "metadata": {
        "id": "jGE4gv9qfhRG"
      },
      "source": [
        "Setting custom optimization parameters for the AdamW optimizer https://huggingface.co/transformers/main_classes/optimizer_schedules.html"
      ]
    },
    {
      "cell_type": "code",
      "execution_count": null,
      "metadata": {
        "id": "GsV8zwWYnIT9"
      },
      "outputs": [],
      "source": [
        "# setting custom optimization parameters. You may implement a scheduler here as well.\n",
        "param_optimizer = list(model.named_parameters())\n",
        "no_decay = ['bias', 'gamma', 'beta']\n",
        "optimizer_grouped_parameters = [\n",
        "    {'params': [p for n, p in param_optimizer if not any(nd in n for nd in no_decay)],\n",
        "     'weight_decay_rate': 0.01},\n",
        "    {'params': [p for n, p in param_optimizer if any(nd in n for nd in no_decay)],\n",
        "     'weight_decay_rate': 0.0}\n",
        "]"
      ]
    },
    {
      "cell_type": "code",
      "execution_count": null,
      "metadata": {
        "colab": {
          "base_uri": "https://localhost:8080/"
        },
        "id": "aOomZIEIoHOL",
        "outputId": "af4e9db3-3237-4427-cd0d-28cae2b766ac"
      },
      "outputs": [
        {
          "output_type": "stream",
          "name": "stderr",
          "text": [
            "/usr/local/lib/python3.10/dist-packages/transformers/optimization.py:411: FutureWarning: This implementation of AdamW is deprecated and will be removed in a future version. Use the PyTorch implementation torch.optim.AdamW instead, or set `no_deprecation_warning=True` to disable this warning\n",
            "  warnings.warn(\n"
          ]
        }
      ],
      "source": [
        "from transformers import AdamW\n",
        "optimizer = AdamW(optimizer_grouped_parameters,lr=2e-5 ,correct_bias=True)\n",
        "# optimizer = AdamW(model.parameters(),lr=2e-5)  # Default optimization"
      ]
    },
    {
      "cell_type": "markdown",
      "metadata": {
        "id": "JRQQZ8zIFzLW"
      },
      "source": [
        "## Train Model"
      ]
    },
    {
      "cell_type": "code",
      "execution_count": null,
      "metadata": {
        "id": "Ho6xx8cQfhvK"
      },
      "outputs": [],
      "source": [
        "def is_max(array):\n",
        "  max_val=max(array)\n",
        "  res=[i==max_val for i in array]\n",
        "  return res"
      ]
    },
    {
      "cell_type": "code",
      "execution_count": null,
      "metadata": {
        "colab": {
          "base_uri": "https://localhost:8080/"
        },
        "id": "uDLZmEC_oKo3",
        "outputId": "7efb3818-4eb8-4737-ab26-664cc9fa9f1a"
      },
      "outputs": [
        {
          "output_type": "stream",
          "name": "stderr",
          "text": [
            "\rEpoch:   0%|          | 0/10 [00:00<?, ?it/s]"
          ]
        },
        {
          "output_type": "stream",
          "name": "stdout",
          "text": [
            "Train loss: 0.6403988234955689\n"
          ]
        },
        {
          "output_type": "stream",
          "name": "stderr",
          "text": [
            "\rEpoch:  10%|█         | 1/10 [00:15<02:17, 15.25s/it]"
          ]
        },
        {
          "output_type": "stream",
          "name": "stdout",
          "text": [
            "F1 Validation Accuracy:  70.58823529411765\n",
            "Flat Validation Accuracy:  70.58823529411765\n",
            "Train loss: 0.4949221536517143\n"
          ]
        },
        {
          "output_type": "stream",
          "name": "stderr",
          "text": [
            "\rEpoch:  20%|██        | 2/10 [00:31<02:04, 15.60s/it]"
          ]
        },
        {
          "output_type": "stream",
          "name": "stdout",
          "text": [
            "F1 Validation Accuracy:  71.56862745098039\n",
            "Flat Validation Accuracy:  71.56862745098039\n",
            "Train loss: 0.35384158212049255\n"
          ]
        },
        {
          "output_type": "stream",
          "name": "stderr",
          "text": [
            "\rEpoch:  30%|███       | 3/10 [00:46<01:49, 15.66s/it]"
          ]
        },
        {
          "output_type": "stream",
          "name": "stdout",
          "text": [
            "F1 Validation Accuracy:  77.45098039215686\n",
            "Flat Validation Accuracy:  77.45098039215686\n",
            "Train loss: 0.21234087273478508\n"
          ]
        },
        {
          "output_type": "stream",
          "name": "stderr",
          "text": [
            "\rEpoch:  40%|████      | 4/10 [01:02<01:34, 15.75s/it]"
          ]
        },
        {
          "output_type": "stream",
          "name": "stdout",
          "text": [
            "F1 Validation Accuracy:  74.50980392156863\n",
            "Flat Validation Accuracy:  74.50980392156863\n",
            "Train loss: 0.10146555986961928\n"
          ]
        },
        {
          "output_type": "stream",
          "name": "stderr",
          "text": [
            "\rEpoch:  50%|█████     | 5/10 [01:18<01:19, 15.84s/it]"
          ]
        },
        {
          "output_type": "stream",
          "name": "stdout",
          "text": [
            "F1 Validation Accuracy:  72.54901960784314\n",
            "Flat Validation Accuracy:  72.54901960784314\n",
            "Train loss: 0.044939427411761775\n"
          ]
        },
        {
          "output_type": "stream",
          "name": "stderr",
          "text": [
            "\rEpoch:  60%|██████    | 6/10 [01:34<01:03, 15.87s/it]"
          ]
        },
        {
          "output_type": "stream",
          "name": "stdout",
          "text": [
            "F1 Validation Accuracy:  74.50980392156863\n",
            "Flat Validation Accuracy:  74.50980392156863\n",
            "Train loss: 0.10822694938116033\n"
          ]
        },
        {
          "output_type": "stream",
          "name": "stderr",
          "text": [
            "\rEpoch:  70%|███████   | 7/10 [01:50<00:47, 15.86s/it]"
          ]
        },
        {
          "output_type": "stream",
          "name": "stdout",
          "text": [
            "F1 Validation Accuracy:  74.50980392156863\n",
            "Flat Validation Accuracy:  74.50980392156863\n",
            "Train loss: 0.07492344775879435\n"
          ]
        },
        {
          "output_type": "stream",
          "name": "stderr",
          "text": [
            "\rEpoch:  80%|████████  | 8/10 [02:06<00:31, 15.85s/it]"
          ]
        },
        {
          "output_type": "stream",
          "name": "stdout",
          "text": [
            "F1 Validation Accuracy:  73.5294117647059\n",
            "Flat Validation Accuracy:  73.52941176470588\n",
            "Train loss: 0.025043121514970373\n"
          ]
        },
        {
          "output_type": "stream",
          "name": "stderr",
          "text": [
            "\rEpoch:  90%|█████████ | 9/10 [02:22<00:15, 15.93s/it]"
          ]
        },
        {
          "output_type": "stream",
          "name": "stdout",
          "text": [
            "F1 Validation Accuracy:  71.56862745098039\n",
            "Flat Validation Accuracy:  71.56862745098039\n",
            "Train loss: 0.04611270974293865\n"
          ]
        },
        {
          "output_type": "stream",
          "name": "stderr",
          "text": [
            "Epoch: 100%|██████████| 10/10 [02:38<00:00, 15.84s/it]"
          ]
        },
        {
          "output_type": "stream",
          "name": "stdout",
          "text": [
            "F1 Validation Accuracy:  72.54901960784314\n",
            "Flat Validation Accuracy:  72.54901960784314\n"
          ]
        },
        {
          "output_type": "stream",
          "name": "stderr",
          "text": [
            "\n"
          ]
        }
      ],
      "source": [
        "# Store our loss and accuracy for plotting\n",
        "train_loss_set = []\n",
        "\n",
        "# Number of training epochs (authors recommend between 2 and 4)\n",
        "epochs = 10\n",
        "\n",
        "# trange is a tqdm wrapper around the normal python range\n",
        "for _ in trange(epochs, desc=\"Epoch\"):\n",
        "\n",
        "  # Training\n",
        "\n",
        "  # Set our model to training mode (as opposed to evaluation mode)\n",
        "  model.train()\n",
        "\n",
        "  # Tracking variables\n",
        "  tr_loss = 0 #running loss\n",
        "  nb_tr_examples, nb_tr_steps = 0, 0\n",
        "\n",
        "  # Train the data for one epoch\n",
        "  for step, batch in enumerate(train_dataloader):\n",
        "    # Add batch to GPU\n",
        "    batch = tuple(t.to(device) for t in batch)\n",
        "    # Unpack the inputs from our dataloader\n",
        "    b_input_ids, b_input_mask, b_labels = batch\n",
        "    # Clear out the gradients (by default they accumulate)\n",
        "    optimizer.zero_grad()\n",
        "\n",
        "    # # Forward pass for multiclass classification\n",
        "    # outputs = model(b_input_ids, token_type_ids=None, attention_mask=b_input_mask, labels=b_labels)\n",
        "    # loss = outputs[0]\n",
        "    # logits = outputs[1]\n",
        "\n",
        "    # Forward pass for multilabel classification\n",
        "    outputs = model(b_input_ids, token_type_ids=None, attention_mask=b_input_mask)\n",
        "    logits = outputs[0]\n",
        "    loss_func = BCEWithLogitsLoss()\n",
        "    loss = loss_func(logits.view(-1,num_labels),b_labels.type_as(logits).view(-1,num_labels)) #convert labels to float for calculation\n",
        "    # loss_func = BCELoss()\n",
        "    # loss = loss_func(torch.sigmoid(logits.view(-1,num_labels)),b_labels.type_as(logits).view(-1,num_labels)) #convert labels to float for calculation\n",
        "    train_loss_set.append(loss.item())\n",
        "\n",
        "    # Backward pass\n",
        "    loss.backward()\n",
        "    # Update parameters and take a step using the computed gradient\n",
        "    optimizer.step()\n",
        "    # scheduler.step()\n",
        "    # Update tracking variables\n",
        "    tr_loss += loss.item()\n",
        "    nb_tr_examples += b_input_ids.size(0)\n",
        "    nb_tr_steps += 1\n",
        "\n",
        "  print(\"Train loss: {}\".format(tr_loss/nb_tr_steps))\n",
        "\n",
        "###############################################################################\n",
        "\n",
        "  # Validation\n",
        "\n",
        "  # Put model in evaluation mode to evaluate loss on the validation set\n",
        "  model.eval()\n",
        "\n",
        "  # Variables to gather full output\n",
        "  logit_preds,true_labels,pred_labels,tokenized_texts = [],[],[],[]\n",
        "\n",
        "  # Predict\n",
        "  for i, batch in enumerate(validation_dataloader):\n",
        "    batch = tuple(t.to(device) for t in batch)\n",
        "    # Unpack the inputs from our dataloader\n",
        "    b_input_ids, b_input_mask, b_labels = batch\n",
        "    with torch.no_grad():\n",
        "      # Forward pass\n",
        "      outs = model(b_input_ids, token_type_ids=None, attention_mask=b_input_mask)\n",
        "      b_logit_pred = outs[0]\n",
        "      pred_label = torch.sigmoid(b_logit_pred)\n",
        "\n",
        "      b_logit_pred = b_logit_pred.detach().cpu().numpy()\n",
        "      pred_label = pred_label.to('cpu').numpy()\n",
        "      b_labels = b_labels.to('cpu').numpy()\n",
        "\n",
        "    tokenized_texts.append(b_input_ids)\n",
        "    logit_preds.append(b_logit_pred)\n",
        "    true_labels.append(b_labels)\n",
        "    pred_labels.append(pred_label)\n",
        "\n",
        "  # Flatten outputs\n",
        "  pred_labels = [item for sublist in pred_labels for item in sublist]\n",
        "  true_labels = [item for sublist in true_labels for item in sublist]\n",
        "\n",
        "  # Calculate Accuracy\n",
        "  #threshold = 0.30\n",
        "  #pred_bools = [pl>threshold for pl in pred_labels]\n",
        "  #print(pred_labels)\n",
        "  #max_val = max(pred_labels)\n",
        "  pred_bools = [is_max(arr) for arr in pred_labels]\n",
        "  true_bools = [tl==1 for tl in true_labels]\n",
        "  val_f1_accuracy = f1_score(true_bools,pred_bools,average='micro')*100\n",
        "  val_flat_accuracy = accuracy_score(true_bools, pred_bools)*100\n",
        "\n",
        "  print('F1 Validation Accuracy: ', val_f1_accuracy)\n",
        "  print('Flat Validation Accuracy: ', val_flat_accuracy)"
      ]
    },
    {
      "cell_type": "markdown",
      "metadata": {
        "id": "l6_zh67P9NF2"
      },
      "source": [
        "# Evaluation"
      ]
    },
    {
      "cell_type": "markdown",
      "metadata": {
        "id": "_7dd2GE3F4yK"
      },
      "source": [
        "## Load and Preprocess Test Data"
      ]
    },
    {
      "cell_type": "code",
      "execution_count": null,
      "metadata": {
        "colab": {
          "base_uri": "https://localhost:8080/",
          "height": 337
        },
        "id": "G5Q7hC4GFOLJ",
        "outputId": "f776084e-5df3-40f4-84be-13471881e648"
      },
      "outputs": [
        {
          "output_type": "execute_result",
          "data": {
            "text/plain": [
              "                                             sentence1  \\\n",
              "403  Their contract will expire at 12 : 01 a.m. Wed...   \n",
              "404  But plaque volume increased by 2.7 percent in ...   \n",
              "405  Today in the US , the book - kept under wraps ...   \n",
              "406  The S & P / TSX composite rose 87.74 points on...   \n",
              "407  Ex-KGB agent Putin added that the Beatles were...   \n",
              "\n",
              "                                             sentence2  label   idx  yes  no  \\\n",
              "403  \" It has outraged the membership , \" said Rian...      0  4023    0   1   \n",
              "404  The volume of plaque in Pravachol patients ' a...      1  4028    1   0   \n",
              "405  Tomorrow the book , kept under wraps by G. P. ...      1  4040    1   0   \n",
              "406  On the week , the Dow Jones industrial average...      0  4049    0   1   \n",
              "407  In Soviet times the Beatles ' music \" was cons...      1  4053    1   0   \n",
              "\n",
              "                                                  text  \n",
              "403  Sentence1: Their contract will expire at 12 : ...  \n",
              "404  Sentence1: But plaque volume increased by 2.7 ...  \n",
              "405  Sentence1: Today in the US , the book - kept u...  \n",
              "406  Sentence1: The S & P / TSX composite rose 87.7...  \n",
              "407  Sentence1: Ex-KGB agent Putin added that the B...  "
            ],
            "text/html": [
              "\n",
              "  <div id=\"df-07c0605c-b98c-4a43-8c18-d71704d4be72\">\n",
              "    <div class=\"colab-df-container\">\n",
              "      <div>\n",
              "<style scoped>\n",
              "    .dataframe tbody tr th:only-of-type {\n",
              "        vertical-align: middle;\n",
              "    }\n",
              "\n",
              "    .dataframe tbody tr th {\n",
              "        vertical-align: top;\n",
              "    }\n",
              "\n",
              "    .dataframe thead th {\n",
              "        text-align: right;\n",
              "    }\n",
              "</style>\n",
              "<table border=\"1\" class=\"dataframe\">\n",
              "  <thead>\n",
              "    <tr style=\"text-align: right;\">\n",
              "      <th></th>\n",
              "      <th>sentence1</th>\n",
              "      <th>sentence2</th>\n",
              "      <th>label</th>\n",
              "      <th>idx</th>\n",
              "      <th>yes</th>\n",
              "      <th>no</th>\n",
              "      <th>text</th>\n",
              "    </tr>\n",
              "  </thead>\n",
              "  <tbody>\n",
              "    <tr>\n",
              "      <th>403</th>\n",
              "      <td>Their contract will expire at 12 : 01 a.m. Wed...</td>\n",
              "      <td>\" It has outraged the membership , \" said Rian...</td>\n",
              "      <td>0</td>\n",
              "      <td>4023</td>\n",
              "      <td>0</td>\n",
              "      <td>1</td>\n",
              "      <td>Sentence1: Their contract will expire at 12 : ...</td>\n",
              "    </tr>\n",
              "    <tr>\n",
              "      <th>404</th>\n",
              "      <td>But plaque volume increased by 2.7 percent in ...</td>\n",
              "      <td>The volume of plaque in Pravachol patients ' a...</td>\n",
              "      <td>1</td>\n",
              "      <td>4028</td>\n",
              "      <td>1</td>\n",
              "      <td>0</td>\n",
              "      <td>Sentence1: But plaque volume increased by 2.7 ...</td>\n",
              "    </tr>\n",
              "    <tr>\n",
              "      <th>405</th>\n",
              "      <td>Today in the US , the book - kept under wraps ...</td>\n",
              "      <td>Tomorrow the book , kept under wraps by G. P. ...</td>\n",
              "      <td>1</td>\n",
              "      <td>4040</td>\n",
              "      <td>1</td>\n",
              "      <td>0</td>\n",
              "      <td>Sentence1: Today in the US , the book - kept u...</td>\n",
              "    </tr>\n",
              "    <tr>\n",
              "      <th>406</th>\n",
              "      <td>The S &amp; P / TSX composite rose 87.74 points on...</td>\n",
              "      <td>On the week , the Dow Jones industrial average...</td>\n",
              "      <td>0</td>\n",
              "      <td>4049</td>\n",
              "      <td>0</td>\n",
              "      <td>1</td>\n",
              "      <td>Sentence1: The S &amp; P / TSX composite rose 87.7...</td>\n",
              "    </tr>\n",
              "    <tr>\n",
              "      <th>407</th>\n",
              "      <td>Ex-KGB agent Putin added that the Beatles were...</td>\n",
              "      <td>In Soviet times the Beatles ' music \" was cons...</td>\n",
              "      <td>1</td>\n",
              "      <td>4053</td>\n",
              "      <td>1</td>\n",
              "      <td>0</td>\n",
              "      <td>Sentence1: Ex-KGB agent Putin added that the B...</td>\n",
              "    </tr>\n",
              "  </tbody>\n",
              "</table>\n",
              "</div>\n",
              "      <button class=\"colab-df-convert\" onclick=\"convertToInteractive('df-07c0605c-b98c-4a43-8c18-d71704d4be72')\"\n",
              "              title=\"Convert this dataframe to an interactive table.\"\n",
              "              style=\"display:none;\">\n",
              "        \n",
              "  <svg xmlns=\"http://www.w3.org/2000/svg\" height=\"24px\"viewBox=\"0 0 24 24\"\n",
              "       width=\"24px\">\n",
              "    <path d=\"M0 0h24v24H0V0z\" fill=\"none\"/>\n",
              "    <path d=\"M18.56 5.44l.94 2.06.94-2.06 2.06-.94-2.06-.94-.94-2.06-.94 2.06-2.06.94zm-11 1L8.5 8.5l.94-2.06 2.06-.94-2.06-.94L8.5 2.5l-.94 2.06-2.06.94zm10 10l.94 2.06.94-2.06 2.06-.94-2.06-.94-.94-2.06-.94 2.06-2.06.94z\"/><path d=\"M17.41 7.96l-1.37-1.37c-.4-.4-.92-.59-1.43-.59-.52 0-1.04.2-1.43.59L10.3 9.45l-7.72 7.72c-.78.78-.78 2.05 0 2.83L4 21.41c.39.39.9.59 1.41.59.51 0 1.02-.2 1.41-.59l7.78-7.78 2.81-2.81c.8-.78.8-2.07 0-2.86zM5.41 20L4 18.59l7.72-7.72 1.47 1.35L5.41 20z\"/>\n",
              "  </svg>\n",
              "      </button>\n",
              "      \n",
              "  <style>\n",
              "    .colab-df-container {\n",
              "      display:flex;\n",
              "      flex-wrap:wrap;\n",
              "      gap: 12px;\n",
              "    }\n",
              "\n",
              "    .colab-df-convert {\n",
              "      background-color: #E8F0FE;\n",
              "      border: none;\n",
              "      border-radius: 50%;\n",
              "      cursor: pointer;\n",
              "      display: none;\n",
              "      fill: #1967D2;\n",
              "      height: 32px;\n",
              "      padding: 0 0 0 0;\n",
              "      width: 32px;\n",
              "    }\n",
              "\n",
              "    .colab-df-convert:hover {\n",
              "      background-color: #E2EBFA;\n",
              "      box-shadow: 0px 1px 2px rgba(60, 64, 67, 0.3), 0px 1px 3px 1px rgba(60, 64, 67, 0.15);\n",
              "      fill: #174EA6;\n",
              "    }\n",
              "\n",
              "    [theme=dark] .colab-df-convert {\n",
              "      background-color: #3B4455;\n",
              "      fill: #D2E3FC;\n",
              "    }\n",
              "\n",
              "    [theme=dark] .colab-df-convert:hover {\n",
              "      background-color: #434B5C;\n",
              "      box-shadow: 0px 1px 3px 1px rgba(0, 0, 0, 0.15);\n",
              "      filter: drop-shadow(0px 1px 2px rgba(0, 0, 0, 0.3));\n",
              "      fill: #FFFFFF;\n",
              "    }\n",
              "  </style>\n",
              "\n",
              "      <script>\n",
              "        const buttonEl =\n",
              "          document.querySelector('#df-07c0605c-b98c-4a43-8c18-d71704d4be72 button.colab-df-convert');\n",
              "        buttonEl.style.display =\n",
              "          google.colab.kernel.accessAllowed ? 'block' : 'none';\n",
              "\n",
              "        async function convertToInteractive(key) {\n",
              "          const element = document.querySelector('#df-07c0605c-b98c-4a43-8c18-d71704d4be72');\n",
              "          const dataTable =\n",
              "            await google.colab.kernel.invokeFunction('convertToInteractive',\n",
              "                                                     [key], {});\n",
              "          if (!dataTable) return;\n",
              "\n",
              "          const docLinkHtml = 'Like what you see? Visit the ' +\n",
              "            '<a target=\"_blank\" href=https://colab.research.google.com/notebooks/data_table.ipynb>data table notebook</a>'\n",
              "            + ' to learn more about interactive tables.';\n",
              "          element.innerHTML = '';\n",
              "          dataTable['output_type'] = 'display_data';\n",
              "          await google.colab.output.renderOutput(dataTable, element);\n",
              "          const docLink = document.createElement('div');\n",
              "          docLink.innerHTML = docLinkHtml;\n",
              "          element.appendChild(docLink);\n",
              "        }\n",
              "      </script>\n",
              "    </div>\n",
              "  </div>\n",
              "  "
            ]
          },
          "metadata": {},
          "execution_count": 28
        }
      ],
      "source": [
        "test_df = pd.read_csv('mrpc_valid.csv')\n",
        "#test_labels_df = pd.read_csv('test_labels.csv')\n",
        "#test_df = test_df.merge(test_labels_df, on='id', how='left')\n",
        "# test_df['text']=test_df['sentence']\n",
        "test_df['yes']=test_df['label'].apply(lambda x:1 if x==1 else 0)\n",
        "test_df['no']=test_df['label'].apply(lambda x:1 if x==0 else 0)\n",
        "test_df['text']='Sentence1: '+test_df['sentence1']+'Sentence2: '+test_df['sentence2']\n",
        "#print('Null values: ', test_df.isnull().values.any()) #should not be any null sentences or labels\n",
        "#print('Same columns between train and test: ', label_cols == test_label_cols) #columns should be the same\n",
        "test_df.tail()"
      ]
    },
    {
      "cell_type": "code",
      "execution_count": null,
      "metadata": {
        "colab": {
          "base_uri": "https://localhost:8080/"
        },
        "id": "j_PZ1mVOhkK8",
        "outputId": "b73b1e36-2832-4e87-90a9-1611071dfffb"
      },
      "outputs": [
        {
          "output_type": "execute_result",
          "data": {
            "text/plain": [
              "['yes', 'no']"
            ]
          },
          "metadata": {},
          "execution_count": 29
        }
      ],
      "source": [
        "test_label_cols = list(test_df.columns[4:6])\n",
        "test_label_cols"
      ]
    },
    {
      "cell_type": "code",
      "execution_count": null,
      "metadata": {
        "colab": {
          "base_uri": "https://localhost:8080/",
          "height": 337
        },
        "id": "77rjCrMGpYxz",
        "outputId": "19339d22-4c42-4e3e-938f-554858403878"
      },
      "outputs": [
        {
          "output_type": "execute_result",
          "data": {
            "text/plain": [
              "                                           sentence1  \\\n",
              "0  He said the foodservice pie business doesn 't ...   \n",
              "1  Magnarelli said Racicot hated the Iraqi regime...   \n",
              "2  The dollar was at 116.92 yen against the yen ,...   \n",
              "3  The AFL-CIO is waiting until October to decide...   \n",
              "4  No dates have been set for the civil or the cr...   \n",
              "\n",
              "                                           sentence2  label  idx  yes  no  \\\n",
              "0  \" The foodservice pie business does not fit ou...      1    9    1   0   \n",
              "1  His wife said he was \" 100 percent behind Geor...      0   18    0   1   \n",
              "2  The dollar was at 116.78 yen JPY = , virtually...      0   25    0   1   \n",
              "3  The AFL-CIO announced Wednesday that it will d...      1   32    1   0   \n",
              "4  No dates have been set for the criminal or civ...      0   33    0   1   \n",
              "\n",
              "                                                text one_hot_labels  \n",
              "0  Sentence1: He said the foodservice pie busines...         [1, 0]  \n",
              "1  Sentence1: Magnarelli said Racicot hated the I...         [0, 1]  \n",
              "2  Sentence1: The dollar was at 116.92 yen agains...         [0, 1]  \n",
              "3  Sentence1: The AFL-CIO is waiting until Octobe...         [1, 0]  \n",
              "4  Sentence1: No dates have been set for the civi...         [0, 1]  "
            ],
            "text/html": [
              "\n",
              "  <div id=\"df-f52f0c50-4e24-4905-a49b-8d148f619931\">\n",
              "    <div class=\"colab-df-container\">\n",
              "      <div>\n",
              "<style scoped>\n",
              "    .dataframe tbody tr th:only-of-type {\n",
              "        vertical-align: middle;\n",
              "    }\n",
              "\n",
              "    .dataframe tbody tr th {\n",
              "        vertical-align: top;\n",
              "    }\n",
              "\n",
              "    .dataframe thead th {\n",
              "        text-align: right;\n",
              "    }\n",
              "</style>\n",
              "<table border=\"1\" class=\"dataframe\">\n",
              "  <thead>\n",
              "    <tr style=\"text-align: right;\">\n",
              "      <th></th>\n",
              "      <th>sentence1</th>\n",
              "      <th>sentence2</th>\n",
              "      <th>label</th>\n",
              "      <th>idx</th>\n",
              "      <th>yes</th>\n",
              "      <th>no</th>\n",
              "      <th>text</th>\n",
              "      <th>one_hot_labels</th>\n",
              "    </tr>\n",
              "  </thead>\n",
              "  <tbody>\n",
              "    <tr>\n",
              "      <th>0</th>\n",
              "      <td>He said the foodservice pie business doesn 't ...</td>\n",
              "      <td>\" The foodservice pie business does not fit ou...</td>\n",
              "      <td>1</td>\n",
              "      <td>9</td>\n",
              "      <td>1</td>\n",
              "      <td>0</td>\n",
              "      <td>Sentence1: He said the foodservice pie busines...</td>\n",
              "      <td>[1, 0]</td>\n",
              "    </tr>\n",
              "    <tr>\n",
              "      <th>1</th>\n",
              "      <td>Magnarelli said Racicot hated the Iraqi regime...</td>\n",
              "      <td>His wife said he was \" 100 percent behind Geor...</td>\n",
              "      <td>0</td>\n",
              "      <td>18</td>\n",
              "      <td>0</td>\n",
              "      <td>1</td>\n",
              "      <td>Sentence1: Magnarelli said Racicot hated the I...</td>\n",
              "      <td>[0, 1]</td>\n",
              "    </tr>\n",
              "    <tr>\n",
              "      <th>2</th>\n",
              "      <td>The dollar was at 116.92 yen against the yen ,...</td>\n",
              "      <td>The dollar was at 116.78 yen JPY = , virtually...</td>\n",
              "      <td>0</td>\n",
              "      <td>25</td>\n",
              "      <td>0</td>\n",
              "      <td>1</td>\n",
              "      <td>Sentence1: The dollar was at 116.92 yen agains...</td>\n",
              "      <td>[0, 1]</td>\n",
              "    </tr>\n",
              "    <tr>\n",
              "      <th>3</th>\n",
              "      <td>The AFL-CIO is waiting until October to decide...</td>\n",
              "      <td>The AFL-CIO announced Wednesday that it will d...</td>\n",
              "      <td>1</td>\n",
              "      <td>32</td>\n",
              "      <td>1</td>\n",
              "      <td>0</td>\n",
              "      <td>Sentence1: The AFL-CIO is waiting until Octobe...</td>\n",
              "      <td>[1, 0]</td>\n",
              "    </tr>\n",
              "    <tr>\n",
              "      <th>4</th>\n",
              "      <td>No dates have been set for the civil or the cr...</td>\n",
              "      <td>No dates have been set for the criminal or civ...</td>\n",
              "      <td>0</td>\n",
              "      <td>33</td>\n",
              "      <td>0</td>\n",
              "      <td>1</td>\n",
              "      <td>Sentence1: No dates have been set for the civi...</td>\n",
              "      <td>[0, 1]</td>\n",
              "    </tr>\n",
              "  </tbody>\n",
              "</table>\n",
              "</div>\n",
              "      <button class=\"colab-df-convert\" onclick=\"convertToInteractive('df-f52f0c50-4e24-4905-a49b-8d148f619931')\"\n",
              "              title=\"Convert this dataframe to an interactive table.\"\n",
              "              style=\"display:none;\">\n",
              "        \n",
              "  <svg xmlns=\"http://www.w3.org/2000/svg\" height=\"24px\"viewBox=\"0 0 24 24\"\n",
              "       width=\"24px\">\n",
              "    <path d=\"M0 0h24v24H0V0z\" fill=\"none\"/>\n",
              "    <path d=\"M18.56 5.44l.94 2.06.94-2.06 2.06-.94-2.06-.94-.94-2.06-.94 2.06-2.06.94zm-11 1L8.5 8.5l.94-2.06 2.06-.94-2.06-.94L8.5 2.5l-.94 2.06-2.06.94zm10 10l.94 2.06.94-2.06 2.06-.94-2.06-.94-.94-2.06-.94 2.06-2.06.94z\"/><path d=\"M17.41 7.96l-1.37-1.37c-.4-.4-.92-.59-1.43-.59-.52 0-1.04.2-1.43.59L10.3 9.45l-7.72 7.72c-.78.78-.78 2.05 0 2.83L4 21.41c.39.39.9.59 1.41.59.51 0 1.02-.2 1.41-.59l7.78-7.78 2.81-2.81c.8-.78.8-2.07 0-2.86zM5.41 20L4 18.59l7.72-7.72 1.47 1.35L5.41 20z\"/>\n",
              "  </svg>\n",
              "      </button>\n",
              "      \n",
              "  <style>\n",
              "    .colab-df-container {\n",
              "      display:flex;\n",
              "      flex-wrap:wrap;\n",
              "      gap: 12px;\n",
              "    }\n",
              "\n",
              "    .colab-df-convert {\n",
              "      background-color: #E8F0FE;\n",
              "      border: none;\n",
              "      border-radius: 50%;\n",
              "      cursor: pointer;\n",
              "      display: none;\n",
              "      fill: #1967D2;\n",
              "      height: 32px;\n",
              "      padding: 0 0 0 0;\n",
              "      width: 32px;\n",
              "    }\n",
              "\n",
              "    .colab-df-convert:hover {\n",
              "      background-color: #E2EBFA;\n",
              "      box-shadow: 0px 1px 2px rgba(60, 64, 67, 0.3), 0px 1px 3px 1px rgba(60, 64, 67, 0.15);\n",
              "      fill: #174EA6;\n",
              "    }\n",
              "\n",
              "    [theme=dark] .colab-df-convert {\n",
              "      background-color: #3B4455;\n",
              "      fill: #D2E3FC;\n",
              "    }\n",
              "\n",
              "    [theme=dark] .colab-df-convert:hover {\n",
              "      background-color: #434B5C;\n",
              "      box-shadow: 0px 1px 3px 1px rgba(0, 0, 0, 0.15);\n",
              "      filter: drop-shadow(0px 1px 2px rgba(0, 0, 0, 0.3));\n",
              "      fill: #FFFFFF;\n",
              "    }\n",
              "  </style>\n",
              "\n",
              "      <script>\n",
              "        const buttonEl =\n",
              "          document.querySelector('#df-f52f0c50-4e24-4905-a49b-8d148f619931 button.colab-df-convert');\n",
              "        buttonEl.style.display =\n",
              "          google.colab.kernel.accessAllowed ? 'block' : 'none';\n",
              "\n",
              "        async function convertToInteractive(key) {\n",
              "          const element = document.querySelector('#df-f52f0c50-4e24-4905-a49b-8d148f619931');\n",
              "          const dataTable =\n",
              "            await google.colab.kernel.invokeFunction('convertToInteractive',\n",
              "                                                     [key], {});\n",
              "          if (!dataTable) return;\n",
              "\n",
              "          const docLinkHtml = 'Like what you see? Visit the ' +\n",
              "            '<a target=\"_blank\" href=https://colab.research.google.com/notebooks/data_table.ipynb>data table notebook</a>'\n",
              "            + ' to learn more about interactive tables.';\n",
              "          element.innerHTML = '';\n",
              "          dataTable['output_type'] = 'display_data';\n",
              "          await google.colab.output.renderOutput(dataTable, element);\n",
              "          const docLink = document.createElement('div');\n",
              "          docLink.innerHTML = docLinkHtml;\n",
              "          element.appendChild(docLink);\n",
              "        }\n",
              "      </script>\n",
              "    </div>\n",
              "  </div>\n",
              "  "
            ]
          },
          "metadata": {},
          "execution_count": 30
        }
      ],
      "source": [
        "test_df = test_df[~test_df[test_label_cols].eq(-1).any(axis=1)] #remove irrelevant rows/comments with -1 values\n",
        "test_df['one_hot_labels'] = list(test_df[test_label_cols].values)\n",
        "test_df.head()"
      ]
    },
    {
      "cell_type": "code",
      "execution_count": null,
      "metadata": {
        "id": "1a41OmU2i7qp"
      },
      "outputs": [],
      "source": [
        "# Gathering input data\n",
        "test_labels = list(test_df.one_hot_labels.values)\n",
        "test_comments = list(test_df.text.values)"
      ]
    },
    {
      "cell_type": "code",
      "execution_count": null,
      "metadata": {
        "colab": {
          "base_uri": "https://localhost:8080/"
        },
        "id": "amySMO8EQzf2",
        "outputId": "56931eb8-6d2c-4289-fdc7-63da92cff5c8"
      },
      "outputs": [
        {
          "output_type": "stream",
          "name": "stderr",
          "text": [
            "/usr/local/lib/python3.10/dist-packages/transformers/tokenization_utils_base.py:2377: FutureWarning: The `pad_to_max_length` argument is deprecated and will be removed in a future version, use `padding=True` or `padding='longest'` to pad to the longest sequence in the batch, or use `padding='max_length'` to pad to a max length. In this case, you can give a specific length with `max_length` (e.g. `max_length=45`) or leave max_length to None to pad to the maximal input size of the model (e.g. 512 for Bert).\n",
            "  warnings.warn(\n"
          ]
        }
      ],
      "source": [
        "# Encoding input data\n",
        "test_encodings = tokenizer.batch_encode_plus(test_comments,max_length=max_length,pad_to_max_length=True)\n",
        "test_input_ids = test_encodings['input_ids']\n",
        "#test_token_type_ids = test_encodings['token_type_ids']\n",
        "test_attention_masks = test_encodings['attention_mask']"
      ]
    },
    {
      "cell_type": "code",
      "execution_count": null,
      "metadata": {
        "id": "hqOfi9fkRaRN"
      },
      "outputs": [],
      "source": [
        "# Make tensors out of data\n",
        "test_inputs = torch.tensor(test_input_ids)\n",
        "test_labels = torch.tensor(test_labels)\n",
        "test_masks = torch.tensor(test_attention_masks)\n",
        "#test_token_types = torch.tensor(test_token_type_ids)\n",
        "# Create test dataloader\n",
        "test_data = TensorDataset(test_inputs, test_masks, test_labels)\n",
        "#test_data = TensorDataset(test_inputs, test_masks)\n",
        "test_sampler = SequentialSampler(test_data)\n",
        "test_dataloader = DataLoader(test_data, sampler=test_sampler, batch_size=batch_size)\n",
        "# Save test dataloader\n",
        "torch.save(test_dataloader,'test_data_loader')"
      ]
    },
    {
      "cell_type": "markdown",
      "metadata": {
        "id": "PFTWxCA_GBau"
      },
      "source": [
        "## Prediction and Metics"
      ]
    },
    {
      "cell_type": "code",
      "execution_count": null,
      "metadata": {
        "id": "NPvrL6OFSQvf"
      },
      "outputs": [],
      "source": [
        "# Test\n",
        "\n",
        "# Put model in evaluation mode to evaluate loss on the validation set\n",
        "model.eval()\n",
        "\n",
        "#track variables\n",
        "logit_preds,true_labels,pred_labels,tokenized_texts = [],[],[],[]\n",
        "\n",
        "# Predict\n",
        "for i, batch in enumerate(test_dataloader):\n",
        "  batch = tuple(t.to(device) for t in batch)\n",
        "  # Unpack the inputs from our dataloader\n",
        "  b_input_ids, b_input_mask, b_labels = batch\n",
        "  #b_input_ids, b_input_mask = batch\n",
        "  with torch.no_grad():\n",
        "    # Forward pass\n",
        "    outs = model(b_input_ids, token_type_ids=None, attention_mask=b_input_mask)\n",
        "    b_logit_pred = outs[0]\n",
        "    pred_label = torch.sigmoid(b_logit_pred)\n",
        "\n",
        "    b_logit_pred = b_logit_pred.detach().cpu().numpy()\n",
        "    pred_label = pred_label.to('cpu').numpy()\n",
        "    b_labels = b_labels.to('cpu').numpy()\n",
        "\n",
        "  tokenized_texts.append(b_input_ids)\n",
        "  logit_preds.append(b_logit_pred)\n",
        "  true_labels.append(b_labels)\n",
        "  pred_labels.append(pred_label)\n",
        "\n",
        "# Flatten outputs\n",
        "tokenized_texts = [item for sublist in tokenized_texts for item in sublist]\n",
        "pred_labels = [item for sublist in pred_labels for item in sublist]\n",
        "true_labels = [item for sublist in true_labels for item in sublist]\n",
        "# Converting flattened binary values to boolean values\n",
        "true_bools = [tl==1 for tl in true_labels]"
      ]
    },
    {
      "cell_type": "markdown",
      "metadata": {
        "id": "bQeGWqeMzAoZ"
      },
      "source": [
        "We need to threshold our sigmoid function outputs which range from [0, 1]. Below I use 0.50 as a threshold."
      ]
    },
    {
      "cell_type": "code",
      "source": [
        "#combined4 (0.2)\n",
        "pred_bools = [is_max(pl) for pl in pred_labels] #boolean output after thresholding\n",
        "\n",
        "# Print and save classification report\n",
        "print('Micro F1 Accuracy: ', f1_score(true_bools, pred_bools,average='micro'))\n",
        "print('Macro F1 Accuracy: ', f1_score(true_bools, pred_bools,average='macro'))\n",
        "print('Weighted F1 Accuracy: ', f1_score(true_bools, pred_bools,average='weighted'))\n",
        "print('Test Flat Accuracy: ', accuracy_score(true_bools, pred_bools),'\\n')\n",
        "clf_report = classification_report(true_bools,pred_bools,target_names=test_label_cols)\n",
        "pickle.dump(clf_report, open('classification_report.txt','wb')) #save report\n",
        "print(clf_report)"
      ],
      "metadata": {
        "colab": {
          "base_uri": "https://localhost:8080/"
        },
        "id": "mssu0iGZIQ_M",
        "outputId": "97391cc4-3427-4ed9-a99f-412cdf9ee025"
      },
      "execution_count": null,
      "outputs": [
        {
          "output_type": "stream",
          "name": "stdout",
          "text": [
            "Micro F1 Accuracy:  0.8235294117647058\n",
            "Macro F1 Accuracy:  0.7999782111341105\n",
            "Weighted F1 Accuracy:  0.825211640381177\n",
            "Test Flat Accuracy:  0.8235294117647058 \n",
            "\n",
            "              precision    recall  f1-score   support\n",
            "\n",
            "         yes       0.88      0.85      0.87       279\n",
            "          no       0.71      0.76      0.73       129\n",
            "\n",
            "   micro avg       0.82      0.82      0.82       408\n",
            "   macro avg       0.79      0.81      0.80       408\n",
            "weighted avg       0.83      0.82      0.83       408\n",
            " samples avg       0.82      0.82      0.82       408\n",
            "\n"
          ]
        }
      ]
    },
    {
      "cell_type": "code",
      "source": [
        "#combined4 (0.4)\n",
        "pred_bools = [is_max(pl) for pl in pred_labels] #boolean output after thresholding\n",
        "\n",
        "# Print and save classification report\n",
        "print('Micro F1 Accuracy: ', f1_score(true_bools, pred_bools,average='micro'))\n",
        "print('Macro F1 Accuracy: ', f1_score(true_bools, pred_bools,average='macro'))\n",
        "print('Weighted F1 Accuracy: ', f1_score(true_bools, pred_bools,average='weighted'))\n",
        "print('Test Flat Accuracy: ', accuracy_score(true_bools, pred_bools),'\\n')\n",
        "clf_report = classification_report(true_bools,pred_bools,target_names=test_label_cols)\n",
        "pickle.dump(clf_report, open('classification_report.txt','wb')) #save report\n",
        "print(clf_report)"
      ],
      "metadata": {
        "colab": {
          "base_uri": "https://localhost:8080/"
        },
        "id": "dOQOmpGMNIfv",
        "outputId": "1b6d2837-8519-450f-cbf6-fd28deea790f"
      },
      "execution_count": null,
      "outputs": [
        {
          "output_type": "stream",
          "name": "stdout",
          "text": [
            "Micro F1 Accuracy:  0.8259803921568627\n",
            "Macro F1 Accuracy:  0.7983614430994759\n",
            "Weighted F1 Accuracy:  0.8257974852094628\n",
            "Test Flat Accuracy:  0.8259803921568627 \n",
            "\n",
            "              precision    recall  f1-score   support\n",
            "\n",
            "         yes       0.87      0.87      0.87       279\n",
            "          no       0.73      0.72      0.72       129\n",
            "\n",
            "   micro avg       0.83      0.83      0.83       408\n",
            "   macro avg       0.80      0.80      0.80       408\n",
            "weighted avg       0.83      0.83      0.83       408\n",
            " samples avg       0.83      0.83      0.83       408\n",
            "\n"
          ]
        }
      ]
    },
    {
      "cell_type": "code",
      "source": [
        "#combined4 (0.6)\n",
        "pred_bools = [is_max(pl) for pl in pred_labels] #boolean output after thresholding\n",
        "\n",
        "# Print and save classification report\n",
        "print('Micro F1 Accuracy: ', f1_score(true_bools, pred_bools,average='micro'))\n",
        "print('Macro F1 Accuracy: ', f1_score(true_bools, pred_bools,average='macro'))\n",
        "print('Weighted F1 Accuracy: ', f1_score(true_bools, pred_bools,average='weighted'))\n",
        "print('Test Flat Accuracy: ', accuracy_score(true_bools, pred_bools),'\\n')\n",
        "clf_report = classification_report(true_bools,pred_bools,target_names=test_label_cols)\n",
        "pickle.dump(clf_report, open('classification_report.txt','wb')) #save report\n",
        "print(clf_report)"
      ],
      "metadata": {
        "colab": {
          "base_uri": "https://localhost:8080/"
        },
        "id": "DBbC5mY-U92c",
        "outputId": "cbc81fda-2ffb-40ef-9d3e-68c9e0f82885"
      },
      "execution_count": null,
      "outputs": [
        {
          "output_type": "stream",
          "name": "stdout",
          "text": [
            "Micro F1 Accuracy:  0.8063725490196079\n",
            "Macro F1 Accuracy:  0.7662704944780026\n",
            "Weighted F1 Accuracy:  0.8018640340119717\n",
            "Test Flat Accuracy:  0.8063725490196079 \n",
            "\n",
            "              precision    recall  f1-score   support\n",
            "\n",
            "         yes       0.84      0.89      0.86       279\n",
            "          no       0.73      0.62      0.67       129\n",
            "\n",
            "   micro avg       0.81      0.81      0.81       408\n",
            "   macro avg       0.78      0.76      0.77       408\n",
            "weighted avg       0.80      0.81      0.80       408\n",
            " samples avg       0.81      0.81      0.81       408\n",
            "\n"
          ]
        }
      ]
    },
    {
      "cell_type": "code",
      "source": [
        "#combined4 (0.8)\n",
        "pred_bools = [is_max(pl) for pl in pred_labels] #boolean output after thresholding\n",
        "\n",
        "# Print and save classification report\n",
        "print('Micro F1 Accuracy: ', f1_score(true_bools, pred_bools,average='micro'))\n",
        "print('Macro F1 Accuracy: ', f1_score(true_bools, pred_bools,average='macro'))\n",
        "print('Weighted F1 Accuracy: ', f1_score(true_bools, pred_bools,average='weighted'))\n",
        "print('Test Flat Accuracy: ', accuracy_score(true_bools, pred_bools),'\\n')\n",
        "clf_report = classification_report(true_bools,pred_bools,target_names=test_label_cols)\n",
        "pickle.dump(clf_report, open('classification_report.txt','wb')) #save report\n",
        "print(clf_report)"
      ],
      "metadata": {
        "colab": {
          "base_uri": "https://localhost:8080/"
        },
        "id": "P52rjx5JP7u5",
        "outputId": "bd935e3b-8075-4070-cab3-b90de7d71082"
      },
      "execution_count": null,
      "outputs": [
        {
          "output_type": "stream",
          "name": "stdout",
          "text": [
            "Micro F1 Accuracy:  0.7843137254901961\n",
            "Macro F1 Accuracy:  0.7307334633268336\n",
            "Weighted F1 Accuracy:  0.7748930200548796\n",
            "Test Flat Accuracy:  0.7843137254901961 \n",
            "\n",
            "              precision    recall  f1-score   support\n",
            "\n",
            "         yes       0.81      0.90      0.85       279\n",
            "          no       0.71      0.53      0.61       129\n",
            "\n",
            "   micro avg       0.78      0.78      0.78       408\n",
            "   macro avg       0.76      0.72      0.73       408\n",
            "weighted avg       0.78      0.78      0.77       408\n",
            " samples avg       0.78      0.78      0.78       408\n",
            "\n"
          ]
        }
      ]
    },
    {
      "cell_type": "code",
      "source": [
        "#combined4 (1)\n",
        "pred_bools = [is_max(pl) for pl in pred_labels] #boolean output after thresholding\n",
        "\n",
        "# Print and save classification report\n",
        "print('Micro F1 Accuracy: ', f1_score(true_bools, pred_bools,average='micro'))\n",
        "print('Macro F1 Accuracy: ', f1_score(true_bools, pred_bools,average='macro'))\n",
        "print('Weighted F1 Accuracy: ', f1_score(true_bools, pred_bools,average='weighted'))\n",
        "print('Test Flat Accuracy: ', accuracy_score(true_bools, pred_bools),'\\n')\n",
        "clf_report = classification_report(true_bools,pred_bools,target_names=test_label_cols)\n",
        "pickle.dump(clf_report, open('classification_report.txt','wb')) #save report\n",
        "print(clf_report)"
      ],
      "metadata": {
        "colab": {
          "base_uri": "https://localhost:8080/"
        },
        "id": "Qr5DAskVThGe",
        "outputId": "13cfb01a-88fd-4740-c955-58f3796bf5e6"
      },
      "execution_count": null,
      "outputs": [
        {
          "output_type": "stream",
          "name": "stdout",
          "text": [
            "Micro F1 Accuracy:  0.7573529411764706\n",
            "Macro F1 Accuracy:  0.6591478696741855\n",
            "Weighted F1 Accuracy:  0.7264116172784904\n",
            "Test Flat Accuracy:  0.7573529411764706 \n",
            "\n",
            "              precision    recall  f1-score   support\n",
            "\n",
            "         yes       0.76      0.95      0.84       279\n",
            "          no       0.75      0.35      0.48       129\n",
            "\n",
            "   micro avg       0.76      0.76      0.76       408\n",
            "   macro avg       0.75      0.65      0.66       408\n",
            "weighted avg       0.76      0.76      0.73       408\n",
            " samples avg       0.76      0.76      0.76       408\n",
            "\n"
          ]
        }
      ]
    }
  ],
  "metadata": {
    "accelerator": "GPU",
    "colab": {
      "provenance": []
    },
    "gpuClass": "standard",
    "kernelspec": {
      "display_name": "Python 3",
      "language": "python",
      "name": "python3"
    },
    "language_info": {
      "codemirror_mode": {
        "name": "ipython",
        "version": 3
      },
      "file_extension": ".py",
      "mimetype": "text/x-python",
      "name": "python",
      "nbconvert_exporter": "python",
      "pygments_lexer": "ipython3",
      "version": "3.7.3"
    }
  },
  "nbformat": 4,
  "nbformat_minor": 0
}