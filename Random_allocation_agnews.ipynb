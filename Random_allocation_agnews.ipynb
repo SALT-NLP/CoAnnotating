{
  "cells": [
    {
      "cell_type": "markdown",
      "metadata": {
        "id": "m5tUoHe9FRhs"
      },
      "source": [
        "## Import Libraries"
      ]
    },
    {
      "cell_type": "code",
      "execution_count": null,
      "metadata": {
        "colab": {
          "base_uri": "https://localhost:8080/"
        },
        "id": "Dr7BCHS-nIRW",
        "outputId": "dece085e-900d-45df-89bf-462c3f202c57",
        "scrolled": true
      },
      "outputs": [
        {
          "output_type": "stream",
          "name": "stdout",
          "text": [
            "Looking in indexes: https://pypi.org/simple, https://us-python.pkg.dev/colab-wheels/public/simple/\n",
            "Collecting transformers\n",
            "  Downloading transformers-4.30.2-py3-none-any.whl (7.2 MB)\n",
            "\u001b[2K     \u001b[90m━━━━━━━━━━━━━━━━━━━━━━━━━━━━━━━━━━━━━━━━\u001b[0m \u001b[32m7.2/7.2 MB\u001b[0m \u001b[31m62.7 MB/s\u001b[0m eta \u001b[36m0:00:00\u001b[0m\n",
            "\u001b[?25hRequirement already satisfied: filelock in /usr/local/lib/python3.10/dist-packages (from transformers) (3.12.0)\n",
            "Collecting huggingface-hub<1.0,>=0.14.1 (from transformers)\n",
            "  Downloading huggingface_hub-0.15.1-py3-none-any.whl (236 kB)\n",
            "\u001b[2K     \u001b[90m━━━━━━━━━━━━━━━━━━━━━━━━━━━━━━━━━━━━━━\u001b[0m \u001b[32m236.8/236.8 kB\u001b[0m \u001b[31m27.6 MB/s\u001b[0m eta \u001b[36m0:00:00\u001b[0m\n",
            "\u001b[?25hRequirement already satisfied: numpy>=1.17 in /usr/local/lib/python3.10/dist-packages (from transformers) (1.22.4)\n",
            "Requirement already satisfied: packaging>=20.0 in /usr/local/lib/python3.10/dist-packages (from transformers) (23.1)\n",
            "Requirement already satisfied: pyyaml>=5.1 in /usr/local/lib/python3.10/dist-packages (from transformers) (6.0)\n",
            "Requirement already satisfied: regex!=2019.12.17 in /usr/local/lib/python3.10/dist-packages (from transformers) (2022.10.31)\n",
            "Requirement already satisfied: requests in /usr/local/lib/python3.10/dist-packages (from transformers) (2.27.1)\n",
            "Collecting tokenizers!=0.11.3,<0.14,>=0.11.1 (from transformers)\n",
            "  Downloading tokenizers-0.13.3-cp310-cp310-manylinux_2_17_x86_64.manylinux2014_x86_64.whl (7.8 MB)\n",
            "\u001b[2K     \u001b[90m━━━━━━━━━━━━━━━━━━━━━━━━━━━━━━━━━━━━━━━━\u001b[0m \u001b[32m7.8/7.8 MB\u001b[0m \u001b[31m88.9 MB/s\u001b[0m eta \u001b[36m0:00:00\u001b[0m\n",
            "\u001b[?25hCollecting safetensors>=0.3.1 (from transformers)\n",
            "  Downloading safetensors-0.3.1-cp310-cp310-manylinux_2_17_x86_64.manylinux2014_x86_64.whl (1.3 MB)\n",
            "\u001b[2K     \u001b[90m━━━━━━━━━━━━━━━━━━━━━━━━━━━━━━━━━━━━━━━━\u001b[0m \u001b[32m1.3/1.3 MB\u001b[0m \u001b[31m79.2 MB/s\u001b[0m eta \u001b[36m0:00:00\u001b[0m\n",
            "\u001b[?25hRequirement already satisfied: tqdm>=4.27 in /usr/local/lib/python3.10/dist-packages (from transformers) (4.65.0)\n",
            "Requirement already satisfied: fsspec in /usr/local/lib/python3.10/dist-packages (from huggingface-hub<1.0,>=0.14.1->transformers) (2023.4.0)\n",
            "Requirement already satisfied: typing-extensions>=3.7.4.3 in /usr/local/lib/python3.10/dist-packages (from huggingface-hub<1.0,>=0.14.1->transformers) (4.5.0)\n",
            "Requirement already satisfied: urllib3<1.27,>=1.21.1 in /usr/local/lib/python3.10/dist-packages (from requests->transformers) (1.26.15)\n",
            "Requirement already satisfied: certifi>=2017.4.17 in /usr/local/lib/python3.10/dist-packages (from requests->transformers) (2022.12.7)\n",
            "Requirement already satisfied: charset-normalizer~=2.0.0 in /usr/local/lib/python3.10/dist-packages (from requests->transformers) (2.0.12)\n",
            "Requirement already satisfied: idna<4,>=2.5 in /usr/local/lib/python3.10/dist-packages (from requests->transformers) (3.4)\n",
            "Installing collected packages: tokenizers, safetensors, huggingface-hub, transformers\n",
            "Successfully installed huggingface-hub-0.15.1 safetensors-0.3.1 tokenizers-0.13.3 transformers-4.30.2\n"
          ]
        }
      ],
      "source": [
        "!pip install transformers\n",
        "import pandas as pd\n",
        "import numpy as np\n",
        "import tensorflow as tf\n",
        "import torch\n",
        "from torch.nn import BCEWithLogitsLoss, BCELoss\n",
        "from torch.utils.data import TensorDataset, DataLoader, RandomSampler, SequentialSampler\n",
        "from tensorflow.keras.preprocessing.sequence import pad_sequences\n",
        "from sklearn.model_selection import train_test_split\n",
        "from sklearn.preprocessing import MultiLabelBinarizer\n",
        "from sklearn.metrics import classification_report, confusion_matrix, multilabel_confusion_matrix, f1_score, accuracy_score\n",
        "import pickle\n",
        "#from transformers import *\n",
        "from tqdm import tqdm, trange\n",
        "from ast import literal_eval"
      ]
    },
    {
      "cell_type": "code",
      "execution_count": null,
      "metadata": {
        "id": "zB5Dij6JuItX"
      },
      "outputs": [],
      "source": [
        "# from google.colab import drive\n",
        "# drive.mount('/content/drive')"
      ]
    },
    {
      "cell_type": "code",
      "execution_count": null,
      "metadata": {
        "colab": {
          "base_uri": "https://localhost:8080/"
        },
        "id": "UhjnJEwKnISB",
        "outputId": "692de56d-43c8-4e15-fd08-a5812fa481de"
      },
      "outputs": [
        {
          "output_type": "stream",
          "name": "stdout",
          "text": [
            "Found GPU at: /device:GPU:0\n"
          ]
        }
      ],
      "source": [
        "device_name = tf.test.gpu_device_name()\n",
        "if device_name != '/device:GPU:0':\n",
        "  raise SystemError('GPU device not found')\n",
        "print('Found GPU at: {}'.format(device_name))"
      ]
    },
    {
      "cell_type": "code",
      "execution_count": null,
      "metadata": {
        "colab": {
          "base_uri": "https://localhost:8080/",
          "height": 35
        },
        "id": "uorMX_zrnISM",
        "outputId": "648e9018-e419-4209-e4d1-5f40d1d3b6cd",
        "scrolled": true
      },
      "outputs": [
        {
          "output_type": "execute_result",
          "data": {
            "text/plain": [
              "'Tesla T4'"
            ],
            "application/vnd.google.colaboratory.intrinsic+json": {
              "type": "string"
            }
          },
          "metadata": {},
          "execution_count": 3
        }
      ],
      "source": [
        "device = torch.device(\"cuda\" if torch.cuda.is_available() else \"cpu\")\n",
        "n_gpu = torch.cuda.device_count()\n",
        "torch.cuda.get_device_name(0)"
      ]
    },
    {
      "cell_type": "code",
      "execution_count": null,
      "metadata": {
        "colab": {
          "base_uri": "https://localhost:8080/",
          "height": 699
        },
        "id": "62QeEJcKtWm3",
        "outputId": "f232cf66-bb2e-4c93-9f99-b68ff99da393"
      },
      "outputs": [
        {
          "output_type": "execute_result",
          "data": {
            "text/plain": [
              "   Class Index                                               text  \\\n",
              "0            3  Title: Wall St. Bears Claw Back Into the Black...   \n",
              "1            3  Title: Carlyle Looks Toward Commercial Aerospa...   \n",
              "2            3  Title: Oil and Economy Cloud Stocks' Outlook (...   \n",
              "3            3  Title: Iraq Halts Oil Exports from Main Southe...   \n",
              "4            3  Title: Oil prices soar to all-time record, pos...   \n",
              "\n",
              "            label1    label2                                         label3  \\\n",
              "0  topic: business  business                                topic: business   \n",
              "1         business  business                                topic: business   \n",
              "2  topic: business  business  the topic of this news article is \"business\".   \n",
              "3         business  business                                       business   \n",
              "4         business  business                                topic: business   \n",
              "\n",
              "  label4                                             label5 label6  \\\n",
              "0  true.                                              FALSE  true.   \n",
              "1  true.                                             false.   TRUE   \n",
              "2   TRUE                                             false.  true.   \n",
              "3   TRUE  false. the news title and description belong t...  true.   \n",
              "4  true.                                              FALSE   TRUE   \n",
              "\n",
              "                                              label7  \\\n",
              "0  false. this news title and description belongs...   \n",
              "1                                              FALSE   \n",
              "2                                              FALSE   \n",
              "3                                               TRUE   \n",
              "4                                               TRUE   \n",
              "\n",
              "                     label8  ... sci6 world7 sports7 business7 sci7  \\\n",
              "0                  business  ...    0      1       0         1    0   \n",
              "1                  business  ...    0      1       0         1    0   \n",
              "2  the topic is \"business\".  ...    0      1       0         1    0   \n",
              "3  the topic is \"business\".  ...    0      1       0         1    0   \n",
              "4                  business  ...    0      1       0         1    0   \n",
              "\n",
              "   entropy_world  entropy_sports  entropy_business  entropy_sci   entropy  \n",
              "0       0.863121             0.0               0.0     0.000000  0.215780  \n",
              "1       0.863121             0.0               0.0     0.000000  0.215780  \n",
              "2       0.863121             0.0               0.0     0.000000  0.215780  \n",
              "3       0.863121             0.0               0.0     0.591673  0.363698  \n",
              "4       0.863121             0.0               0.0     0.591673  0.363698  \n",
              "\n",
              "[5 rows x 54 columns]"
            ],
            "text/html": [
              "\n",
              "  <div id=\"df-69fadd77-3371-4464-bda0-0c9d3a771119\">\n",
              "    <div class=\"colab-df-container\">\n",
              "      <div>\n",
              "<style scoped>\n",
              "    .dataframe tbody tr th:only-of-type {\n",
              "        vertical-align: middle;\n",
              "    }\n",
              "\n",
              "    .dataframe tbody tr th {\n",
              "        vertical-align: top;\n",
              "    }\n",
              "\n",
              "    .dataframe thead th {\n",
              "        text-align: right;\n",
              "    }\n",
              "</style>\n",
              "<table border=\"1\" class=\"dataframe\">\n",
              "  <thead>\n",
              "    <tr style=\"text-align: right;\">\n",
              "      <th></th>\n",
              "      <th>Class Index</th>\n",
              "      <th>text</th>\n",
              "      <th>label1</th>\n",
              "      <th>label2</th>\n",
              "      <th>label3</th>\n",
              "      <th>label4</th>\n",
              "      <th>label5</th>\n",
              "      <th>label6</th>\n",
              "      <th>label7</th>\n",
              "      <th>label8</th>\n",
              "      <th>...</th>\n",
              "      <th>sci6</th>\n",
              "      <th>world7</th>\n",
              "      <th>sports7</th>\n",
              "      <th>business7</th>\n",
              "      <th>sci7</th>\n",
              "      <th>entropy_world</th>\n",
              "      <th>entropy_sports</th>\n",
              "      <th>entropy_business</th>\n",
              "      <th>entropy_sci</th>\n",
              "      <th>entropy</th>\n",
              "    </tr>\n",
              "  </thead>\n",
              "  <tbody>\n",
              "    <tr>\n",
              "      <th>0</th>\n",
              "      <td>3</td>\n",
              "      <td>Title: Wall St. Bears Claw Back Into the Black...</td>\n",
              "      <td>topic: business</td>\n",
              "      <td>business</td>\n",
              "      <td>topic: business</td>\n",
              "      <td>true.</td>\n",
              "      <td>FALSE</td>\n",
              "      <td>true.</td>\n",
              "      <td>false. this news title and description belongs...</td>\n",
              "      <td>business</td>\n",
              "      <td>...</td>\n",
              "      <td>0</td>\n",
              "      <td>1</td>\n",
              "      <td>0</td>\n",
              "      <td>1</td>\n",
              "      <td>0</td>\n",
              "      <td>0.863121</td>\n",
              "      <td>0.0</td>\n",
              "      <td>0.0</td>\n",
              "      <td>0.000000</td>\n",
              "      <td>0.215780</td>\n",
              "    </tr>\n",
              "    <tr>\n",
              "      <th>1</th>\n",
              "      <td>3</td>\n",
              "      <td>Title: Carlyle Looks Toward Commercial Aerospa...</td>\n",
              "      <td>business</td>\n",
              "      <td>business</td>\n",
              "      <td>topic: business</td>\n",
              "      <td>true.</td>\n",
              "      <td>false.</td>\n",
              "      <td>TRUE</td>\n",
              "      <td>FALSE</td>\n",
              "      <td>business</td>\n",
              "      <td>...</td>\n",
              "      <td>0</td>\n",
              "      <td>1</td>\n",
              "      <td>0</td>\n",
              "      <td>1</td>\n",
              "      <td>0</td>\n",
              "      <td>0.863121</td>\n",
              "      <td>0.0</td>\n",
              "      <td>0.0</td>\n",
              "      <td>0.000000</td>\n",
              "      <td>0.215780</td>\n",
              "    </tr>\n",
              "    <tr>\n",
              "      <th>2</th>\n",
              "      <td>3</td>\n",
              "      <td>Title: Oil and Economy Cloud Stocks' Outlook (...</td>\n",
              "      <td>topic: business</td>\n",
              "      <td>business</td>\n",
              "      <td>the topic of this news article is \"business\".</td>\n",
              "      <td>TRUE</td>\n",
              "      <td>false.</td>\n",
              "      <td>true.</td>\n",
              "      <td>FALSE</td>\n",
              "      <td>the topic is \"business\".</td>\n",
              "      <td>...</td>\n",
              "      <td>0</td>\n",
              "      <td>1</td>\n",
              "      <td>0</td>\n",
              "      <td>1</td>\n",
              "      <td>0</td>\n",
              "      <td>0.863121</td>\n",
              "      <td>0.0</td>\n",
              "      <td>0.0</td>\n",
              "      <td>0.000000</td>\n",
              "      <td>0.215780</td>\n",
              "    </tr>\n",
              "    <tr>\n",
              "      <th>3</th>\n",
              "      <td>3</td>\n",
              "      <td>Title: Iraq Halts Oil Exports from Main Southe...</td>\n",
              "      <td>business</td>\n",
              "      <td>business</td>\n",
              "      <td>business</td>\n",
              "      <td>TRUE</td>\n",
              "      <td>false. the news title and description belong t...</td>\n",
              "      <td>true.</td>\n",
              "      <td>TRUE</td>\n",
              "      <td>the topic is \"business\".</td>\n",
              "      <td>...</td>\n",
              "      <td>0</td>\n",
              "      <td>1</td>\n",
              "      <td>0</td>\n",
              "      <td>1</td>\n",
              "      <td>0</td>\n",
              "      <td>0.863121</td>\n",
              "      <td>0.0</td>\n",
              "      <td>0.0</td>\n",
              "      <td>0.591673</td>\n",
              "      <td>0.363698</td>\n",
              "    </tr>\n",
              "    <tr>\n",
              "      <th>4</th>\n",
              "      <td>3</td>\n",
              "      <td>Title: Oil prices soar to all-time record, pos...</td>\n",
              "      <td>business</td>\n",
              "      <td>business</td>\n",
              "      <td>topic: business</td>\n",
              "      <td>true.</td>\n",
              "      <td>FALSE</td>\n",
              "      <td>TRUE</td>\n",
              "      <td>TRUE</td>\n",
              "      <td>business</td>\n",
              "      <td>...</td>\n",
              "      <td>0</td>\n",
              "      <td>1</td>\n",
              "      <td>0</td>\n",
              "      <td>1</td>\n",
              "      <td>0</td>\n",
              "      <td>0.863121</td>\n",
              "      <td>0.0</td>\n",
              "      <td>0.0</td>\n",
              "      <td>0.591673</td>\n",
              "      <td>0.363698</td>\n",
              "    </tr>\n",
              "  </tbody>\n",
              "</table>\n",
              "<p>5 rows × 54 columns</p>\n",
              "</div>\n",
              "      <button class=\"colab-df-convert\" onclick=\"convertToInteractive('df-69fadd77-3371-4464-bda0-0c9d3a771119')\"\n",
              "              title=\"Convert this dataframe to an interactive table.\"\n",
              "              style=\"display:none;\">\n",
              "        \n",
              "  <svg xmlns=\"http://www.w3.org/2000/svg\" height=\"24px\"viewBox=\"0 0 24 24\"\n",
              "       width=\"24px\">\n",
              "    <path d=\"M0 0h24v24H0V0z\" fill=\"none\"/>\n",
              "    <path d=\"M18.56 5.44l.94 2.06.94-2.06 2.06-.94-2.06-.94-.94-2.06-.94 2.06-2.06.94zm-11 1L8.5 8.5l.94-2.06 2.06-.94-2.06-.94L8.5 2.5l-.94 2.06-2.06.94zm10 10l.94 2.06.94-2.06 2.06-.94-2.06-.94-.94-2.06-.94 2.06-2.06.94z\"/><path d=\"M17.41 7.96l-1.37-1.37c-.4-.4-.92-.59-1.43-.59-.52 0-1.04.2-1.43.59L10.3 9.45l-7.72 7.72c-.78.78-.78 2.05 0 2.83L4 21.41c.39.39.9.59 1.41.59.51 0 1.02-.2 1.41-.59l7.78-7.78 2.81-2.81c.8-.78.8-2.07 0-2.86zM5.41 20L4 18.59l7.72-7.72 1.47 1.35L5.41 20z\"/>\n",
              "  </svg>\n",
              "      </button>\n",
              "      \n",
              "  <style>\n",
              "    .colab-df-container {\n",
              "      display:flex;\n",
              "      flex-wrap:wrap;\n",
              "      gap: 12px;\n",
              "    }\n",
              "\n",
              "    .colab-df-convert {\n",
              "      background-color: #E8F0FE;\n",
              "      border: none;\n",
              "      border-radius: 50%;\n",
              "      cursor: pointer;\n",
              "      display: none;\n",
              "      fill: #1967D2;\n",
              "      height: 32px;\n",
              "      padding: 0 0 0 0;\n",
              "      width: 32px;\n",
              "    }\n",
              "\n",
              "    .colab-df-convert:hover {\n",
              "      background-color: #E2EBFA;\n",
              "      box-shadow: 0px 1px 2px rgba(60, 64, 67, 0.3), 0px 1px 3px 1px rgba(60, 64, 67, 0.15);\n",
              "      fill: #174EA6;\n",
              "    }\n",
              "\n",
              "    [theme=dark] .colab-df-convert {\n",
              "      background-color: #3B4455;\n",
              "      fill: #D2E3FC;\n",
              "    }\n",
              "\n",
              "    [theme=dark] .colab-df-convert:hover {\n",
              "      background-color: #434B5C;\n",
              "      box-shadow: 0px 1px 3px 1px rgba(0, 0, 0, 0.15);\n",
              "      filter: drop-shadow(0px 1px 2px rgba(0, 0, 0, 0.3));\n",
              "      fill: #FFFFFF;\n",
              "    }\n",
              "  </style>\n",
              "\n",
              "      <script>\n",
              "        const buttonEl =\n",
              "          document.querySelector('#df-69fadd77-3371-4464-bda0-0c9d3a771119 button.colab-df-convert');\n",
              "        buttonEl.style.display =\n",
              "          google.colab.kernel.accessAllowed ? 'block' : 'none';\n",
              "\n",
              "        async function convertToInteractive(key) {\n",
              "          const element = document.querySelector('#df-69fadd77-3371-4464-bda0-0c9d3a771119');\n",
              "          const dataTable =\n",
              "            await google.colab.kernel.invokeFunction('convertToInteractive',\n",
              "                                                     [key], {});\n",
              "          if (!dataTable) return;\n",
              "\n",
              "          const docLinkHtml = 'Like what you see? Visit the ' +\n",
              "            '<a target=\"_blank\" href=https://colab.research.google.com/notebooks/data_table.ipynb>data table notebook</a>'\n",
              "            + ' to learn more about interactive tables.';\n",
              "          element.innerHTML = '';\n",
              "          dataTable['output_type'] = 'display_data';\n",
              "          await google.colab.output.renderOutput(dataTable, element);\n",
              "          const docLink = document.createElement('div');\n",
              "          docLink.innerHTML = docLinkHtml;\n",
              "          element.appendChild(docLink);\n",
              "        }\n",
              "      </script>\n",
              "    </div>\n",
              "  </div>\n",
              "  "
            ]
          },
          "metadata": {},
          "execution_count": 4
        }
      ],
      "source": [
        "import pandas as pd\n",
        "data=pd.read_csv('agnews_train(entropy).csv')\n",
        "data.head()"
      ]
    },
    {
      "cell_type": "code",
      "source": [
        "data2=pd.read_csv('agnews_train2.csv')\n",
        "data2['entropy']=data['entropy']"
      ],
      "metadata": {
        "id": "kBy1Yf12ERWm"
      },
      "execution_count": null,
      "outputs": []
    },
    {
      "cell_type": "code",
      "source": [
        "data2.info()"
      ],
      "metadata": {
        "colab": {
          "base_uri": "https://localhost:8080/"
        },
        "id": "GFgYXPTYFJMl",
        "outputId": "b71c3027-ca20-4ce2-d15e-529f1e6977ef"
      },
      "execution_count": null,
      "outputs": [
        {
          "output_type": "stream",
          "name": "stdout",
          "text": [
            "<class 'pandas.core.frame.DataFrame'>\n",
            "RangeIndex: 1154 entries, 0 to 1153\n",
            "Columns: 134 entries, Class Index to 4label9\n",
            "dtypes: float64(9), int64(33), object(92)\n",
            "memory usage: 1.2+ MB\n"
          ]
        }
      ]
    },
    {
      "cell_type": "code",
      "source": [
        "#length calculation for cost computation\n",
        "df=data2\n",
        "df['length1']=df['prompt1'].apply(lambda x:len(x.split()))\n",
        "df['length2']=df['prompt2'].apply(lambda x:len(x.split()))\n",
        "df['length3']=df['prompt3'].apply(lambda x:len(x.split()))\n",
        "df['length4']=df['prompt4'].apply(lambda x:len(x.split()))\n",
        "df['length5']=df['prompt5'].apply(lambda x:len(x.split()))\n",
        "df['length6']=df['prompt6'].apply(lambda x:len(x.split()))\n",
        "df['length7']=df['prompt7'].apply(lambda x:len(x.split()))\n",
        "df['length8']=df['prompt8'].apply(lambda x:len(x.split()))\n",
        "df['length9']=df['prompt9'].apply(lambda x:len(x.split()))\n",
        "df['length10']=df['prompt10'].apply(lambda x:len(x.split()))\n",
        "df['length11']=df['prompt10'].apply(lambda x:len(x.split()))\n",
        "df['length12']=df['prompt10'].apply(lambda x:len(x.split()))\n",
        "df['length13']=df['prompt10'].apply(lambda x:len(x.split()))\n",
        "\n",
        "df['length']=df['length1']+df['length2']+df['length3']+df['length4']+df['length5']+df['length6']+df['length7']+df['length8']+df['length9']+df['length10']+df['length11']+df['length12']+df['length13']\n",
        "\n",
        "df=df.sort_values(by='entropy',ignore_index=True)\n",
        "# Assuming your dataframe is called 'df'\n",
        "total_rows = df.shape[0]\n",
        "num_rows_20_percent = int(total_rows * 0.8) #can change this to 0.2, 0.4, 0.6, 0.8\n",
        "print(1154-num_rows_20_percent)\n",
        "df['allocate'] = 0  # Initialize the new column with 0\n",
        "df.loc[0:num_rows_20_percent-1, 'allocate'] = 1  # Assign 1 to the first 20% of rows\n",
        "df2=df[df['allocate']==0]\n",
        "df1=df[df['allocate']==1]\n",
        "sum(df1['length'].tolist())"
      ],
      "metadata": {
        "colab": {
          "base_uri": "https://localhost:8080/"
        },
        "id": "_QwSSSa7EWrA",
        "outputId": "4e3f5b0c-c847-4632-eefd-0a724fd4d3cc"
      },
      "execution_count": null,
      "outputs": [
        {
          "output_type": "stream",
          "name": "stdout",
          "text": [
            "231\n"
          ]
        },
        {
          "output_type": "execute_result",
          "data": {
            "text/plain": [
              "799747"
            ]
          },
          "metadata": {},
          "execution_count": 10
        }
      ]
    },
    {
      "cell_type": "code",
      "source": [
        "#length calculation for cost computation\n",
        "df=data2\n",
        "df['length1']=df['prompt1'].apply(lambda x:len(x.split()))\n",
        "df['length2']=df['prompt2'].apply(lambda x:len(x.split()))\n",
        "df['length3']=df['prompt3'].apply(lambda x:len(x.split()))\n",
        "df['length4']=df['prompt4'].apply(lambda x:len(x.split()))\n",
        "df['length5']=df['prompt5'].apply(lambda x:len(x.split()))\n",
        "df['length6']=df['prompt6'].apply(lambda x:len(x.split()))\n",
        "df['length7']=df['prompt7'].apply(lambda x:len(x.split()))\n",
        "df['length8']=df['prompt8'].apply(lambda x:len(x.split()))\n",
        "df['length9']=df['prompt9'].apply(lambda x:len(x.split()))\n",
        "df['length10']=df['prompt10'].apply(lambda x:len(x.split()))\n",
        "df['length11']=df['prompt10'].apply(lambda x:len(x.split()))\n",
        "df['length12']=df['prompt10'].apply(lambda x:len(x.split()))\n",
        "df['length13']=df['prompt10'].apply(lambda x:len(x.split()))\n",
        "\n",
        "df['length']=df['length1']+df['length2']+df['length3']+df['length4']+df['length5']+df['length6']+df['length7']+df['length8']+df['length9']+df['length10']+df['length11']+df['length12']+df['length13']\n",
        "\n",
        "import numpy as np\n",
        "import pandas as pd\n",
        "\n",
        "# Assuming you have a DataFrame named 'df'\n",
        "\n",
        "# Set the seed for reproducibility\n",
        "np.random.seed(42)\n",
        "\n",
        "# Calculate the number of rows for each allocation value\n",
        "total_rows = len(df)\n",
        "allocation_1_count = int(1 * total_rows)\n",
        "allocation_0_count = total_rows - allocation_1_count\n",
        "\n",
        "# Create an array of 80% ones and 20% zeros\n",
        "allocation_values = np.concatenate((np.ones(allocation_1_count), np.zeros(allocation_0_count)))\n",
        "\n",
        "# Shuffle the allocation values randomly\n",
        "np.random.shuffle(allocation_values)\n",
        "\n",
        "# Assign the allocation values to the 'allocation' column in the DataFrame\n",
        "df['allocation'] = allocation_values.astype(int)\n",
        "#df2=df[df['allocate']==0]\n",
        "df1=df[df['allocation']==1]\n",
        "print(1154-df1.shape[0])\n",
        "sum(df1['length'].tolist())"
      ],
      "metadata": {
        "colab": {
          "base_uri": "https://localhost:8080/"
        },
        "id": "7QGZGD-ZFtRU",
        "outputId": "c89acc12-84bc-408f-9548-0b3d75dbe613"
      },
      "execution_count": null,
      "outputs": [
        {
          "output_type": "stream",
          "name": "stdout",
          "text": [
            "0\n"
          ]
        },
        {
          "output_type": "execute_result",
          "data": {
            "text/plain": [
              "989297"
            ]
          },
          "metadata": {},
          "execution_count": 18
        }
      ]
    },
    {
      "cell_type": "code",
      "source": [
        "import numpy as np\n",
        "import pandas as pd\n",
        "\n",
        "# Assuming you have a DataFrame named 'df'\n",
        "\n",
        "# Set the seed for reproducibility\n",
        "np.random.seed(42)\n",
        "\n",
        "# Calculate the number of rows for each allocation value\n",
        "df=data\n",
        "total_rows = len(df)\n",
        "allocation_1_count = int(0.8 * total_rows)\n",
        "allocation_0_count = total_rows - allocation_1_count\n",
        "\n",
        "# Create an array of 80% ones and 20% zeros\n",
        "allocation_values = np.concatenate((np.ones(allocation_1_count), np.zeros(allocation_0_count)))\n",
        "\n",
        "# Shuffle the allocation values randomly\n",
        "np.random.shuffle(allocation_values)\n",
        "\n",
        "# Assign the allocation values to the 'allocation' column in the DataFrame\n",
        "df['allocation'] = allocation_values.astype(int)"
      ],
      "metadata": {
        "id": "DzV5_MCjGXhw"
      },
      "execution_count": null,
      "outputs": []
    },
    {
      "cell_type": "code",
      "source": [
        "data['gold_label']=data['Class Index']\n",
        "def calculate_alignment(threshold, df_input):\n",
        "  df_low=df_input[df_input['entropy']<=threshold]\n",
        "  print(df_low.shape[0])\n",
        "  df_low['world_gold']=df_low['gold_label'].apply(lambda x:1 if x==1 else 0)\n",
        "  df_low['gold_sports']=df_low['gold_label'].apply(lambda x:1 if x==2 else 0)\n",
        "  df_low['gold_business']=df_low['gold_label'].apply(lambda x:1 if x==3 else 0)\n",
        "  df_low['gold_sci']=df_low['gold_label'].apply(lambda x:1 if x==4 else 0)\n",
        "  df_low_correct1=df_low[df_low['MV_world']==df_low['world_gold']]\n",
        "  df_low_correct2=df_low[df_low['MV_sports']==df_low['gold_sports']]\n",
        "  df_low_correct3=df_low[df_low['MV_business']==df_low['gold_business']]\n",
        "  df_low_correct4=df_low[df_low['MV_sci']==df_low['gold_sci']]\n",
        "  return (df_low_correct1.shape[0]+df_low_correct2.shape[0]+df_low_correct3.shape[0]+df_low_correct4.shape[0])/4/df_low.shape[0]"
      ],
      "metadata": {
        "id": "0gzmqBWZGWIk"
      },
      "execution_count": null,
      "outputs": []
    },
    {
      "cell_type": "code",
      "source": [
        "calculate_alignment(1, data)"
      ],
      "metadata": {
        "colab": {
          "base_uri": "https://localhost:8080/"
        },
        "id": "H1XFXF6eHNtJ",
        "outputId": "a8439a24-0e81-4cbd-a448-729006c41a04"
      },
      "execution_count": null,
      "outputs": [
        {
          "output_type": "stream",
          "name": "stdout",
          "text": [
            "1154\n"
          ]
        },
        {
          "output_type": "execute_result",
          "data": {
            "text/plain": [
              "0.9113951473136915"
            ]
          },
          "metadata": {},
          "execution_count": 7
        }
      ]
    },
    {
      "cell_type": "code",
      "source": [
        "x = [0, 0.2, 0.4, 0.6, 0.8, 1]\n",
        "y = [calculate_alignment(i, data) for i in x]\n",
        "y"
      ],
      "metadata": {
        "colab": {
          "base_uri": "https://localhost:8080/"
        },
        "id": "jnj9O3_2HAZ5",
        "outputId": "d27ee389-757a-41c8-9f67-5e6cc385216f"
      },
      "execution_count": null,
      "outputs": [
        {
          "output_type": "stream",
          "name": "stdout",
          "text": [
            "141\n",
            "266\n",
            "832\n",
            "1064\n",
            "1146\n",
            "1154\n"
          ]
        },
        {
          "output_type": "stream",
          "name": "stderr",
          "text": [
            "<ipython-input-9-cc88c7172cb6>:5: SettingWithCopyWarning: \n",
            "A value is trying to be set on a copy of a slice from a DataFrame.\n",
            "Try using .loc[row_indexer,col_indexer] = value instead\n",
            "\n",
            "See the caveats in the documentation: https://pandas.pydata.org/pandas-docs/stable/user_guide/indexing.html#returning-a-view-versus-a-copy\n",
            "  df_low['world_gold']=df_low['gold_label'].apply(lambda x:1 if x==1 else 0)\n",
            "<ipython-input-9-cc88c7172cb6>:6: SettingWithCopyWarning: \n",
            "A value is trying to be set on a copy of a slice from a DataFrame.\n",
            "Try using .loc[row_indexer,col_indexer] = value instead\n",
            "\n",
            "See the caveats in the documentation: https://pandas.pydata.org/pandas-docs/stable/user_guide/indexing.html#returning-a-view-versus-a-copy\n",
            "  df_low['gold_sports']=df_low['gold_label'].apply(lambda x:1 if x==2 else 0)\n",
            "<ipython-input-9-cc88c7172cb6>:7: SettingWithCopyWarning: \n",
            "A value is trying to be set on a copy of a slice from a DataFrame.\n",
            "Try using .loc[row_indexer,col_indexer] = value instead\n",
            "\n",
            "See the caveats in the documentation: https://pandas.pydata.org/pandas-docs/stable/user_guide/indexing.html#returning-a-view-versus-a-copy\n",
            "  df_low['gold_business']=df_low['gold_label'].apply(lambda x:1 if x==3 else 0)\n",
            "<ipython-input-9-cc88c7172cb6>:8: SettingWithCopyWarning: \n",
            "A value is trying to be set on a copy of a slice from a DataFrame.\n",
            "Try using .loc[row_indexer,col_indexer] = value instead\n",
            "\n",
            "See the caveats in the documentation: https://pandas.pydata.org/pandas-docs/stable/user_guide/indexing.html#returning-a-view-versus-a-copy\n",
            "  df_low['gold_sci']=df_low['gold_label'].apply(lambda x:1 if x==4 else 0)\n",
            "<ipython-input-9-cc88c7172cb6>:5: SettingWithCopyWarning: \n",
            "A value is trying to be set on a copy of a slice from a DataFrame.\n",
            "Try using .loc[row_indexer,col_indexer] = value instead\n",
            "\n",
            "See the caveats in the documentation: https://pandas.pydata.org/pandas-docs/stable/user_guide/indexing.html#returning-a-view-versus-a-copy\n",
            "  df_low['world_gold']=df_low['gold_label'].apply(lambda x:1 if x==1 else 0)\n",
            "<ipython-input-9-cc88c7172cb6>:6: SettingWithCopyWarning: \n",
            "A value is trying to be set on a copy of a slice from a DataFrame.\n",
            "Try using .loc[row_indexer,col_indexer] = value instead\n",
            "\n",
            "See the caveats in the documentation: https://pandas.pydata.org/pandas-docs/stable/user_guide/indexing.html#returning-a-view-versus-a-copy\n",
            "  df_low['gold_sports']=df_low['gold_label'].apply(lambda x:1 if x==2 else 0)\n",
            "<ipython-input-9-cc88c7172cb6>:7: SettingWithCopyWarning: \n",
            "A value is trying to be set on a copy of a slice from a DataFrame.\n",
            "Try using .loc[row_indexer,col_indexer] = value instead\n",
            "\n",
            "See the caveats in the documentation: https://pandas.pydata.org/pandas-docs/stable/user_guide/indexing.html#returning-a-view-versus-a-copy\n",
            "  df_low['gold_business']=df_low['gold_label'].apply(lambda x:1 if x==3 else 0)\n",
            "<ipython-input-9-cc88c7172cb6>:8: SettingWithCopyWarning: \n",
            "A value is trying to be set on a copy of a slice from a DataFrame.\n",
            "Try using .loc[row_indexer,col_indexer] = value instead\n",
            "\n",
            "See the caveats in the documentation: https://pandas.pydata.org/pandas-docs/stable/user_guide/indexing.html#returning-a-view-versus-a-copy\n",
            "  df_low['gold_sci']=df_low['gold_label'].apply(lambda x:1 if x==4 else 0)\n",
            "<ipython-input-9-cc88c7172cb6>:5: SettingWithCopyWarning: \n",
            "A value is trying to be set on a copy of a slice from a DataFrame.\n",
            "Try using .loc[row_indexer,col_indexer] = value instead\n",
            "\n",
            "See the caveats in the documentation: https://pandas.pydata.org/pandas-docs/stable/user_guide/indexing.html#returning-a-view-versus-a-copy\n",
            "  df_low['world_gold']=df_low['gold_label'].apply(lambda x:1 if x==1 else 0)\n",
            "<ipython-input-9-cc88c7172cb6>:6: SettingWithCopyWarning: \n",
            "A value is trying to be set on a copy of a slice from a DataFrame.\n",
            "Try using .loc[row_indexer,col_indexer] = value instead\n",
            "\n",
            "See the caveats in the documentation: https://pandas.pydata.org/pandas-docs/stable/user_guide/indexing.html#returning-a-view-versus-a-copy\n",
            "  df_low['gold_sports']=df_low['gold_label'].apply(lambda x:1 if x==2 else 0)\n",
            "<ipython-input-9-cc88c7172cb6>:7: SettingWithCopyWarning: \n",
            "A value is trying to be set on a copy of a slice from a DataFrame.\n",
            "Try using .loc[row_indexer,col_indexer] = value instead\n",
            "\n",
            "See the caveats in the documentation: https://pandas.pydata.org/pandas-docs/stable/user_guide/indexing.html#returning-a-view-versus-a-copy\n",
            "  df_low['gold_business']=df_low['gold_label'].apply(lambda x:1 if x==3 else 0)\n",
            "<ipython-input-9-cc88c7172cb6>:8: SettingWithCopyWarning: \n",
            "A value is trying to be set on a copy of a slice from a DataFrame.\n",
            "Try using .loc[row_indexer,col_indexer] = value instead\n",
            "\n",
            "See the caveats in the documentation: https://pandas.pydata.org/pandas-docs/stable/user_guide/indexing.html#returning-a-view-versus-a-copy\n",
            "  df_low['gold_sci']=df_low['gold_label'].apply(lambda x:1 if x==4 else 0)\n",
            "<ipython-input-9-cc88c7172cb6>:5: SettingWithCopyWarning: \n",
            "A value is trying to be set on a copy of a slice from a DataFrame.\n",
            "Try using .loc[row_indexer,col_indexer] = value instead\n",
            "\n",
            "See the caveats in the documentation: https://pandas.pydata.org/pandas-docs/stable/user_guide/indexing.html#returning-a-view-versus-a-copy\n",
            "  df_low['world_gold']=df_low['gold_label'].apply(lambda x:1 if x==1 else 0)\n",
            "<ipython-input-9-cc88c7172cb6>:6: SettingWithCopyWarning: \n",
            "A value is trying to be set on a copy of a slice from a DataFrame.\n",
            "Try using .loc[row_indexer,col_indexer] = value instead\n",
            "\n",
            "See the caveats in the documentation: https://pandas.pydata.org/pandas-docs/stable/user_guide/indexing.html#returning-a-view-versus-a-copy\n",
            "  df_low['gold_sports']=df_low['gold_label'].apply(lambda x:1 if x==2 else 0)\n",
            "<ipython-input-9-cc88c7172cb6>:7: SettingWithCopyWarning: \n",
            "A value is trying to be set on a copy of a slice from a DataFrame.\n",
            "Try using .loc[row_indexer,col_indexer] = value instead\n",
            "\n",
            "See the caveats in the documentation: https://pandas.pydata.org/pandas-docs/stable/user_guide/indexing.html#returning-a-view-versus-a-copy\n",
            "  df_low['gold_business']=df_low['gold_label'].apply(lambda x:1 if x==3 else 0)\n",
            "<ipython-input-9-cc88c7172cb6>:8: SettingWithCopyWarning: \n",
            "A value is trying to be set on a copy of a slice from a DataFrame.\n",
            "Try using .loc[row_indexer,col_indexer] = value instead\n",
            "\n",
            "See the caveats in the documentation: https://pandas.pydata.org/pandas-docs/stable/user_guide/indexing.html#returning-a-view-versus-a-copy\n",
            "  df_low['gold_sci']=df_low['gold_label'].apply(lambda x:1 if x==4 else 0)\n",
            "<ipython-input-9-cc88c7172cb6>:5: SettingWithCopyWarning: \n",
            "A value is trying to be set on a copy of a slice from a DataFrame.\n",
            "Try using .loc[row_indexer,col_indexer] = value instead\n",
            "\n",
            "See the caveats in the documentation: https://pandas.pydata.org/pandas-docs/stable/user_guide/indexing.html#returning-a-view-versus-a-copy\n",
            "  df_low['world_gold']=df_low['gold_label'].apply(lambda x:1 if x==1 else 0)\n",
            "<ipython-input-9-cc88c7172cb6>:6: SettingWithCopyWarning: \n",
            "A value is trying to be set on a copy of a slice from a DataFrame.\n",
            "Try using .loc[row_indexer,col_indexer] = value instead\n",
            "\n",
            "See the caveats in the documentation: https://pandas.pydata.org/pandas-docs/stable/user_guide/indexing.html#returning-a-view-versus-a-copy\n",
            "  df_low['gold_sports']=df_low['gold_label'].apply(lambda x:1 if x==2 else 0)\n",
            "<ipython-input-9-cc88c7172cb6>:7: SettingWithCopyWarning: \n",
            "A value is trying to be set on a copy of a slice from a DataFrame.\n",
            "Try using .loc[row_indexer,col_indexer] = value instead\n",
            "\n",
            "See the caveats in the documentation: https://pandas.pydata.org/pandas-docs/stable/user_guide/indexing.html#returning-a-view-versus-a-copy\n",
            "  df_low['gold_business']=df_low['gold_label'].apply(lambda x:1 if x==3 else 0)\n",
            "<ipython-input-9-cc88c7172cb6>:8: SettingWithCopyWarning: \n",
            "A value is trying to be set on a copy of a slice from a DataFrame.\n",
            "Try using .loc[row_indexer,col_indexer] = value instead\n",
            "\n",
            "See the caveats in the documentation: https://pandas.pydata.org/pandas-docs/stable/user_guide/indexing.html#returning-a-view-versus-a-copy\n",
            "  df_low['gold_sci']=df_low['gold_label'].apply(lambda x:1 if x==4 else 0)\n"
          ]
        },
        {
          "output_type": "execute_result",
          "data": {
            "text/plain": [
              "[0.9858156028368794,\n",
              " 0.9793233082706767,\n",
              " 0.9456129807692307,\n",
              " 0.9224624060150376,\n",
              " 0.912521815008726,\n",
              " 0.9113951473136915]"
            ]
          },
          "metadata": {},
          "execution_count": 10
        }
      ]
    },
    {
      "cell_type": "code",
      "source": [
        "import pandas as pd\n",
        "import matplotlib.pyplot as plt\n",
        "\n",
        "plt.hist(data['4label1'], bins=15, align='left')\n",
        "\n",
        "# Add axis labels and a title\n",
        "plt.xlabel('Value')\n",
        "plt.ylabel('Frequency')\n",
        "plt.title('Histogram of Values')\n",
        "# Display the plot\n",
        "plt.show()"
      ],
      "metadata": {
        "colab": {
          "base_uri": "https://localhost:8080/",
          "height": 472
        },
        "id": "AXG26rU75seo",
        "outputId": "344118e7-f0c4-4088-86d9-8a03cbb5573c"
      },
      "execution_count": null,
      "outputs": [
        {
          "output_type": "display_data",
          "data": {
            "text/plain": [
              "<Figure size 640x480 with 1 Axes>"
            ],
            "image/png": "[encoded data removed]"
          },
          "metadata": {}
        }
      ]
    },
    {
      "cell_type": "code",
      "source": [
        "import pandas as pd\n",
        "import matplotlib.pyplot as plt\n",
        "\n",
        "plt.hist(data['5label1'], bins=15, align='left')\n",
        "\n",
        "# Add axis labels and a title\n",
        "plt.xlabel('Value')\n",
        "plt.ylabel('Frequency')\n",
        "plt.title('Histogram of Values')\n",
        "# Display the plot\n",
        "plt.show()"
      ],
      "metadata": {
        "colab": {
          "base_uri": "https://localhost:8080/",
          "height": 472
        },
        "id": "_0vVbIecxYBG",
        "outputId": "1fb78b20-b5a3-4764-ff41-02d79c1c4309"
      },
      "execution_count": null,
      "outputs": [
        {
          "output_type": "display_data",
          "data": {
            "text/plain": [
              "<Figure size 640x480 with 1 Axes>"
            ],
            "image/png": "[encoded data removed]"
          },
          "metadata": {}
        }
      ]
    },
    {
      "cell_type": "code",
      "source": [
        "import pandas as pd\n",
        "import matplotlib.pyplot as plt\n",
        "\n",
        "plt.hist(data['entropy'], bins=15, align='left')\n",
        "\n",
        "# Add axis labels and a title\n",
        "plt.xlabel('Value')\n",
        "plt.ylabel('Frequency')\n",
        "plt.title('Histogram of Values')\n",
        "# Display the plot\n",
        "plt.show()"
      ],
      "metadata": {
        "colab": {
          "base_uri": "https://localhost:8080/",
          "height": 472
        },
        "id": "sfDVLjYFxZcb",
        "outputId": "5f21c519-88be-40c7-c32f-904810889092"
      },
      "execution_count": null,
      "outputs": [
        {
          "output_type": "display_data",
          "data": {
            "text/plain": [
              "<Figure size 640x480 with 1 Axes>"
            ],
            "image/png": "[encoded data removed]"
          },
          "metadata": {}
        }
      ]
    },
    {
      "cell_type": "code",
      "source": [
        "#df=data[data['4label1']>0.9] #0.940 0.963 0.888 0.910 confidence:good\n",
        "#df=data[data['entropy']<0.2] #0.970 0.989 0.970 0.989 entropy:good\n",
        "df=data[data['5label1']<0.5] #0.931 0.989 0.765 0.802 self-estimate:bad\n",
        "#df=data # 0.932 0.975 0.859 0.878\n",
        "df['world_gold']=df['Class Index'].apply(lambda x:1 if x==4 else 0)\n",
        "df_correct=df[df['world_gold']==df['MV_sci']]\n",
        "df_correct.shape[0]/df.shape[0]"
      ],
      "metadata": {
        "colab": {
          "base_uri": "https://localhost:8080/"
        },
        "id": "dbGjILxWxi1W",
        "outputId": "95759208-1ad4-4dba-e94e-b6039d00c744"
      },
      "execution_count": null,
      "outputs": [
        {
          "output_type": "stream",
          "name": "stderr",
          "text": [
            "<ipython-input-29-e82e91ec586f>:5: SettingWithCopyWarning: \n",
            "A value is trying to be set on a copy of a slice from a DataFrame.\n",
            "Try using .loc[row_indexer,col_indexer] = value instead\n",
            "\n",
            "See the caveats in the documentation: https://pandas.pydata.org/pandas-docs/stable/user_guide/indexing.html#returning-a-view-versus-a-copy\n",
            "  df['world_gold']=df['Class Index'].apply(lambda x:1 if x==4 else 0)\n"
          ]
        },
        {
          "output_type": "execute_result",
          "data": {
            "text/plain": [
              "0.8027210884353742"
            ]
          },
          "metadata": {},
          "execution_count": 29
        }
      ]
    },
    {
      "cell_type": "code",
      "source": [
        "import numpy as np\n",
        "import pandas as pd\n",
        "\n",
        "# Assuming you have a DataFrame named 'df'\n",
        "\n",
        "# Set the seed for reproducibility\n",
        "np.random.seed(42)\n",
        "\n",
        "# Calculate the number of rows for each allocation value\n",
        "df=data\n",
        "total_rows = len(df)\n",
        "allocation_1_count = int(0.8 * total_rows)\n",
        "allocation_0_count = total_rows - allocation_1_count\n",
        "\n",
        "# Create an array of 80% ones and 20% zeros\n",
        "allocation_values = np.concatenate((np.ones(allocation_1_count), np.zeros(allocation_0_count)))\n",
        "\n",
        "# Shuffle the allocation values randomly\n",
        "np.random.shuffle(allocation_values)\n",
        "\n",
        "# Assign the allocation values to the 'allocation' column in the DataFrame\n",
        "df['allocate'] = allocation_values.astype(int)"
      ],
      "metadata": {
        "id": "YBqlfXLaxfdo"
      },
      "execution_count": null,
      "outputs": []
    },
    {
      "cell_type": "code",
      "source": [
        "#allocation\n",
        "df['gold_label']=df['Class Index']\n",
        "world=[]\n",
        "sports=[]\n",
        "business=[]\n",
        "sci=[]\n",
        "chatgpt_count=0\n",
        "for index, row in df.iterrows():\n",
        "    if row['allocate']==1: #edit the threshold here: I tried <-0.2(all human), ==0, <0.2, <0.4, <0.6, <0.8, <1(all chatgpt)\n",
        "      world.append(row['MV_world'])\n",
        "      sports.append(row['MV_sports'])\n",
        "      business.append(row['MV_business'])\n",
        "      sci.append(row['MV_sci'])\n",
        "    else:\n",
        "      if row['gold_label']==1:\n",
        "        world.append(1)\n",
        "        sports.append(0)\n",
        "        business.append(0)\n",
        "        sci.append(0)\n",
        "      elif row['gold_label']==2:\n",
        "        world.append(0)\n",
        "        sports.append(1)\n",
        "        business.append(0)\n",
        "        sci.append(0)\n",
        "      elif row['gold_label']==3:\n",
        "        world.append(0)\n",
        "        sports.append(0)\n",
        "        business.append(1)\n",
        "        sci.append(0)\n",
        "      elif row['gold_label']==4:\n",
        "        world.append(0)\n",
        "        sports.append(0)\n",
        "        business.append(0)\n",
        "        sci.append(1)\n",
        "df['world']=world\n",
        "df['sports']=sports\n",
        "df['business']=business\n",
        "df['sci']=sci\n",
        "df.head()"
      ],
      "metadata": {
        "colab": {
          "base_uri": "https://localhost:8080/",
          "height": 699
        },
        "id": "WxS4YXfA730N",
        "outputId": "e7f96750-243b-4b8b-be34-0712ab179135"
      },
      "execution_count": null,
      "outputs": [
        {
          "output_type": "execute_result",
          "data": {
            "text/plain": [
              "   Class Index                                               text  \\\n",
              "0            3  Title: Wall St. Bears Claw Back Into the Black...   \n",
              "1            3  Title: Carlyle Looks Toward Commercial Aerospa...   \n",
              "2            3  Title: Oil and Economy Cloud Stocks' Outlook (...   \n",
              "3            3  Title: Iraq Halts Oil Exports from Main Southe...   \n",
              "4            3  Title: Oil prices soar to all-time record, pos...   \n",
              "\n",
              "            label1    label2                                         label3  \\\n",
              "0  topic: business  business                                topic: business   \n",
              "1         business  business                                topic: business   \n",
              "2  topic: business  business  the topic of this news article is \"business\".   \n",
              "3         business  business                                       business   \n",
              "4         business  business                                topic: business   \n",
              "\n",
              "  label4                                             label5 label6  \\\n",
              "0  true.                                              FALSE  true.   \n",
              "1  true.                                             false.   TRUE   \n",
              "2   TRUE                                             false.  true.   \n",
              "3   TRUE  false. the news title and description belong t...  true.   \n",
              "4  true.                                              FALSE   TRUE   \n",
              "\n",
              "                                              label7  \\\n",
              "0  false. this news title and description belongs...   \n",
              "1                                              FALSE   \n",
              "2                                              FALSE   \n",
              "3                                               TRUE   \n",
              "4                                               TRUE   \n",
              "\n",
              "                     label8  ... entropy_sci   entropy allocation gold_label  \\\n",
              "0                  business  ...    0.000000  0.215780          1          3   \n",
              "1                  business  ...    0.000000  0.215780          1          3   \n",
              "2  the topic is \"business\".  ...    0.000000  0.215780          1          3   \n",
              "3  the topic is \"business\".  ...    0.591673  0.363698          1          3   \n",
              "4                  business  ...    0.591673  0.363698          1          3   \n",
              "\n",
              "  world  sports  business  sci  allocate  one_hot_labels  \n",
              "0     0       0         1    0         1    [0, 0, 1, 0]  \n",
              "1     0       0         1    0         1    [0, 0, 1, 0]  \n",
              "2     0       0         1    0         1    [0, 0, 1, 0]  \n",
              "3     0       0         1    0         1    [0, 0, 1, 0]  \n",
              "4     0       0         1    0         1    [0, 0, 1, 0]  \n",
              "\n",
              "[5 rows x 62 columns]"
            ],
            "text/html": [
              "\n",
              "  <div id=\"df-44b7ad65-0a5a-4234-a1b9-28b857663086\">\n",
              "    <div class=\"colab-df-container\">\n",
              "      <div>\n",
              "<style scoped>\n",
              "    .dataframe tbody tr th:only-of-type {\n",
              "        vertical-align: middle;\n",
              "    }\n",
              "\n",
              "    .dataframe tbody tr th {\n",
              "        vertical-align: top;\n",
              "    }\n",
              "\n",
              "    .dataframe thead th {\n",
              "        text-align: right;\n",
              "    }\n",
              "</style>\n",
              "<table border=\"1\" class=\"dataframe\">\n",
              "  <thead>\n",
              "    <tr style=\"text-align: right;\">\n",
              "      <th></th>\n",
              "      <th>Class Index</th>\n",
              "      <th>text</th>\n",
              "      <th>label1</th>\n",
              "      <th>label2</th>\n",
              "      <th>label3</th>\n",
              "      <th>label4</th>\n",
              "      <th>label5</th>\n",
              "      <th>label6</th>\n",
              "      <th>label7</th>\n",
              "      <th>label8</th>\n",
              "      <th>...</th>\n",
              "      <th>entropy_sci</th>\n",
              "      <th>entropy</th>\n",
              "      <th>allocation</th>\n",
              "      <th>gold_label</th>\n",
              "      <th>world</th>\n",
              "      <th>sports</th>\n",
              "      <th>business</th>\n",
              "      <th>sci</th>\n",
              "      <th>allocate</th>\n",
              "      <th>one_hot_labels</th>\n",
              "    </tr>\n",
              "  </thead>\n",
              "  <tbody>\n",
              "    <tr>\n",
              "      <th>0</th>\n",
              "      <td>3</td>\n",
              "      <td>Title: Wall St. Bears Claw Back Into the Black...</td>\n",
              "      <td>topic: business</td>\n",
              "      <td>business</td>\n",
              "      <td>topic: business</td>\n",
              "      <td>true.</td>\n",
              "      <td>FALSE</td>\n",
              "      <td>true.</td>\n",
              "      <td>false. this news title and description belongs...</td>\n",
              "      <td>business</td>\n",
              "      <td>...</td>\n",
              "      <td>0.000000</td>\n",
              "      <td>0.215780</td>\n",
              "      <td>1</td>\n",
              "      <td>3</td>\n",
              "      <td>0</td>\n",
              "      <td>0</td>\n",
              "      <td>1</td>\n",
              "      <td>0</td>\n",
              "      <td>1</td>\n",
              "      <td>[0, 0, 1, 0]</td>\n",
              "    </tr>\n",
              "    <tr>\n",
              "      <th>1</th>\n",
              "      <td>3</td>\n",
              "      <td>Title: Carlyle Looks Toward Commercial Aerospa...</td>\n",
              "      <td>business</td>\n",
              "      <td>business</td>\n",
              "      <td>topic: business</td>\n",
              "      <td>true.</td>\n",
              "      <td>false.</td>\n",
              "      <td>TRUE</td>\n",
              "      <td>FALSE</td>\n",
              "      <td>business</td>\n",
              "      <td>...</td>\n",
              "      <td>0.000000</td>\n",
              "      <td>0.215780</td>\n",
              "      <td>1</td>\n",
              "      <td>3</td>\n",
              "      <td>0</td>\n",
              "      <td>0</td>\n",
              "      <td>1</td>\n",
              "      <td>0</td>\n",
              "      <td>1</td>\n",
              "      <td>[0, 0, 1, 0]</td>\n",
              "    </tr>\n",
              "    <tr>\n",
              "      <th>2</th>\n",
              "      <td>3</td>\n",
              "      <td>Title: Oil and Economy Cloud Stocks' Outlook (...</td>\n",
              "      <td>topic: business</td>\n",
              "      <td>business</td>\n",
              "      <td>the topic of this news article is \"business\".</td>\n",
              "      <td>TRUE</td>\n",
              "      <td>false.</td>\n",
              "      <td>true.</td>\n",
              "      <td>FALSE</td>\n",
              "      <td>the topic is \"business\".</td>\n",
              "      <td>...</td>\n",
              "      <td>0.000000</td>\n",
              "      <td>0.215780</td>\n",
              "      <td>1</td>\n",
              "      <td>3</td>\n",
              "      <td>0</td>\n",
              "      <td>0</td>\n",
              "      <td>1</td>\n",
              "      <td>0</td>\n",
              "      <td>1</td>\n",
              "      <td>[0, 0, 1, 0]</td>\n",
              "    </tr>\n",
              "    <tr>\n",
              "      <th>3</th>\n",
              "      <td>3</td>\n",
              "      <td>Title: Iraq Halts Oil Exports from Main Southe...</td>\n",
              "      <td>business</td>\n",
              "      <td>business</td>\n",
              "      <td>business</td>\n",
              "      <td>TRUE</td>\n",
              "      <td>false. the news title and description belong t...</td>\n",
              "      <td>true.</td>\n",
              "      <td>TRUE</td>\n",
              "      <td>the topic is \"business\".</td>\n",
              "      <td>...</td>\n",
              "      <td>0.591673</td>\n",
              "      <td>0.363698</td>\n",
              "      <td>1</td>\n",
              "      <td>3</td>\n",
              "      <td>0</td>\n",
              "      <td>0</td>\n",
              "      <td>1</td>\n",
              "      <td>0</td>\n",
              "      <td>1</td>\n",
              "      <td>[0, 0, 1, 0]</td>\n",
              "    </tr>\n",
              "    <tr>\n",
              "      <th>4</th>\n",
              "      <td>3</td>\n",
              "      <td>Title: Oil prices soar to all-time record, pos...</td>\n",
              "      <td>business</td>\n",
              "      <td>business</td>\n",
              "      <td>topic: business</td>\n",
              "      <td>true.</td>\n",
              "      <td>FALSE</td>\n",
              "      <td>TRUE</td>\n",
              "      <td>TRUE</td>\n",
              "      <td>business</td>\n",
              "      <td>...</td>\n",
              "      <td>0.591673</td>\n",
              "      <td>0.363698</td>\n",
              "      <td>1</td>\n",
              "      <td>3</td>\n",
              "      <td>0</td>\n",
              "      <td>0</td>\n",
              "      <td>1</td>\n",
              "      <td>0</td>\n",
              "      <td>1</td>\n",
              "      <td>[0, 0, 1, 0]</td>\n",
              "    </tr>\n",
              "  </tbody>\n",
              "</table>\n",
              "<p>5 rows × 62 columns</p>\n",
              "</div>\n",
              "      <button class=\"colab-df-convert\" onclick=\"convertToInteractive('df-44b7ad65-0a5a-4234-a1b9-28b857663086')\"\n",
              "              title=\"Convert this dataframe to an interactive table.\"\n",
              "              style=\"display:none;\">\n",
              "        \n",
              "  <svg xmlns=\"http://www.w3.org/2000/svg\" height=\"24px\"viewBox=\"0 0 24 24\"\n",
              "       width=\"24px\">\n",
              "    <path d=\"M0 0h24v24H0V0z\" fill=\"none\"/>\n",
              "    <path d=\"M18.56 5.44l.94 2.06.94-2.06 2.06-.94-2.06-.94-.94-2.06-.94 2.06-2.06.94zm-11 1L8.5 8.5l.94-2.06 2.06-.94-2.06-.94L8.5 2.5l-.94 2.06-2.06.94zm10 10l.94 2.06.94-2.06 2.06-.94-2.06-.94-.94-2.06-.94 2.06-2.06.94z\"/><path d=\"M17.41 7.96l-1.37-1.37c-.4-.4-.92-.59-1.43-.59-.52 0-1.04.2-1.43.59L10.3 9.45l-7.72 7.72c-.78.78-.78 2.05 0 2.83L4 21.41c.39.39.9.59 1.41.59.51 0 1.02-.2 1.41-.59l7.78-7.78 2.81-2.81c.8-.78.8-2.07 0-2.86zM5.41 20L4 18.59l7.72-7.72 1.47 1.35L5.41 20z\"/>\n",
              "  </svg>\n",
              "      </button>\n",
              "      \n",
              "  <style>\n",
              "    .colab-df-container {\n",
              "      display:flex;\n",
              "      flex-wrap:wrap;\n",
              "      gap: 12px;\n",
              "    }\n",
              "\n",
              "    .colab-df-convert {\n",
              "      background-color: #E8F0FE;\n",
              "      border: none;\n",
              "      border-radius: 50%;\n",
              "      cursor: pointer;\n",
              "      display: none;\n",
              "      fill: #1967D2;\n",
              "      height: 32px;\n",
              "      padding: 0 0 0 0;\n",
              "      width: 32px;\n",
              "    }\n",
              "\n",
              "    .colab-df-convert:hover {\n",
              "      background-color: #E2EBFA;\n",
              "      box-shadow: 0px 1px 2px rgba(60, 64, 67, 0.3), 0px 1px 3px 1px rgba(60, 64, 67, 0.15);\n",
              "      fill: #174EA6;\n",
              "    }\n",
              "\n",
              "    [theme=dark] .colab-df-convert {\n",
              "      background-color: #3B4455;\n",
              "      fill: #D2E3FC;\n",
              "    }\n",
              "\n",
              "    [theme=dark] .colab-df-convert:hover {\n",
              "      background-color: #434B5C;\n",
              "      box-shadow: 0px 1px 3px 1px rgba(0, 0, 0, 0.15);\n",
              "      filter: drop-shadow(0px 1px 2px rgba(0, 0, 0, 0.3));\n",
              "      fill: #FFFFFF;\n",
              "    }\n",
              "  </style>\n",
              "\n",
              "      <script>\n",
              "        const buttonEl =\n",
              "          document.querySelector('#df-44b7ad65-0a5a-4234-a1b9-28b857663086 button.colab-df-convert');\n",
              "        buttonEl.style.display =\n",
              "          google.colab.kernel.accessAllowed ? 'block' : 'none';\n",
              "\n",
              "        async function convertToInteractive(key) {\n",
              "          const element = document.querySelector('#df-44b7ad65-0a5a-4234-a1b9-28b857663086');\n",
              "          const dataTable =\n",
              "            await google.colab.kernel.invokeFunction('convertToInteractive',\n",
              "                                                     [key], {});\n",
              "          if (!dataTable) return;\n",
              "\n",
              "          const docLinkHtml = 'Like what you see? Visit the ' +\n",
              "            '<a target=\"_blank\" href=https://colab.research.google.com/notebooks/data_table.ipynb>data table notebook</a>'\n",
              "            + ' to learn more about interactive tables.';\n",
              "          element.innerHTML = '';\n",
              "          dataTable['output_type'] = 'display_data';\n",
              "          await google.colab.output.renderOutput(dataTable, element);\n",
              "          const docLink = document.createElement('div');\n",
              "          docLink.innerHTML = docLinkHtml;\n",
              "          element.appendChild(docLink);\n",
              "        }\n",
              "      </script>\n",
              "    </div>\n",
              "  </div>\n",
              "  "
            ]
          },
          "metadata": {},
          "execution_count": 97
        }
      ]
    },
    {
      "cell_type": "markdown",
      "metadata": {
        "id": "dLcetMjZFjSH"
      },
      "source": [
        "## Load and Preprocess Training Data"
      ]
    },
    {
      "cell_type": "markdown",
      "metadata": {
        "id": "2dal0ggBcYdD"
      },
      "source": [
        "Dataset will be tokenized then split into training and validation sets. The validation set will be used to monitor training. For testing a separate test set will be loaded for analysis."
      ]
    },
    {
      "cell_type": "code",
      "execution_count": null,
      "metadata": {
        "id": "0ecREc7GnISW",
        "scrolled": true
      },
      "outputs": [],
      "source": [
        "#df = data #jigsaw-toxic-comment-classification-challenge"
      ]
    },
    {
      "cell_type": "code",
      "execution_count": null,
      "metadata": {
        "colab": {
          "base_uri": "https://localhost:8080/"
        },
        "id": "UVI59S9VaAfB",
        "outputId": "2f89be17-0ea4-4a0b-90b0-553919e0a6d8"
      },
      "outputs": [
        {
          "output_type": "stream",
          "name": "stdout",
          "text": [
            "Label columns:  ['world', 'sports', 'business', 'sci']\n"
          ]
        }
      ],
      "source": [
        "#combined\n",
        "cols = df.columns\n",
        "label_cols = list(cols[56:60])\n",
        "num_labels = len(label_cols)\n",
        "print('Label columns: ', label_cols)"
      ]
    },
    {
      "cell_type": "code",
      "execution_count": null,
      "metadata": {
        "colab": {
          "base_uri": "https://localhost:8080/"
        },
        "id": "xzgA5qQgYIBZ",
        "outputId": "70677f7f-c2ef-44db-a195-cab8d3424f8b"
      },
      "outputs": [
        {
          "output_type": "stream",
          "name": "stdout",
          "text": [
            "Count of 1 per label: \n",
            " world       266\n",
            "sports      266\n",
            "business    389\n",
            "sci         240\n",
            "dtype: int64 \n",
            "\n",
            "Count of 0 per label: \n",
            " world       888\n",
            "sports      888\n",
            "business    765\n",
            "sci         914\n",
            "dtype: int64\n"
          ]
        }
      ],
      "source": [
        "print('Count of 1 per label: \\n', df[label_cols].sum(), '\\n') # Label counts, may need to downsample or upsample\n",
        "print('Count of 0 per label: \\n', df[label_cols].eq(0).sum())"
      ]
    },
    {
      "cell_type": "code",
      "source": [
        "df=df.drop(423)"
      ],
      "metadata": {
        "id": "BQQQ30bQmYt-"
      },
      "execution_count": null,
      "outputs": []
    },
    {
      "cell_type": "code",
      "execution_count": null,
      "metadata": {
        "id": "uFpSd4JzaAae"
      },
      "outputs": [],
      "source": [
        "#df = df.sample(frac=1).reset_index(drop=True) #shuffle rows"
      ]
    },
    {
      "cell_type": "code",
      "execution_count": null,
      "metadata": {
        "colab": {
          "base_uri": "https://localhost:8080/",
          "height": 699
        },
        "id": "0DF3ddjej5vd",
        "outputId": "e8e5e8cf-89df-4b25-a0c2-cdcc96a30c1a"
      },
      "outputs": [
        {
          "output_type": "execute_result",
          "data": {
            "text/plain": [
              "   Class Index                                               text  \\\n",
              "0            3  Title: Wall St. Bears Claw Back Into the Black...   \n",
              "1            3  Title: Carlyle Looks Toward Commercial Aerospa...   \n",
              "2            3  Title: Oil and Economy Cloud Stocks' Outlook (...   \n",
              "3            3  Title: Iraq Halts Oil Exports from Main Southe...   \n",
              "4            3  Title: Oil prices soar to all-time record, pos...   \n",
              "\n",
              "            label1    label2                                         label3  \\\n",
              "0  topic: business  business                                topic: business   \n",
              "1         business  business                                topic: business   \n",
              "2  topic: business  business  the topic of this news article is \"business\".   \n",
              "3         business  business                                       business   \n",
              "4         business  business                                topic: business   \n",
              "\n",
              "  label4                                             label5 label6  \\\n",
              "0  true.                                              FALSE  true.   \n",
              "1  true.                                             false.   TRUE   \n",
              "2   TRUE                                             false.  true.   \n",
              "3   TRUE  false. the news title and description belong t...  true.   \n",
              "4  true.                                              FALSE   TRUE   \n",
              "\n",
              "                                              label7  \\\n",
              "0  false. this news title and description belongs...   \n",
              "1                                              FALSE   \n",
              "2                                              FALSE   \n",
              "3                                               TRUE   \n",
              "4                                               TRUE   \n",
              "\n",
              "                     label8  ... entropy_sci   entropy allocation gold_label  \\\n",
              "0                  business  ...    0.000000  0.215780          1          3   \n",
              "1                  business  ...    0.000000  0.215780          1          3   \n",
              "2  the topic is \"business\".  ...    0.000000  0.215780          1          3   \n",
              "3  the topic is \"business\".  ...    0.591673  0.363698          1          3   \n",
              "4                  business  ...    0.591673  0.363698          1          3   \n",
              "\n",
              "  world  sports  business  sci  allocate  one_hot_labels  \n",
              "0     0       0         1    0         1    [0, 0, 1, 0]  \n",
              "1     0       0         1    0         1    [0, 0, 1, 0]  \n",
              "2     0       0         1    0         1    [0, 0, 1, 0]  \n",
              "3     0       0         1    0         1    [0, 0, 1, 0]  \n",
              "4     0       0         1    0         1    [0, 0, 1, 0]  \n",
              "\n",
              "[5 rows x 62 columns]"
            ],
            "text/html": [
              "\n",
              "  <div id=\"df-f5eabbfd-a3c0-43f1-96fa-b251fb0cdbad\">\n",
              "    <div class=\"colab-df-container\">\n",
              "      <div>\n",
              "<style scoped>\n",
              "    .dataframe tbody tr th:only-of-type {\n",
              "        vertical-align: middle;\n",
              "    }\n",
              "\n",
              "    .dataframe tbody tr th {\n",
              "        vertical-align: top;\n",
              "    }\n",
              "\n",
              "    .dataframe thead th {\n",
              "        text-align: right;\n",
              "    }\n",
              "</style>\n",
              "<table border=\"1\" class=\"dataframe\">\n",
              "  <thead>\n",
              "    <tr style=\"text-align: right;\">\n",
              "      <th></th>\n",
              "      <th>Class Index</th>\n",
              "      <th>text</th>\n",
              "      <th>label1</th>\n",
              "      <th>label2</th>\n",
              "      <th>label3</th>\n",
              "      <th>label4</th>\n",
              "      <th>label5</th>\n",
              "      <th>label6</th>\n",
              "      <th>label7</th>\n",
              "      <th>label8</th>\n",
              "      <th>...</th>\n",
              "      <th>entropy_sci</th>\n",
              "      <th>entropy</th>\n",
              "      <th>allocation</th>\n",
              "      <th>gold_label</th>\n",
              "      <th>world</th>\n",
              "      <th>sports</th>\n",
              "      <th>business</th>\n",
              "      <th>sci</th>\n",
              "      <th>allocate</th>\n",
              "      <th>one_hot_labels</th>\n",
              "    </tr>\n",
              "  </thead>\n",
              "  <tbody>\n",
              "    <tr>\n",
              "      <th>0</th>\n",
              "      <td>3</td>\n",
              "      <td>Title: Wall St. Bears Claw Back Into the Black...</td>\n",
              "      <td>topic: business</td>\n",
              "      <td>business</td>\n",
              "      <td>topic: business</td>\n",
              "      <td>true.</td>\n",
              "      <td>FALSE</td>\n",
              "      <td>true.</td>\n",
              "      <td>false. this news title and description belongs...</td>\n",
              "      <td>business</td>\n",
              "      <td>...</td>\n",
              "      <td>0.000000</td>\n",
              "      <td>0.215780</td>\n",
              "      <td>1</td>\n",
              "      <td>3</td>\n",
              "      <td>0</td>\n",
              "      <td>0</td>\n",
              "      <td>1</td>\n",
              "      <td>0</td>\n",
              "      <td>1</td>\n",
              "      <td>[0, 0, 1, 0]</td>\n",
              "    </tr>\n",
              "    <tr>\n",
              "      <th>1</th>\n",
              "      <td>3</td>\n",
              "      <td>Title: Carlyle Looks Toward Commercial Aerospa...</td>\n",
              "      <td>business</td>\n",
              "      <td>business</td>\n",
              "      <td>topic: business</td>\n",
              "      <td>true.</td>\n",
              "      <td>false.</td>\n",
              "      <td>TRUE</td>\n",
              "      <td>FALSE</td>\n",
              "      <td>business</td>\n",
              "      <td>...</td>\n",
              "      <td>0.000000</td>\n",
              "      <td>0.215780</td>\n",
              "      <td>1</td>\n",
              "      <td>3</td>\n",
              "      <td>0</td>\n",
              "      <td>0</td>\n",
              "      <td>1</td>\n",
              "      <td>0</td>\n",
              "      <td>1</td>\n",
              "      <td>[0, 0, 1, 0]</td>\n",
              "    </tr>\n",
              "    <tr>\n",
              "      <th>2</th>\n",
              "      <td>3</td>\n",
              "      <td>Title: Oil and Economy Cloud Stocks' Outlook (...</td>\n",
              "      <td>topic: business</td>\n",
              "      <td>business</td>\n",
              "      <td>the topic of this news article is \"business\".</td>\n",
              "      <td>TRUE</td>\n",
              "      <td>false.</td>\n",
              "      <td>true.</td>\n",
              "      <td>FALSE</td>\n",
              "      <td>the topic is \"business\".</td>\n",
              "      <td>...</td>\n",
              "      <td>0.000000</td>\n",
              "      <td>0.215780</td>\n",
              "      <td>1</td>\n",
              "      <td>3</td>\n",
              "      <td>0</td>\n",
              "      <td>0</td>\n",
              "      <td>1</td>\n",
              "      <td>0</td>\n",
              "      <td>1</td>\n",
              "      <td>[0, 0, 1, 0]</td>\n",
              "    </tr>\n",
              "    <tr>\n",
              "      <th>3</th>\n",
              "      <td>3</td>\n",
              "      <td>Title: Iraq Halts Oil Exports from Main Southe...</td>\n",
              "      <td>business</td>\n",
              "      <td>business</td>\n",
              "      <td>business</td>\n",
              "      <td>TRUE</td>\n",
              "      <td>false. the news title and description belong t...</td>\n",
              "      <td>true.</td>\n",
              "      <td>TRUE</td>\n",
              "      <td>the topic is \"business\".</td>\n",
              "      <td>...</td>\n",
              "      <td>0.591673</td>\n",
              "      <td>0.363698</td>\n",
              "      <td>1</td>\n",
              "      <td>3</td>\n",
              "      <td>0</td>\n",
              "      <td>0</td>\n",
              "      <td>1</td>\n",
              "      <td>0</td>\n",
              "      <td>1</td>\n",
              "      <td>[0, 0, 1, 0]</td>\n",
              "    </tr>\n",
              "    <tr>\n",
              "      <th>4</th>\n",
              "      <td>3</td>\n",
              "      <td>Title: Oil prices soar to all-time record, pos...</td>\n",
              "      <td>business</td>\n",
              "      <td>business</td>\n",
              "      <td>topic: business</td>\n",
              "      <td>true.</td>\n",
              "      <td>FALSE</td>\n",
              "      <td>TRUE</td>\n",
              "      <td>TRUE</td>\n",
              "      <td>business</td>\n",
              "      <td>...</td>\n",
              "      <td>0.591673</td>\n",
              "      <td>0.363698</td>\n",
              "      <td>1</td>\n",
              "      <td>3</td>\n",
              "      <td>0</td>\n",
              "      <td>0</td>\n",
              "      <td>1</td>\n",
              "      <td>0</td>\n",
              "      <td>1</td>\n",
              "      <td>[0, 0, 1, 0]</td>\n",
              "    </tr>\n",
              "  </tbody>\n",
              "</table>\n",
              "<p>5 rows × 62 columns</p>\n",
              "</div>\n",
              "      <button class=\"colab-df-convert\" onclick=\"convertToInteractive('df-f5eabbfd-a3c0-43f1-96fa-b251fb0cdbad')\"\n",
              "              title=\"Convert this dataframe to an interactive table.\"\n",
              "              style=\"display:none;\">\n",
              "        \n",
              "  <svg xmlns=\"http://www.w3.org/2000/svg\" height=\"24px\"viewBox=\"0 0 24 24\"\n",
              "       width=\"24px\">\n",
              "    <path d=\"M0 0h24v24H0V0z\" fill=\"none\"/>\n",
              "    <path d=\"M18.56 5.44l.94 2.06.94-2.06 2.06-.94-2.06-.94-.94-2.06-.94 2.06-2.06.94zm-11 1L8.5 8.5l.94-2.06 2.06-.94-2.06-.94L8.5 2.5l-.94 2.06-2.06.94zm10 10l.94 2.06.94-2.06 2.06-.94-2.06-.94-.94-2.06-.94 2.06-2.06.94z\"/><path d=\"M17.41 7.96l-1.37-1.37c-.4-.4-.92-.59-1.43-.59-.52 0-1.04.2-1.43.59L10.3 9.45l-7.72 7.72c-.78.78-.78 2.05 0 2.83L4 21.41c.39.39.9.59 1.41.59.51 0 1.02-.2 1.41-.59l7.78-7.78 2.81-2.81c.8-.78.8-2.07 0-2.86zM5.41 20L4 18.59l7.72-7.72 1.47 1.35L5.41 20z\"/>\n",
              "  </svg>\n",
              "      </button>\n",
              "      \n",
              "  <style>\n",
              "    .colab-df-container {\n",
              "      display:flex;\n",
              "      flex-wrap:wrap;\n",
              "      gap: 12px;\n",
              "    }\n",
              "\n",
              "    .colab-df-convert {\n",
              "      background-color: #E8F0FE;\n",
              "      border: none;\n",
              "      border-radius: 50%;\n",
              "      cursor: pointer;\n",
              "      display: none;\n",
              "      fill: #1967D2;\n",
              "      height: 32px;\n",
              "      padding: 0 0 0 0;\n",
              "      width: 32px;\n",
              "    }\n",
              "\n",
              "    .colab-df-convert:hover {\n",
              "      background-color: #E2EBFA;\n",
              "      box-shadow: 0px 1px 2px rgba(60, 64, 67, 0.3), 0px 1px 3px 1px rgba(60, 64, 67, 0.15);\n",
              "      fill: #174EA6;\n",
              "    }\n",
              "\n",
              "    [theme=dark] .colab-df-convert {\n",
              "      background-color: #3B4455;\n",
              "      fill: #D2E3FC;\n",
              "    }\n",
              "\n",
              "    [theme=dark] .colab-df-convert:hover {\n",
              "      background-color: #434B5C;\n",
              "      box-shadow: 0px 1px 3px 1px rgba(0, 0, 0, 0.15);\n",
              "      filter: drop-shadow(0px 1px 2px rgba(0, 0, 0, 0.3));\n",
              "      fill: #FFFFFF;\n",
              "    }\n",
              "  </style>\n",
              "\n",
              "      <script>\n",
              "        const buttonEl =\n",
              "          document.querySelector('#df-f5eabbfd-a3c0-43f1-96fa-b251fb0cdbad button.colab-df-convert');\n",
              "        buttonEl.style.display =\n",
              "          google.colab.kernel.accessAllowed ? 'block' : 'none';\n",
              "\n",
              "        async function convertToInteractive(key) {\n",
              "          const element = document.querySelector('#df-f5eabbfd-a3c0-43f1-96fa-b251fb0cdbad');\n",
              "          const dataTable =\n",
              "            await google.colab.kernel.invokeFunction('convertToInteractive',\n",
              "                                                     [key], {});\n",
              "          if (!dataTable) return;\n",
              "\n",
              "          const docLinkHtml = 'Like what you see? Visit the ' +\n",
              "            '<a target=\"_blank\" href=https://colab.research.google.com/notebooks/data_table.ipynb>data table notebook</a>'\n",
              "            + ' to learn more about interactive tables.';\n",
              "          element.innerHTML = '';\n",
              "          dataTable['output_type'] = 'display_data';\n",
              "          await google.colab.output.renderOutput(dataTable, element);\n",
              "          const docLink = document.createElement('div');\n",
              "          docLink.innerHTML = docLinkHtml;\n",
              "          element.appendChild(docLink);\n",
              "        }\n",
              "      </script>\n",
              "    </div>\n",
              "  </div>\n",
              "  "
            ]
          },
          "metadata": {},
          "execution_count": 106
        }
      ],
      "source": [
        "df['one_hot_labels'] = list(df[label_cols].values)\n",
        "df.head()"
      ]
    },
    {
      "cell_type": "code",
      "execution_count": null,
      "metadata": {
        "id": "MlhHifh5bW7e"
      },
      "outputs": [],
      "source": [
        "labels = list(df.one_hot_labels.values)\n",
        "comments = list(df.text.values)"
      ]
    },
    {
      "cell_type": "markdown",
      "metadata": {
        "id": "IlMHfElhGJzc"
      },
      "source": [
        "Load the pretrained tokenizer that corresponds to your choice in model. e.g.,\n",
        "\n",
        "```\n",
        "BERT:\n",
        "tokenizer = BertTokenizer.from_pretrained('bert-base-uncased', do_lower_case=True)\n",
        "\n",
        "XLNet:\n",
        "tokenizer = XLNetTokenizer.from_pretrained('xlnet-base-cased', do_lower_case=False)\n",
        "\n",
        "RoBERTa:\n",
        "tokenizer = RobertaTokenizer.from_pretrained('roberta-base', do_lower_case=False)\n",
        "```\n"
      ]
    },
    {
      "cell_type": "markdown",
      "metadata": {
        "id": "IhVr8SziL_PY"
      },
      "source": [
        "In order to avoid memory issues with Google Colab, I enforce a max_length of 100 tokens. Note that some sentences may not adequately represent each label because of this."
      ]
    },
    {
      "cell_type": "code",
      "execution_count": null,
      "metadata": {
        "colab": {
          "base_uri": "https://localhost:8080/"
        },
        "id": "HNsEu-vUur-4",
        "outputId": "838eee9c-59ad-44ae-de77-ca361e8c754e"
      },
      "outputs": [
        {
          "output_type": "stream",
          "name": "stderr",
          "text": [
            "Truncation was not explicitly activated but `max_length` is provided a specific value, please use `truncation=True` to explicitly truncate examples to max length. Defaulting to 'longest_first' truncation strategy. If you encode pairs of sequences (GLUE-style) with the tokenizer you can select this strategy more precisely by providing a specific strategy to `truncation`.\n",
            "/usr/local/lib/python3.10/dist-packages/transformers/tokenization_utils_base.py:2377: FutureWarning: The `pad_to_max_length` argument is deprecated and will be removed in a future version, use `padding=True` or `padding='longest'` to pad to the longest sequence in the batch, or use `padding='max_length'` to pad to a max length. In this case, you can give a specific length with `max_length` (e.g. `max_length=45`) or leave max_length to None to pad to the maximal input size of the model (e.g. 512 for Bert).\n",
            "  warnings.warn(\n"
          ]
        },
        {
          "output_type": "stream",
          "name": "stdout",
          "text": [
            "tokenizer outputs:  dict_keys(['input_ids', 'attention_mask'])\n"
          ]
        }
      ],
      "source": [
        "from transformers import RobertaTokenizer\n",
        "max_length = 100\n",
        "tokenizer = RobertaTokenizer.from_pretrained('roberta-base', do_lower_case=False) # tokenizer\n",
        "encodings = tokenizer.batch_encode_plus(comments,max_length=max_length,pad_to_max_length=True) # tokenizer's encoding method\n",
        "print('tokenizer outputs: ', encodings.keys())"
      ]
    },
    {
      "cell_type": "code",
      "execution_count": null,
      "metadata": {
        "colab": {
          "base_uri": "https://localhost:8080/"
        },
        "id": "nG9vOTp92yZE",
        "outputId": "4258abef-382f-4559-96f3-e04a9869a03d"
      },
      "outputs": [
        {
          "data": {
            "text/plain": [
              "dict_keys(['input_ids', 'attention_mask'])"
            ]
          },
          "execution_count": 62,
          "metadata": {},
          "output_type": "execute_result"
        }
      ],
      "source": [
        "encodings.keys()"
      ]
    },
    {
      "cell_type": "code",
      "execution_count": null,
      "metadata": {
        "id": "l6CCLSjfur-9"
      },
      "outputs": [],
      "source": [
        "input_ids = encodings['input_ids'] # tokenized and encoded sentences\n",
        "#token_type_ids = encodings['token_type_ids'] # token type ids\n",
        "attention_masks = encodings['attention_mask'] # attention masks"
      ]
    },
    {
      "cell_type": "code",
      "execution_count": null,
      "metadata": {
        "colab": {
          "base_uri": "https://localhost:8080/"
        },
        "id": "vSOFbThlYcpb",
        "outputId": "aaa693d4-9c35-4bf3-fa4b-8e6772159a5f"
      },
      "outputs": [
        {
          "output_type": "stream",
          "name": "stdout",
          "text": [
            "df label indices with only one instance:  []\n"
          ]
        }
      ],
      "source": [
        "# Identifying indices of 'one_hot_labels' entries that only occur once - this will allow us to stratify split our training data later\n",
        "label_counts = df.one_hot_labels.astype(str).value_counts()\n",
        "one_freq = label_counts[label_counts==1].keys()\n",
        "one_freq_idxs = sorted(list(df[df.one_hot_labels.astype(str).isin(one_freq)].index), reverse=True)\n",
        "print('df label indices with only one instance: ', one_freq_idxs)"
      ]
    },
    {
      "cell_type": "code",
      "execution_count": null,
      "metadata": {
        "id": "CQQ7CoOag_r7"
      },
      "outputs": [],
      "source": [
        "# Gathering single instance inputs to force into the training set after stratified split\n",
        "one_freq_input_ids = [input_ids.pop(i) for i in one_freq_idxs]\n",
        "#one_freq_token_types = [token_type_ids.pop(i) for i in one_freq_idxs]\n",
        "one_freq_attention_masks = [attention_masks.pop(i) for i in one_freq_idxs]\n",
        "one_freq_labels = [labels.pop(i) for i in one_freq_idxs]"
      ]
    },
    {
      "cell_type": "markdown",
      "metadata": {
        "id": "r9PxAt48HRRj"
      },
      "source": [
        "Be sure to handle all classes during validation using \"stratify\" during train/validation split:"
      ]
    },
    {
      "cell_type": "code",
      "execution_count": null,
      "metadata": {
        "id": "WPFaq4ufnIT2"
      },
      "outputs": [],
      "source": [
        "# Use train_test_split to split our data into train and validation sets\n",
        "\n",
        "train_inputs, validation_inputs, train_labels, validation_labels, train_masks, validation_masks = train_test_split(input_ids, labels, attention_masks,\n",
        "                                                            random_state=20, test_size=0.10, stratify = labels)\n",
        "\n",
        "# Add one frequency data to train data\n",
        "train_inputs.extend(one_freq_input_ids)\n",
        "train_labels.extend(one_freq_labels)\n",
        "train_masks.extend(one_freq_attention_masks)\n",
        "#train_token_types.extend(one_freq_token_types)\n",
        "\n",
        "# Convert all of our data into torch tensors, the required datatype for our model\n",
        "train_inputs = torch.tensor(train_inputs)\n",
        "train_labels = torch.tensor(train_labels)\n",
        "train_masks = torch.tensor(train_masks)\n",
        "#train_token_types = torch.tensor(train_token_types)\n",
        "\n",
        "validation_inputs = torch.tensor(validation_inputs)\n",
        "validation_labels = torch.tensor(validation_labels)\n",
        "validation_masks = torch.tensor(validation_masks)\n",
        "#validation_token_types = torch.tensor(validation_token_types)"
      ]
    },
    {
      "cell_type": "code",
      "execution_count": null,
      "metadata": {
        "id": "ZRnuLna-nIT4"
      },
      "outputs": [],
      "source": [
        "# Select a batch size for training. For fine-tuning with XLNet, the authors recommend a batch size of 32, 48, or 128. We will use 32 here to avoid memory issues.\n",
        "batch_size = 16\n",
        "\n",
        "# Create an iterator of our data with torch DataLoader. This helps save on memory during training because, unlike a for loop,\n",
        "# with an iterator the entire dataset does not need to be loaded into memory\n",
        "\n",
        "train_data = TensorDataset(train_inputs, train_masks, train_labels)\n",
        "train_sampler = RandomSampler(train_data)\n",
        "train_dataloader = DataLoader(train_data, sampler=train_sampler, batch_size=batch_size)\n",
        "\n",
        "validation_data = TensorDataset(validation_inputs, validation_masks, validation_labels)\n",
        "validation_sampler = SequentialSampler(validation_data)\n",
        "validation_dataloader = DataLoader(validation_data, sampler=validation_sampler, batch_size=batch_size)"
      ]
    },
    {
      "cell_type": "code",
      "execution_count": null,
      "metadata": {
        "id": "iiFRnP_ZTBFa"
      },
      "outputs": [],
      "source": [
        "torch.save(validation_dataloader,'validation_data_loader')\n",
        "torch.save(train_dataloader,'train_data_loader')"
      ]
    },
    {
      "cell_type": "markdown",
      "metadata": {
        "id": "ncGteBuSFuZM"
      },
      "source": [
        "## Load Model & Set Params"
      ]
    },
    {
      "cell_type": "markdown",
      "metadata": {
        "id": "Z0dL-Bz_NrGj"
      },
      "source": [
        "Load the appropriate model below, each model already contains a single dense layer for classification on top.\n",
        "\n",
        "\n",
        "\n",
        "```\n",
        "BERT:\n",
        "model = BertForSequenceClassification.from_pretrained(\"bert-base-uncased\", num_labels=num_labels)\n",
        "\n",
        "XLNet:\n",
        "model = XLNetForSequenceClassification.from_pretrained(\"xlnet-base-cased\", num_labels=num_labels)\n",
        "\n",
        "RoBERTa:\n",
        "model = RobertaForSequenceClassification.from_pretrained('roberta-base', num_labels=num_labels)\n",
        "```\n",
        "\n"
      ]
    },
    {
      "cell_type": "code",
      "execution_count": null,
      "metadata": {
        "colab": {
          "base_uri": "https://localhost:8080/"
        },
        "id": "Ujk4k16DnIT6",
        "outputId": "ccceec98-c38c-4821-85c1-3b52195f02f3"
      },
      "outputs": [
        {
          "output_type": "stream",
          "name": "stderr",
          "text": [
            "Some weights of the model checkpoint at roberta-base were not used when initializing RobertaForSequenceClassification: ['lm_head.dense.weight', 'lm_head.layer_norm.weight', 'lm_head.bias', 'lm_head.layer_norm.bias', 'lm_head.dense.bias']\n",
            "- This IS expected if you are initializing RobertaForSequenceClassification from the checkpoint of a model trained on another task or with another architecture (e.g. initializing a BertForSequenceClassification model from a BertForPreTraining model).\n",
            "- This IS NOT expected if you are initializing RobertaForSequenceClassification from the checkpoint of a model that you expect to be exactly identical (initializing a BertForSequenceClassification model from a BertForSequenceClassification model).\n",
            "Some weights of RobertaForSequenceClassification were not initialized from the model checkpoint at roberta-base and are newly initialized: ['classifier.out_proj.weight', 'classifier.dense.bias', 'classifier.dense.weight', 'classifier.out_proj.bias']\n",
            "You should probably TRAIN this model on a down-stream task to be able to use it for predictions and inference.\n"
          ]
        },
        {
          "output_type": "execute_result",
          "data": {
            "text/plain": [
              "RobertaForSequenceClassification(\n",
              "  (roberta): RobertaModel(\n",
              "    (embeddings): RobertaEmbeddings(\n",
              "      (word_embeddings): Embedding(50265, 768, padding_idx=1)\n",
              "      (position_embeddings): Embedding(514, 768, padding_idx=1)\n",
              "      (token_type_embeddings): Embedding(1, 768)\n",
              "      (LayerNorm): LayerNorm((768,), eps=1e-05, elementwise_affine=True)\n",
              "      (dropout): Dropout(p=0.1, inplace=False)\n",
              "    )\n",
              "    (encoder): RobertaEncoder(\n",
              "      (layer): ModuleList(\n",
              "        (0-11): 12 x RobertaLayer(\n",
              "          (attention): RobertaAttention(\n",
              "            (self): RobertaSelfAttention(\n",
              "              (query): Linear(in_features=768, out_features=768, bias=True)\n",
              "              (key): Linear(in_features=768, out_features=768, bias=True)\n",
              "              (value): Linear(in_features=768, out_features=768, bias=True)\n",
              "              (dropout): Dropout(p=0.1, inplace=False)\n",
              "            )\n",
              "            (output): RobertaSelfOutput(\n",
              "              (dense): Linear(in_features=768, out_features=768, bias=True)\n",
              "              (LayerNorm): LayerNorm((768,), eps=1e-05, elementwise_affine=True)\n",
              "              (dropout): Dropout(p=0.1, inplace=False)\n",
              "            )\n",
              "          )\n",
              "          (intermediate): RobertaIntermediate(\n",
              "            (dense): Linear(in_features=768, out_features=3072, bias=True)\n",
              "            (intermediate_act_fn): GELUActivation()\n",
              "          )\n",
              "          (output): RobertaOutput(\n",
              "            (dense): Linear(in_features=3072, out_features=768, bias=True)\n",
              "            (LayerNorm): LayerNorm((768,), eps=1e-05, elementwise_affine=True)\n",
              "            (dropout): Dropout(p=0.1, inplace=False)\n",
              "          )\n",
              "        )\n",
              "      )\n",
              "    )\n",
              "  )\n",
              "  (classifier): RobertaClassificationHead(\n",
              "    (dense): Linear(in_features=768, out_features=768, bias=True)\n",
              "    (dropout): Dropout(p=0.1, inplace=False)\n",
              "    (out_proj): Linear(in_features=768, out_features=4, bias=True)\n",
              "  )\n",
              ")"
            ]
          },
          "metadata": {},
          "execution_count": 115
        }
      ],
      "source": [
        "# Load model, the pretrained model will include a single linear classification layer on top for classification.\n",
        "from transformers import RobertaForSequenceClassification\n",
        "model = RobertaForSequenceClassification.from_pretrained('roberta-base', num_labels=num_labels)\n",
        "model.cuda()"
      ]
    },
    {
      "cell_type": "markdown",
      "metadata": {
        "id": "jGE4gv9qfhRG"
      },
      "source": [
        "Setting custom optimization parameters for the AdamW optimizer https://huggingface.co/transformers/main_classes/optimizer_schedules.html"
      ]
    },
    {
      "cell_type": "code",
      "execution_count": null,
      "metadata": {
        "id": "GsV8zwWYnIT9"
      },
      "outputs": [],
      "source": [
        "# setting custom optimization parameters. You may implement a scheduler here as well.\n",
        "param_optimizer = list(model.named_parameters())\n",
        "no_decay = ['bias', 'gamma', 'beta']\n",
        "optimizer_grouped_parameters = [\n",
        "    {'params': [p for n, p in param_optimizer if not any(nd in n for nd in no_decay)],\n",
        "     'weight_decay_rate': 0.01},\n",
        "    {'params': [p for n, p in param_optimizer if any(nd in n for nd in no_decay)],\n",
        "     'weight_decay_rate': 0.0}\n",
        "]"
      ]
    },
    {
      "cell_type": "code",
      "execution_count": null,
      "metadata": {
        "colab": {
          "base_uri": "https://localhost:8080/"
        },
        "id": "aOomZIEIoHOL",
        "outputId": "dde4215a-5da9-4187-bd33-28b124171f70"
      },
      "outputs": [
        {
          "output_type": "stream",
          "name": "stderr",
          "text": [
            "/usr/local/lib/python3.10/dist-packages/transformers/optimization.py:411: FutureWarning: This implementation of AdamW is deprecated and will be removed in a future version. Use the PyTorch implementation torch.optim.AdamW instead, or set `no_deprecation_warning=True` to disable this warning\n",
            "  warnings.warn(\n"
          ]
        }
      ],
      "source": [
        "from transformers import AdamW\n",
        "optimizer = AdamW(optimizer_grouped_parameters,lr=2e-5 ,correct_bias=True)\n",
        "# optimizer = AdamW(model.parameters(),lr=2e-5)  # Default optimization"
      ]
    },
    {
      "cell_type": "markdown",
      "metadata": {
        "id": "JRQQZ8zIFzLW"
      },
      "source": [
        "## Train Model"
      ]
    },
    {
      "cell_type": "code",
      "execution_count": null,
      "metadata": {
        "id": "Ho6xx8cQfhvK"
      },
      "outputs": [],
      "source": [
        "def is_max(array):\n",
        "  max_val=max(array)\n",
        "  res=[i==max_val for i in array]\n",
        "  return res"
      ]
    },
    {
      "cell_type": "code",
      "source": [
        "# Store our loss and accuracy for plotting\n",
        "train_loss_set = []\n",
        "\n",
        "# Number of training epochs (authors recommend between 2 and 4)\n",
        "epochs = 10\n",
        "\n",
        "# trange is a tqdm wrapper around the normal python range\n",
        "for _ in trange(epochs, desc=\"Epoch\"):\n",
        "\n",
        "  # Training\n",
        "\n",
        "  # Set our model to training mode (as opposed to evaluation mode)\n",
        "  model.train()\n",
        "\n",
        "  # Tracking variables\n",
        "  tr_loss = 0 #running loss\n",
        "  nb_tr_examples, nb_tr_steps = 0, 0\n",
        "\n",
        "  # Train the data for one epoch\n",
        "  for step, batch in enumerate(train_dataloader):\n",
        "    # Add batch to GPU\n",
        "    batch = tuple(t.to(device) for t in batch)\n",
        "    # Unpack the inputs from our dataloader\n",
        "    b_input_ids, b_input_mask, b_labels = batch\n",
        "    # Clear out the gradients (by default they accumulate)\n",
        "    optimizer.zero_grad()\n",
        "\n",
        "    # # Forward pass for multiclass classification\n",
        "    # outputs = model(b_input_ids, token_type_ids=None, attention_mask=b_input_mask, labels=b_labels)\n",
        "    # loss = outputs[0]\n",
        "    # logits = outputs[1]\n",
        "\n",
        "    # Forward pass for multilabel classification\n",
        "    outputs = model(b_input_ids, token_type_ids=None, attention_mask=b_input_mask)\n",
        "    logits = outputs[0]\n",
        "    loss_func = BCEWithLogitsLoss()\n",
        "    loss = loss_func(logits.view(-1,num_labels),b_labels.type_as(logits).view(-1,num_labels)) #convert labels to float for calculation\n",
        "    # loss_func = BCELoss()\n",
        "    # loss = loss_func(torch.sigmoid(logits.view(-1,num_labels)),b_labels.type_as(logits).view(-1,num_labels)) #convert labels to float for calculation\n",
        "    train_loss_set.append(loss.item())\n",
        "\n",
        "    # Backward pass\n",
        "    loss.backward()\n",
        "    # Update parameters and take a step using the computed gradient\n",
        "    optimizer.step()\n",
        "    # scheduler.step()\n",
        "    # Update tracking variables\n",
        "    tr_loss += loss.item()\n",
        "    nb_tr_examples += b_input_ids.size(0)\n",
        "    nb_tr_steps += 1\n",
        "\n",
        "  print(\"Train loss: {}\".format(tr_loss/nb_tr_steps))\n",
        "\n",
        "###############################################################################\n",
        "\n",
        "  # Validation\n",
        "\n",
        "  # Put model in evaluation mode to evaluate loss on the validation set\n",
        "  model.eval()\n",
        "\n",
        "  # Variables to gather full output\n",
        "  logit_preds,true_labels,pred_labels,tokenized_texts = [],[],[],[]\n",
        "\n",
        "  # Predict\n",
        "  for i, batch in enumerate(validation_dataloader):\n",
        "    batch = tuple(t.to(device) for t in batch)\n",
        "    # Unpack the inputs from our dataloader\n",
        "    b_input_ids, b_input_mask, b_labels = batch\n",
        "    with torch.no_grad():\n",
        "      # Forward pass\n",
        "      outs = model(b_input_ids, token_type_ids=None, attention_mask=b_input_mask)\n",
        "      b_logit_pred = outs[0]\n",
        "      pred_label = torch.sigmoid(b_logit_pred)\n",
        "\n",
        "      b_logit_pred = b_logit_pred.detach().cpu().numpy()\n",
        "      pred_label = pred_label.to('cpu').numpy()\n",
        "      b_labels = b_labels.to('cpu').numpy()\n",
        "\n",
        "    tokenized_texts.append(b_input_ids)\n",
        "    logit_preds.append(b_logit_pred)\n",
        "    true_labels.append(b_labels)\n",
        "    pred_labels.append(pred_label)\n",
        "\n",
        "  # Flatten outputs\n",
        "  pred_labels = [item for sublist in pred_labels for item in sublist]\n",
        "  true_labels = [item for sublist in true_labels for item in sublist]\n",
        "\n",
        "  # Calculate Accuracy\n",
        "  #threshold = 0.30\n",
        "  #pred_bools = [pl>threshold for pl in pred_labels]\n",
        "  #print(pred_labels)\n",
        "  #max_val = max(pred_labels)\n",
        "  pred_bools = [is_max(arr) for arr in pred_labels]\n",
        "  true_bools = [tl==1 for tl in true_labels]\n",
        "  val_f1_accuracy = f1_score(true_bools,pred_bools,average='micro')*100\n",
        "  val_flat_accuracy = accuracy_score(true_bools, pred_bools)*100\n",
        "\n",
        "  print('F1 Validation Accuracy: ', val_f1_accuracy)\n",
        "  print('Flat Validation Accuracy: ', val_flat_accuracy)"
      ],
      "metadata": {
        "colab": {
          "base_uri": "https://localhost:8080/"
        },
        "id": "V2x2N2D3iVAD",
        "outputId": "76e08124-c758-4cdc-ee4f-07612bdd26b5"
      },
      "execution_count": null,
      "outputs": [
        {
          "output_type": "stream",
          "name": "stderr",
          "text": [
            "\rEpoch:   0%|          | 0/10 [00:00<?, ?it/s]"
          ]
        },
        {
          "output_type": "stream",
          "name": "stdout",
          "text": [
            "Train loss: 0.4266913129733159\n"
          ]
        },
        {
          "output_type": "stream",
          "name": "stderr",
          "text": [
            "\rEpoch:  10%|█         | 1/10 [00:18<02:49, 18.85s/it]"
          ]
        },
        {
          "output_type": "stream",
          "name": "stdout",
          "text": [
            "F1 Validation Accuracy:  88.79310344827587\n",
            "Flat Validation Accuracy:  88.79310344827587\n",
            "Train loss: 0.1557770162820816\n"
          ]
        },
        {
          "output_type": "stream",
          "name": "stderr",
          "text": [
            "\rEpoch:  20%|██        | 2/10 [00:38<02:34, 19.29s/it]"
          ]
        },
        {
          "output_type": "stream",
          "name": "stdout",
          "text": [
            "F1 Validation Accuracy:  91.37931034482759\n",
            "Flat Validation Accuracy:  91.37931034482759\n",
            "Train loss: 0.10357528833242563\n"
          ]
        },
        {
          "output_type": "stream",
          "name": "stderr",
          "text": [
            "\rEpoch:  30%|███       | 3/10 [00:58<02:16, 19.50s/it]"
          ]
        },
        {
          "output_type": "stream",
          "name": "stdout",
          "text": [
            "F1 Validation Accuracy:  93.10344827586206\n",
            "Flat Validation Accuracy:  93.10344827586206\n",
            "Train loss: 0.07853862540079998\n"
          ]
        },
        {
          "output_type": "stream",
          "name": "stderr",
          "text": [
            "\rEpoch:  40%|████      | 4/10 [01:17<01:56, 19.35s/it]"
          ]
        },
        {
          "output_type": "stream",
          "name": "stdout",
          "text": [
            "F1 Validation Accuracy:  93.10344827586206\n",
            "Flat Validation Accuracy:  93.10344827586206\n",
            "Train loss: 0.05571835685807925\n"
          ]
        },
        {
          "output_type": "stream",
          "name": "stderr",
          "text": [
            "\rEpoch:  50%|█████     | 5/10 [01:36<01:36, 19.20s/it]"
          ]
        },
        {
          "output_type": "stream",
          "name": "stdout",
          "text": [
            "F1 Validation Accuracy:  91.37931034482759\n",
            "Flat Validation Accuracy:  91.37931034482759\n",
            "Train loss: 0.05444328627334191\n"
          ]
        },
        {
          "output_type": "stream",
          "name": "stderr",
          "text": [
            "\rEpoch:  60%|██████    | 6/10 [01:55<01:16, 19.15s/it]"
          ]
        },
        {
          "output_type": "stream",
          "name": "stdout",
          "text": [
            "F1 Validation Accuracy:  93.10344827586206\n",
            "Flat Validation Accuracy:  93.10344827586206\n",
            "Train loss: 0.04713241747365548\n"
          ]
        },
        {
          "output_type": "stream",
          "name": "stderr",
          "text": [
            "\rEpoch:  70%|███████   | 7/10 [02:14<00:57, 19.18s/it]"
          ]
        },
        {
          "output_type": "stream",
          "name": "stdout",
          "text": [
            "F1 Validation Accuracy:  93.10344827586206\n",
            "Flat Validation Accuracy:  93.10344827586206\n",
            "Train loss: 0.03499100056405251\n"
          ]
        },
        {
          "output_type": "stream",
          "name": "stderr",
          "text": [
            "\rEpoch:  80%|████████  | 8/10 [02:33<00:38, 19.20s/it]"
          ]
        },
        {
          "output_type": "stream",
          "name": "stdout",
          "text": [
            "F1 Validation Accuracy:  93.10344827586206\n",
            "Flat Validation Accuracy:  93.10344827586206\n",
            "Train loss: 0.02904101888147684\n"
          ]
        },
        {
          "output_type": "stream",
          "name": "stderr",
          "text": [
            "\rEpoch:  90%|█████████ | 9/10 [02:52<00:19, 19.18s/it]"
          ]
        },
        {
          "output_type": "stream",
          "name": "stdout",
          "text": [
            "F1 Validation Accuracy:  93.10344827586206\n",
            "Flat Validation Accuracy:  93.10344827586206\n",
            "Train loss: 0.03903886830577483\n"
          ]
        },
        {
          "output_type": "stream",
          "name": "stderr",
          "text": [
            "Epoch: 100%|██████████| 10/10 [03:12<00:00, 19.21s/it]"
          ]
        },
        {
          "output_type": "stream",
          "name": "stdout",
          "text": [
            "F1 Validation Accuracy:  91.37931034482759\n",
            "Flat Validation Accuracy:  91.37931034482759\n"
          ]
        },
        {
          "output_type": "stream",
          "name": "stderr",
          "text": [
            "\n"
          ]
        }
      ]
    },
    {
      "cell_type": "code",
      "source": [
        "# Store our loss and accuracy for plotting\n",
        "train_loss_set = []\n",
        "\n",
        "# Number of training epochs (authors recommend between 2 and 4)\n",
        "epochs = 5\n",
        "\n",
        "# trange is a tqdm wrapper around the normal python range\n",
        "for _ in trange(epochs, desc=\"Epoch\"):\n",
        "\n",
        "  # Training\n",
        "\n",
        "  # Set our model to training mode (as opposed to evaluation mode)\n",
        "  model.train()\n",
        "\n",
        "  # Tracking variables\n",
        "  tr_loss = 0 #running loss\n",
        "  nb_tr_examples, nb_tr_steps = 0, 0\n",
        "\n",
        "  # Train the data for one epoch\n",
        "  for step, batch in enumerate(train_dataloader):\n",
        "    # Add batch to GPU\n",
        "    batch = tuple(t.to(device) for t in batch)\n",
        "    # Unpack the inputs from our dataloader\n",
        "    b_input_ids, b_input_mask, b_labels = batch\n",
        "    # Clear out the gradients (by default they accumulate)\n",
        "    optimizer.zero_grad()\n",
        "\n",
        "    # # Forward pass for multiclass classification\n",
        "    # outputs = model(b_input_ids, token_type_ids=None, attention_mask=b_input_mask, labels=b_labels)\n",
        "    # loss = outputs[0]\n",
        "    # logits = outputs[1]\n",
        "\n",
        "    # Forward pass for multilabel classification\n",
        "    outputs = model(b_input_ids, token_type_ids=None, attention_mask=b_input_mask)\n",
        "    logits = outputs[0]\n",
        "    loss_func = BCEWithLogitsLoss()\n",
        "    loss = loss_func(logits.view(-1,num_labels),b_labels.type_as(logits).view(-1,num_labels)) #convert labels to float for calculation\n",
        "    # loss_func = BCELoss()\n",
        "    # loss = loss_func(torch.sigmoid(logits.view(-1,num_labels)),b_labels.type_as(logits).view(-1,num_labels)) #convert labels to float for calculation\n",
        "    train_loss_set.append(loss.item())\n",
        "\n",
        "    # Backward pass\n",
        "    loss.backward()\n",
        "    # Update parameters and take a step using the computed gradient\n",
        "    optimizer.step()\n",
        "    # scheduler.step()\n",
        "    # Update tracking variables\n",
        "    tr_loss += loss.item()\n",
        "    nb_tr_examples += b_input_ids.size(0)\n",
        "    nb_tr_steps += 1\n",
        "\n",
        "  print(\"Train loss: {}\".format(tr_loss/nb_tr_steps))\n",
        "\n",
        "###############################################################################\n",
        "\n",
        "  # Validation\n",
        "\n",
        "  # Put model in evaluation mode to evaluate loss on the validation set\n",
        "  model.eval()\n",
        "\n",
        "  # Variables to gather full output\n",
        "  logit_preds,true_labels,pred_labels,tokenized_texts = [],[],[],[]\n",
        "\n",
        "  # Predict\n",
        "  for i, batch in enumerate(validation_dataloader):\n",
        "    batch = tuple(t.to(device) for t in batch)\n",
        "    # Unpack the inputs from our dataloader\n",
        "    b_input_ids, b_input_mask, b_labels = batch\n",
        "    with torch.no_grad():\n",
        "      # Forward pass\n",
        "      outs = model(b_input_ids, token_type_ids=None, attention_mask=b_input_mask)\n",
        "      b_logit_pred = outs[0]\n",
        "      pred_label = torch.sigmoid(b_logit_pred)\n",
        "\n",
        "      b_logit_pred = b_logit_pred.detach().cpu().numpy()\n",
        "      pred_label = pred_label.to('cpu').numpy()\n",
        "      b_labels = b_labels.to('cpu').numpy()\n",
        "\n",
        "    tokenized_texts.append(b_input_ids)\n",
        "    logit_preds.append(b_logit_pred)\n",
        "    true_labels.append(b_labels)\n",
        "    pred_labels.append(pred_label)\n",
        "\n",
        "  # Flatten outputs\n",
        "  pred_labels = [item for sublist in pred_labels for item in sublist]\n",
        "  true_labels = [item for sublist in true_labels for item in sublist]\n",
        "\n",
        "  # Calculate Accuracy\n",
        "  #threshold = 0.30\n",
        "  #pred_bools = [pl>threshold for pl in pred_labels]\n",
        "  #print(pred_labels)\n",
        "  #max_val = max(pred_labels)\n",
        "  pred_bools = [is_max(arr) for arr in pred_labels]\n",
        "  true_bools = [tl==1 for tl in true_labels]\n",
        "  val_f1_accuracy = f1_score(true_bools,pred_bools,average='micro')*100\n",
        "  val_flat_accuracy = accuracy_score(true_bools, pred_bools)*100\n",
        "\n",
        "  print('F1 Validation Accuracy: ', val_f1_accuracy)\n",
        "  print('Flat Validation Accuracy: ', val_flat_accuracy)"
      ],
      "metadata": {
        "colab": {
          "base_uri": "https://localhost:8080/"
        },
        "id": "PcqrFElwTMLl",
        "outputId": "d19ae88e-50ec-4a84-a402-0c68c5c1eea3"
      },
      "execution_count": null,
      "outputs": [
        {
          "output_type": "stream",
          "name": "stderr",
          "text": [
            "\rEpoch:   0%|          | 0/5 [00:00<?, ?it/s]"
          ]
        },
        {
          "output_type": "stream",
          "name": "stdout",
          "text": [
            "Train loss: 0.02341034564977655\n"
          ]
        },
        {
          "output_type": "stream",
          "name": "stderr",
          "text": [
            "\rEpoch:  20%|██        | 1/5 [00:19<01:16, 19.20s/it]"
          ]
        },
        {
          "output_type": "stream",
          "name": "stdout",
          "text": [
            "F1 Validation Accuracy:  94.82758620689656\n",
            "Flat Validation Accuracy:  94.82758620689656\n",
            "Train loss: 0.010642064581266963\n"
          ]
        },
        {
          "output_type": "stream",
          "name": "stderr",
          "text": [
            "\rEpoch:  40%|████      | 2/5 [00:39<00:58, 19.64s/it]"
          ]
        },
        {
          "output_type": "stream",
          "name": "stdout",
          "text": [
            "F1 Validation Accuracy:  91.37931034482759\n",
            "Flat Validation Accuracy:  91.37931034482759\n",
            "Train loss: 0.00914723970927298\n"
          ]
        },
        {
          "output_type": "stream",
          "name": "stderr",
          "text": [
            "\rEpoch:  60%|██████    | 3/5 [00:58<00:39, 19.62s/it]"
          ]
        },
        {
          "output_type": "stream",
          "name": "stdout",
          "text": [
            "F1 Validation Accuracy:  93.96551724137932\n",
            "Flat Validation Accuracy:  93.96551724137932\n",
            "Train loss: 0.008067033307340283\n"
          ]
        },
        {
          "output_type": "stream",
          "name": "stderr",
          "text": [
            "\rEpoch:  80%|████████  | 4/5 [01:17<00:19, 19.36s/it]"
          ]
        },
        {
          "output_type": "stream",
          "name": "stdout",
          "text": [
            "F1 Validation Accuracy:  92.24137931034483\n",
            "Flat Validation Accuracy:  92.24137931034483\n",
            "Train loss: 0.007938659345158017\n"
          ]
        },
        {
          "output_type": "stream",
          "name": "stderr",
          "text": [
            "Epoch: 100%|██████████| 5/5 [01:36<00:00, 19.31s/it]"
          ]
        },
        {
          "output_type": "stream",
          "name": "stdout",
          "text": [
            "F1 Validation Accuracy:  91.37931034482759\n",
            "Flat Validation Accuracy:  91.37931034482759\n"
          ]
        },
        {
          "output_type": "stream",
          "name": "stderr",
          "text": [
            "\n"
          ]
        }
      ]
    },
    {
      "cell_type": "markdown",
      "metadata": {
        "id": "_7dd2GE3F4yK"
      },
      "source": [
        "## Load and Preprocess Test Data"
      ]
    },
    {
      "cell_type": "code",
      "execution_count": null,
      "metadata": {
        "colab": {
          "base_uri": "https://localhost:8080/",
          "height": 372
        },
        "id": "G5Q7hC4GFOLJ",
        "outputId": "891ad743-2049-494c-e2cf-84bce0c9825d"
      },
      "outputs": [
        {
          "output_type": "execute_result",
          "data": {
            "text/plain": [
              "     Class Index                                         Title  \\\n",
              "495            2                               Pressure points   \n",
              "496            3  Unions protest as overtime rules take effect   \n",
              "497            1              Serb denies siege terror charges   \n",
              "498            2                 11th-hour highlights too late   \n",
              "499            4                             No IE? No Can See   \n",
              "\n",
              "                                           Description  \\\n",
              "495  ATHENS -- The booing went on for nearly 10 min...   \n",
              "496  WASHINGTON -- Hundreds of workers rallied on t...   \n",
              "497  A Bosnian Serb general accused of organising t...   \n",
              "498  NBC's prime-time Olympic coverage is taped and...   \n",
              "499  One thing that #39;s always irritated those wh...   \n",
              "\n",
              "                                                  text  gold_label  world  \\\n",
              "495  Title: Pressure points Description: ATHENS -- ...           2      0   \n",
              "496  Title: Unions protest as overtime rules take e...           3      0   \n",
              "497  Title: Serb denies siege terror charges Descri...           1      1   \n",
              "498  Title: 11th-hour highlights too late Descripti...           2      0   \n",
              "499  Title: No IE? No Can See Description: One thin...           4      0   \n",
              "\n",
              "     sports  business  sci  \n",
              "495       1         0    0  \n",
              "496       0         1    0  \n",
              "497       0         0    0  \n",
              "498       1         0    0  \n",
              "499       0         0    1  "
            ],
            "text/html": [
              "\n",
              "  <div id=\"df-0a92f923-ae61-422b-b3a9-37a2ffe32e1e\">\n",
              "    <div class=\"colab-df-container\">\n",
              "      <div>\n",
              "<style scoped>\n",
              "    .dataframe tbody tr th:only-of-type {\n",
              "        vertical-align: middle;\n",
              "    }\n",
              "\n",
              "    .dataframe tbody tr th {\n",
              "        vertical-align: top;\n",
              "    }\n",
              "\n",
              "    .dataframe thead th {\n",
              "        text-align: right;\n",
              "    }\n",
              "</style>\n",
              "<table border=\"1\" class=\"dataframe\">\n",
              "  <thead>\n",
              "    <tr style=\"text-align: right;\">\n",
              "      <th></th>\n",
              "      <th>Class Index</th>\n",
              "      <th>Title</th>\n",
              "      <th>Description</th>\n",
              "      <th>text</th>\n",
              "      <th>gold_label</th>\n",
              "      <th>world</th>\n",
              "      <th>sports</th>\n",
              "      <th>business</th>\n",
              "      <th>sci</th>\n",
              "    </tr>\n",
              "  </thead>\n",
              "  <tbody>\n",
              "    <tr>\n",
              "      <th>495</th>\n",
              "      <td>2</td>\n",
              "      <td>Pressure points</td>\n",
              "      <td>ATHENS -- The booing went on for nearly 10 min...</td>\n",
              "      <td>Title: Pressure points Description: ATHENS -- ...</td>\n",
              "      <td>2</td>\n",
              "      <td>0</td>\n",
              "      <td>1</td>\n",
              "      <td>0</td>\n",
              "      <td>0</td>\n",
              "    </tr>\n",
              "    <tr>\n",
              "      <th>496</th>\n",
              "      <td>3</td>\n",
              "      <td>Unions protest as overtime rules take effect</td>\n",
              "      <td>WASHINGTON -- Hundreds of workers rallied on t...</td>\n",
              "      <td>Title: Unions protest as overtime rules take e...</td>\n",
              "      <td>3</td>\n",
              "      <td>0</td>\n",
              "      <td>0</td>\n",
              "      <td>1</td>\n",
              "      <td>0</td>\n",
              "    </tr>\n",
              "    <tr>\n",
              "      <th>497</th>\n",
              "      <td>1</td>\n",
              "      <td>Serb denies siege terror charges</td>\n",
              "      <td>A Bosnian Serb general accused of organising t...</td>\n",
              "      <td>Title: Serb denies siege terror charges Descri...</td>\n",
              "      <td>1</td>\n",
              "      <td>1</td>\n",
              "      <td>0</td>\n",
              "      <td>0</td>\n",
              "      <td>0</td>\n",
              "    </tr>\n",
              "    <tr>\n",
              "      <th>498</th>\n",
              "      <td>2</td>\n",
              "      <td>11th-hour highlights too late</td>\n",
              "      <td>NBC's prime-time Olympic coverage is taped and...</td>\n",
              "      <td>Title: 11th-hour highlights too late Descripti...</td>\n",
              "      <td>2</td>\n",
              "      <td>0</td>\n",
              "      <td>1</td>\n",
              "      <td>0</td>\n",
              "      <td>0</td>\n",
              "    </tr>\n",
              "    <tr>\n",
              "      <th>499</th>\n",
              "      <td>4</td>\n",
              "      <td>No IE? No Can See</td>\n",
              "      <td>One thing that #39;s always irritated those wh...</td>\n",
              "      <td>Title: No IE? No Can See Description: One thin...</td>\n",
              "      <td>4</td>\n",
              "      <td>0</td>\n",
              "      <td>0</td>\n",
              "      <td>0</td>\n",
              "      <td>1</td>\n",
              "    </tr>\n",
              "  </tbody>\n",
              "</table>\n",
              "</div>\n",
              "      <button class=\"colab-df-convert\" onclick=\"convertToInteractive('df-0a92f923-ae61-422b-b3a9-37a2ffe32e1e')\"\n",
              "              title=\"Convert this dataframe to an interactive table.\"\n",
              "              style=\"display:none;\">\n",
              "        \n",
              "  <svg xmlns=\"http://www.w3.org/2000/svg\" height=\"24px\"viewBox=\"0 0 24 24\"\n",
              "       width=\"24px\">\n",
              "    <path d=\"M0 0h24v24H0V0z\" fill=\"none\"/>\n",
              "    <path d=\"M18.56 5.44l.94 2.06.94-2.06 2.06-.94-2.06-.94-.94-2.06-.94 2.06-2.06.94zm-11 1L8.5 8.5l.94-2.06 2.06-.94-2.06-.94L8.5 2.5l-.94 2.06-2.06.94zm10 10l.94 2.06.94-2.06 2.06-.94-2.06-.94-.94-2.06-.94 2.06-2.06.94z\"/><path d=\"M17.41 7.96l-1.37-1.37c-.4-.4-.92-.59-1.43-.59-.52 0-1.04.2-1.43.59L10.3 9.45l-7.72 7.72c-.78.78-.78 2.05 0 2.83L4 21.41c.39.39.9.59 1.41.59.51 0 1.02-.2 1.41-.59l7.78-7.78 2.81-2.81c.8-.78.8-2.07 0-2.86zM5.41 20L4 18.59l7.72-7.72 1.47 1.35L5.41 20z\"/>\n",
              "  </svg>\n",
              "      </button>\n",
              "      \n",
              "  <style>\n",
              "    .colab-df-container {\n",
              "      display:flex;\n",
              "      flex-wrap:wrap;\n",
              "      gap: 12px;\n",
              "    }\n",
              "\n",
              "    .colab-df-convert {\n",
              "      background-color: #E8F0FE;\n",
              "      border: none;\n",
              "      border-radius: 50%;\n",
              "      cursor: pointer;\n",
              "      display: none;\n",
              "      fill: #1967D2;\n",
              "      height: 32px;\n",
              "      padding: 0 0 0 0;\n",
              "      width: 32px;\n",
              "    }\n",
              "\n",
              "    .colab-df-convert:hover {\n",
              "      background-color: #E2EBFA;\n",
              "      box-shadow: 0px 1px 2px rgba(60, 64, 67, 0.3), 0px 1px 3px 1px rgba(60, 64, 67, 0.15);\n",
              "      fill: #174EA6;\n",
              "    }\n",
              "\n",
              "    [theme=dark] .colab-df-convert {\n",
              "      background-color: #3B4455;\n",
              "      fill: #D2E3FC;\n",
              "    }\n",
              "\n",
              "    [theme=dark] .colab-df-convert:hover {\n",
              "      background-color: #434B5C;\n",
              "      box-shadow: 0px 1px 3px 1px rgba(0, 0, 0, 0.15);\n",
              "      filter: drop-shadow(0px 1px 2px rgba(0, 0, 0, 0.3));\n",
              "      fill: #FFFFFF;\n",
              "    }\n",
              "  </style>\n",
              "\n",
              "      <script>\n",
              "        const buttonEl =\n",
              "          document.querySelector('#df-0a92f923-ae61-422b-b3a9-37a2ffe32e1e button.colab-df-convert');\n",
              "        buttonEl.style.display =\n",
              "          google.colab.kernel.accessAllowed ? 'block' : 'none';\n",
              "\n",
              "        async function convertToInteractive(key) {\n",
              "          const element = document.querySelector('#df-0a92f923-ae61-422b-b3a9-37a2ffe32e1e');\n",
              "          const dataTable =\n",
              "            await google.colab.kernel.invokeFunction('convertToInteractive',\n",
              "                                                     [key], {});\n",
              "          if (!dataTable) return;\n",
              "\n",
              "          const docLinkHtml = 'Like what you see? Visit the ' +\n",
              "            '<a target=\"_blank\" href=https://colab.research.google.com/notebooks/data_table.ipynb>data table notebook</a>'\n",
              "            + ' to learn more about interactive tables.';\n",
              "          element.innerHTML = '';\n",
              "          dataTable['output_type'] = 'display_data';\n",
              "          await google.colab.output.renderOutput(dataTable, element);\n",
              "          const docLink = document.createElement('div');\n",
              "          docLink.innerHTML = docLinkHtml;\n",
              "          element.appendChild(docLink);\n",
              "        }\n",
              "      </script>\n",
              "    </div>\n",
              "  </div>\n",
              "  "
            ]
          },
          "metadata": {},
          "execution_count": 33
        }
      ],
      "source": [
        "test_df = pd.read_csv('agnews_test.csv')\n",
        "#test_labels_df = pd.read_csv('test_labels.csv')\n",
        "#test_df = test_df.merge(test_labels_df, on='id', how='left')\n",
        "# test_df['text']=test_df['sentence']\n",
        "test_df['world']=test_df['gold_label'].apply(lambda x:1 if x==1 else 0)\n",
        "test_df['sports']=test_df['gold_label'].apply(lambda x:1 if x==2 else 0)\n",
        "test_df['business']=test_df['gold_label'].apply(lambda x:1 if x==3 else 0)\n",
        "test_df['sci']=test_df['gold_label'].apply(lambda x:1 if x==4 else 0)\n",
        "#print('Null values: ', test_df.isnull().values.any()) #should not be any null sentences or labels\n",
        "#print('Same columns between train and test: ', label_cols == test_label_cols) #columns should be the same\n",
        "test_df.tail()"
      ]
    },
    {
      "cell_type": "code",
      "execution_count": null,
      "metadata": {
        "colab": {
          "base_uri": "https://localhost:8080/"
        },
        "id": "j_PZ1mVOhkK8",
        "outputId": "9b742ce9-ca1b-47de-d57c-adbc55910776"
      },
      "outputs": [
        {
          "output_type": "execute_result",
          "data": {
            "text/plain": [
              "['world', 'sports', 'business', 'sci']"
            ]
          },
          "metadata": {},
          "execution_count": 34
        }
      ],
      "source": [
        "test_label_cols = list(test_df.columns[5:])\n",
        "test_label_cols"
      ]
    },
    {
      "cell_type": "code",
      "execution_count": null,
      "metadata": {
        "colab": {
          "base_uri": "https://localhost:8080/",
          "height": 441
        },
        "id": "77rjCrMGpYxz",
        "outputId": "af684016-0217-4f4b-8ae4-b0cefe6b7972"
      },
      "outputs": [
        {
          "output_type": "execute_result",
          "data": {
            "text/plain": [
              "   Class Index                                              Title  \\\n",
              "0            3                  Fears for T N pension after talks   \n",
              "1            4  The Race is On: Second Private Team Sets Launc...   \n",
              "2            4      Ky. Company Wins Grant to Study Peptides (AP)   \n",
              "3            4      Prediction Unit Helps Forecast Wildfires (AP)   \n",
              "4            4        Calif. Aims to Limit Farm-Related Smog (AP)   \n",
              "\n",
              "                                         Description  \\\n",
              "0  Unions representing workers at Turner   Newall...   \n",
              "1  SPACE.com - TORONTO, Canada -- A second\\team o...   \n",
              "2  AP - A company founded by a chemistry research...   \n",
              "3  AP - It's barely dawn when Mike Fitzpatrick st...   \n",
              "4  AP - Southern California's smog-fighting agenc...   \n",
              "\n",
              "                                                text  gold_label  world  \\\n",
              "0  Title: Fears for T N pension after talks Descr...           3      0   \n",
              "1  Title: The Race is On: Second Private Team Set...           4      0   \n",
              "2  Title: Ky. Company Wins Grant to Study Peptide...           4      0   \n",
              "3  Title: Prediction Unit Helps Forecast Wildfire...           4      0   \n",
              "4  Title: Calif. Aims to Limit Farm-Related Smog ...           4      0   \n",
              "\n",
              "   sports  business  sci one_hot_labels  \n",
              "0       0         1    0   [0, 0, 1, 0]  \n",
              "1       0         0    1   [0, 0, 0, 1]  \n",
              "2       0         0    1   [0, 0, 0, 1]  \n",
              "3       0         0    1   [0, 0, 0, 1]  \n",
              "4       0         0    1   [0, 0, 0, 1]  "
            ],
            "text/html": [
              "\n",
              "  <div id=\"df-de44c456-441e-4376-955d-ca61a574761e\">\n",
              "    <div class=\"colab-df-container\">\n",
              "      <div>\n",
              "<style scoped>\n",
              "    .dataframe tbody tr th:only-of-type {\n",
              "        vertical-align: middle;\n",
              "    }\n",
              "\n",
              "    .dataframe tbody tr th {\n",
              "        vertical-align: top;\n",
              "    }\n",
              "\n",
              "    .dataframe thead th {\n",
              "        text-align: right;\n",
              "    }\n",
              "</style>\n",
              "<table border=\"1\" class=\"dataframe\">\n",
              "  <thead>\n",
              "    <tr style=\"text-align: right;\">\n",
              "      <th></th>\n",
              "      <th>Class Index</th>\n",
              "      <th>Title</th>\n",
              "      <th>Description</th>\n",
              "      <th>text</th>\n",
              "      <th>gold_label</th>\n",
              "      <th>world</th>\n",
              "      <th>sports</th>\n",
              "      <th>business</th>\n",
              "      <th>sci</th>\n",
              "      <th>one_hot_labels</th>\n",
              "    </tr>\n",
              "  </thead>\n",
              "  <tbody>\n",
              "    <tr>\n",
              "      <th>0</th>\n",
              "      <td>3</td>\n",
              "      <td>Fears for T N pension after talks</td>\n",
              "      <td>Unions representing workers at Turner   Newall...</td>\n",
              "      <td>Title: Fears for T N pension after talks Descr...</td>\n",
              "      <td>3</td>\n",
              "      <td>0</td>\n",
              "      <td>0</td>\n",
              "      <td>1</td>\n",
              "      <td>0</td>\n",
              "      <td>[0, 0, 1, 0]</td>\n",
              "    </tr>\n",
              "    <tr>\n",
              "      <th>1</th>\n",
              "      <td>4</td>\n",
              "      <td>The Race is On: Second Private Team Sets Launc...</td>\n",
              "      <td>SPACE.com - TORONTO, Canada -- A second\\team o...</td>\n",
              "      <td>Title: The Race is On: Second Private Team Set...</td>\n",
              "      <td>4</td>\n",
              "      <td>0</td>\n",
              "      <td>0</td>\n",
              "      <td>0</td>\n",
              "      <td>1</td>\n",
              "      <td>[0, 0, 0, 1]</td>\n",
              "    </tr>\n",
              "    <tr>\n",
              "      <th>2</th>\n",
              "      <td>4</td>\n",
              "      <td>Ky. Company Wins Grant to Study Peptides (AP)</td>\n",
              "      <td>AP - A company founded by a chemistry research...</td>\n",
              "      <td>Title: Ky. Company Wins Grant to Study Peptide...</td>\n",
              "      <td>4</td>\n",
              "      <td>0</td>\n",
              "      <td>0</td>\n",
              "      <td>0</td>\n",
              "      <td>1</td>\n",
              "      <td>[0, 0, 0, 1]</td>\n",
              "    </tr>\n",
              "    <tr>\n",
              "      <th>3</th>\n",
              "      <td>4</td>\n",
              "      <td>Prediction Unit Helps Forecast Wildfires (AP)</td>\n",
              "      <td>AP - It's barely dawn when Mike Fitzpatrick st...</td>\n",
              "      <td>Title: Prediction Unit Helps Forecast Wildfire...</td>\n",
              "      <td>4</td>\n",
              "      <td>0</td>\n",
              "      <td>0</td>\n",
              "      <td>0</td>\n",
              "      <td>1</td>\n",
              "      <td>[0, 0, 0, 1]</td>\n",
              "    </tr>\n",
              "    <tr>\n",
              "      <th>4</th>\n",
              "      <td>4</td>\n",
              "      <td>Calif. Aims to Limit Farm-Related Smog (AP)</td>\n",
              "      <td>AP - Southern California's smog-fighting agenc...</td>\n",
              "      <td>Title: Calif. Aims to Limit Farm-Related Smog ...</td>\n",
              "      <td>4</td>\n",
              "      <td>0</td>\n",
              "      <td>0</td>\n",
              "      <td>0</td>\n",
              "      <td>1</td>\n",
              "      <td>[0, 0, 0, 1]</td>\n",
              "    </tr>\n",
              "  </tbody>\n",
              "</table>\n",
              "</div>\n",
              "      <button class=\"colab-df-convert\" onclick=\"convertToInteractive('df-de44c456-441e-4376-955d-ca61a574761e')\"\n",
              "              title=\"Convert this dataframe to an interactive table.\"\n",
              "              style=\"display:none;\">\n",
              "        \n",
              "  <svg xmlns=\"http://www.w3.org/2000/svg\" height=\"24px\"viewBox=\"0 0 24 24\"\n",
              "       width=\"24px\">\n",
              "    <path d=\"M0 0h24v24H0V0z\" fill=\"none\"/>\n",
              "    <path d=\"M18.56 5.44l.94 2.06.94-2.06 2.06-.94-2.06-.94-.94-2.06-.94 2.06-2.06.94zm-11 1L8.5 8.5l.94-2.06 2.06-.94-2.06-.94L8.5 2.5l-.94 2.06-2.06.94zm10 10l.94 2.06.94-2.06 2.06-.94-2.06-.94-.94-2.06-.94 2.06-2.06.94z\"/><path d=\"M17.41 7.96l-1.37-1.37c-.4-.4-.92-.59-1.43-.59-.52 0-1.04.2-1.43.59L10.3 9.45l-7.72 7.72c-.78.78-.78 2.05 0 2.83L4 21.41c.39.39.9.59 1.41.59.51 0 1.02-.2 1.41-.59l7.78-7.78 2.81-2.81c.8-.78.8-2.07 0-2.86zM5.41 20L4 18.59l7.72-7.72 1.47 1.35L5.41 20z\"/>\n",
              "  </svg>\n",
              "      </button>\n",
              "      \n",
              "  <style>\n",
              "    .colab-df-container {\n",
              "      display:flex;\n",
              "      flex-wrap:wrap;\n",
              "      gap: 12px;\n",
              "    }\n",
              "\n",
              "    .colab-df-convert {\n",
              "      background-color: #E8F0FE;\n",
              "      border: none;\n",
              "      border-radius: 50%;\n",
              "      cursor: pointer;\n",
              "      display: none;\n",
              "      fill: #1967D2;\n",
              "      height: 32px;\n",
              "      padding: 0 0 0 0;\n",
              "      width: 32px;\n",
              "    }\n",
              "\n",
              "    .colab-df-convert:hover {\n",
              "      background-color: #E2EBFA;\n",
              "      box-shadow: 0px 1px 2px rgba(60, 64, 67, 0.3), 0px 1px 3px 1px rgba(60, 64, 67, 0.15);\n",
              "      fill: #174EA6;\n",
              "    }\n",
              "\n",
              "    [theme=dark] .colab-df-convert {\n",
              "      background-color: #3B4455;\n",
              "      fill: #D2E3FC;\n",
              "    }\n",
              "\n",
              "    [theme=dark] .colab-df-convert:hover {\n",
              "      background-color: #434B5C;\n",
              "      box-shadow: 0px 1px 3px 1px rgba(0, 0, 0, 0.15);\n",
              "      filter: drop-shadow(0px 1px 2px rgba(0, 0, 0, 0.3));\n",
              "      fill: #FFFFFF;\n",
              "    }\n",
              "  </style>\n",
              "\n",
              "      <script>\n",
              "        const buttonEl =\n",
              "          document.querySelector('#df-de44c456-441e-4376-955d-ca61a574761e button.colab-df-convert');\n",
              "        buttonEl.style.display =\n",
              "          google.colab.kernel.accessAllowed ? 'block' : 'none';\n",
              "\n",
              "        async function convertToInteractive(key) {\n",
              "          const element = document.querySelector('#df-de44c456-441e-4376-955d-ca61a574761e');\n",
              "          const dataTable =\n",
              "            await google.colab.kernel.invokeFunction('convertToInteractive',\n",
              "                                                     [key], {});\n",
              "          if (!dataTable) return;\n",
              "\n",
              "          const docLinkHtml = 'Like what you see? Visit the ' +\n",
              "            '<a target=\"_blank\" href=https://colab.research.google.com/notebooks/data_table.ipynb>data table notebook</a>'\n",
              "            + ' to learn more about interactive tables.';\n",
              "          element.innerHTML = '';\n",
              "          dataTable['output_type'] = 'display_data';\n",
              "          await google.colab.output.renderOutput(dataTable, element);\n",
              "          const docLink = document.createElement('div');\n",
              "          docLink.innerHTML = docLinkHtml;\n",
              "          element.appendChild(docLink);\n",
              "        }\n",
              "      </script>\n",
              "    </div>\n",
              "  </div>\n",
              "  "
            ]
          },
          "metadata": {},
          "execution_count": 35
        }
      ],
      "source": [
        "test_df = test_df[~test_df[test_label_cols].eq(-1).any(axis=1)] #remove irrelevant rows/comments with -1 values\n",
        "test_df['one_hot_labels'] = list(test_df[test_label_cols].values)\n",
        "test_df.head()"
      ]
    },
    {
      "cell_type": "code",
      "execution_count": null,
      "metadata": {
        "id": "1a41OmU2i7qp"
      },
      "outputs": [],
      "source": [
        "# Gathering input data\n",
        "test_labels = list(test_df.one_hot_labels.values)\n",
        "test_comments = list(test_df.text.values)"
      ]
    },
    {
      "cell_type": "code",
      "execution_count": null,
      "metadata": {
        "colab": {
          "base_uri": "https://localhost:8080/"
        },
        "id": "amySMO8EQzf2",
        "outputId": "bbb75ef1-88ad-4283-944b-7d1f02948695"
      },
      "outputs": [
        {
          "output_type": "stream",
          "name": "stderr",
          "text": [
            "/usr/local/lib/python3.10/dist-packages/transformers/tokenization_utils_base.py:2377: FutureWarning: The `pad_to_max_length` argument is deprecated and will be removed in a future version, use `padding=True` or `padding='longest'` to pad to the longest sequence in the batch, or use `padding='max_length'` to pad to a max length. In this case, you can give a specific length with `max_length` (e.g. `max_length=45`) or leave max_length to None to pad to the maximal input size of the model (e.g. 512 for Bert).\n",
            "  warnings.warn(\n"
          ]
        }
      ],
      "source": [
        "# Encoding input data\n",
        "test_encodings = tokenizer.batch_encode_plus(test_comments,max_length=max_length,pad_to_max_length=True)\n",
        "test_input_ids = test_encodings['input_ids']\n",
        "#test_token_type_ids = test_encodings['token_type_ids']\n",
        "test_attention_masks = test_encodings['attention_mask']"
      ]
    },
    {
      "cell_type": "code",
      "execution_count": null,
      "metadata": {
        "id": "hqOfi9fkRaRN"
      },
      "outputs": [],
      "source": [
        "# Make tensors out of data\n",
        "test_inputs = torch.tensor(test_input_ids)\n",
        "test_labels = torch.tensor(test_labels)\n",
        "test_masks = torch.tensor(test_attention_masks)\n",
        "#test_token_types = torch.tensor(test_token_type_ids)\n",
        "# Create test dataloader\n",
        "test_data = TensorDataset(test_inputs, test_masks, test_labels)\n",
        "#test_data = TensorDataset(test_inputs, test_masks)\n",
        "test_sampler = SequentialSampler(test_data)\n",
        "test_dataloader = DataLoader(test_data, sampler=test_sampler, batch_size=batch_size)\n",
        "# Save test dataloader\n",
        "torch.save(test_dataloader,'test_data_loader')"
      ]
    },
    {
      "cell_type": "markdown",
      "metadata": {
        "id": "PFTWxCA_GBau"
      },
      "source": [
        "## Prediction and Metics"
      ]
    },
    {
      "cell_type": "code",
      "execution_count": null,
      "metadata": {
        "id": "NPvrL6OFSQvf"
      },
      "outputs": [],
      "source": [
        "# Test\n",
        "\n",
        "# Put model in evaluation mode to evaluate loss on the validation set\n",
        "model.eval()\n",
        "\n",
        "#track variables\n",
        "logit_preds,true_labels,pred_labels,tokenized_texts = [],[],[],[]\n",
        "\n",
        "# Predict\n",
        "for i, batch in enumerate(test_dataloader):\n",
        "  batch = tuple(t.to(device) for t in batch)\n",
        "  # Unpack the inputs from our dataloader\n",
        "  b_input_ids, b_input_mask, b_labels = batch\n",
        "  #b_input_ids, b_input_mask = batch\n",
        "  with torch.no_grad():\n",
        "    # Forward pass\n",
        "    outs = model(b_input_ids, token_type_ids=None, attention_mask=b_input_mask)\n",
        "    b_logit_pred = outs[0]\n",
        "    pred_label = torch.sigmoid(b_logit_pred)\n",
        "\n",
        "    b_logit_pred = b_logit_pred.detach().cpu().numpy()\n",
        "    pred_label = pred_label.to('cpu').numpy()\n",
        "    b_labels = b_labels.to('cpu').numpy()\n",
        "\n",
        "  tokenized_texts.append(b_input_ids)\n",
        "  logit_preds.append(b_logit_pred)\n",
        "  true_labels.append(b_labels)\n",
        "  pred_labels.append(pred_label)\n",
        "\n",
        "# Flatten outputs\n",
        "tokenized_texts = [item for sublist in tokenized_texts for item in sublist]\n",
        "pred_labels = [item for sublist in pred_labels for item in sublist]\n",
        "true_labels = [item for sublist in true_labels for item in sublist]\n",
        "# Converting flattened binary values to boolean values\n",
        "true_bools = [tl==1 for tl in true_labels]"
      ]
    },
    {
      "cell_type": "code",
      "execution_count": null,
      "metadata": {
        "colab": {
          "base_uri": "https://localhost:8080/"
        },
        "id": "_INi5MSJtEkQ",
        "outputId": "70a67240-c004-43e8-f563-3a769c7df70e"
      },
      "outputs": [
        {
          "data": {
            "text/plain": [
              "[array([0.0045191 , 0.12284625, 0.78677535], dtype=float32),\n",
              " array([0.9635983 , 0.04758941, 0.00145089], dtype=float32),\n",
              " array([0.00207093, 0.01049966, 0.99107623], dtype=float32),\n",
              " array([0.01098563, 0.99250317, 0.00175095], dtype=float32),\n",
              " array([0.9887567 , 0.01733083, 0.00118418], dtype=float32),\n",
              " array([0.00506789, 0.00214649, 0.997235  ], dtype=float32),\n",
              " array([0.9978714 , 0.00287712, 0.00215554], dtype=float32),\n",
              " array([0.00341052, 0.996572  , 0.00284842], dtype=float32),\n",
              " array([0.9862281 , 0.00255858, 0.01361227], dtype=float32),\n",
              " array([0.10106141, 0.09945446, 0.10647077], dtype=float32)]"
            ]
          },
          "execution_count": 46,
          "metadata": {},
          "output_type": "execute_result"
        }
      ],
      "source": [
        "pred_labels[:10]"
      ]
    },
    {
      "cell_type": "code",
      "execution_count": null,
      "metadata": {
        "colab": {
          "base_uri": "https://localhost:8080/"
        },
        "id": "dCiP1ZmTiewr",
        "outputId": "625ff3f1-db93-4b5a-b8ea-e3330f1e3e55"
      },
      "outputs": [
        {
          "data": {
            "text/plain": [
              "[False, False, True]"
            ]
          },
          "execution_count": 47,
          "metadata": {},
          "output_type": "execute_result"
        }
      ],
      "source": [
        "is_max(pred_labels[0])"
      ]
    },
    {
      "cell_type": "code",
      "execution_count": null,
      "metadata": {
        "colab": {
          "base_uri": "https://localhost:8080/"
        },
        "id": "GBxAD5B2ikLb",
        "outputId": "943787d7-47ee-4539-d427-b7833bce4250"
      },
      "outputs": [
        {
          "data": {
            "text/plain": [
              "10000"
            ]
          },
          "execution_count": 69,
          "metadata": {},
          "output_type": "execute_result"
        }
      ],
      "source": [
        "len(true_labels)"
      ]
    },
    {
      "cell_type": "markdown",
      "metadata": {
        "id": "bQeGWqeMzAoZ"
      },
      "source": [
        "We need to threshold our sigmoid function outputs which range from [0, 1]. Below I use 0.50 as a threshold."
      ]
    },
    {
      "cell_type": "code",
      "execution_count": null,
      "metadata": {
        "colab": {
          "base_uri": "https://localhost:8080/"
        },
        "id": "BZcZUcYOxxmM",
        "outputId": "3bc80000-b883-4485-ab80-012fb035e16f"
      },
      "outputs": [
        {
          "output_type": "stream",
          "name": "stdout",
          "text": [
            "Test F1 Accuracy:  0.88\n",
            "Test Flat Accuracy:  0.88 \n",
            "\n",
            "              precision    recall  f1-score   support\n",
            "\n",
            "       world       0.85      0.92      0.88       122\n",
            "      sports       0.96      0.94      0.95       145\n",
            "    business       0.81      0.76      0.79       106\n",
            "         sci       0.88      0.87      0.87       127\n",
            "\n",
            "   micro avg       0.88      0.88      0.88       500\n",
            "   macro avg       0.87      0.87      0.87       500\n",
            "weighted avg       0.88      0.88      0.88       500\n",
            " samples avg       0.88      0.88      0.88       500\n",
            "\n"
          ]
        }
      ],
      "source": [
        "#human\n",
        "pred_bools = [is_max(pl) for pl in pred_labels] #boolean output after thresholding\n",
        "\n",
        "# Print and save classification report\n",
        "print('Test F1 Accuracy: ', f1_score(true_bools, pred_bools,average='weighted'))\n",
        "print('Test Flat Accuracy: ', accuracy_score(true_bools, pred_bools),'\\n')\n",
        "clf_report = classification_report(true_bools,pred_bools,target_names=test_label_cols)\n",
        "pickle.dump(clf_report, open('classification_report.txt','wb')) #save report\n",
        "print(clf_report)"
      ]
    },
    {
      "cell_type": "code",
      "source": [
        "#combined - 0.2\n",
        "pred_bools = [is_max(pl) for pl in pred_labels] #boolean output after thresholding\n",
        "\n",
        "# Print and save classification report\n",
        "print('Macro Test F1 Accuracy: ', f1_score(true_bools, pred_bools,average='macro'))\n",
        "print('Micro Test F1 Accuracy: ', f1_score(true_bools, pred_bools,average='micro'))\n",
        "print('Weighted Test F1 Accuracy: ', f1_score(true_bools, pred_bools,average='weighted'))\n",
        "print('Test Flat Accuracy: ', accuracy_score(true_bools, pred_bools),'\\n')\n",
        "clf_report = classification_report(true_bools,pred_bools,target_names=test_label_cols)\n",
        "pickle.dump(clf_report, open('classification_report.txt','wb')) #save report\n",
        "print(clf_report)"
      ],
      "metadata": {
        "colab": {
          "base_uri": "https://localhost:8080/"
        },
        "id": "bg9C1KbQfux4",
        "outputId": "b277bfe4-c632-415f-9087-27582f51a543"
      },
      "execution_count": null,
      "outputs": [
        {
          "output_type": "stream",
          "name": "stdout",
          "text": [
            "Macro Test F1 Accuracy:  0.8793896106883861\n",
            "Micro Test F1 Accuracy:  0.884\n",
            "Weighted Test F1 Accuracy:  0.8848087559052588\n",
            "Test Flat Accuracy:  0.884 \n",
            "\n",
            "              precision    recall  f1-score   support\n",
            "\n",
            "       world       0.93      0.84      0.88       122\n",
            "      sports       0.95      0.97      0.96       145\n",
            "    business       0.76      0.89      0.82       106\n",
            "         sci       0.89      0.83      0.86       127\n",
            "\n",
            "   micro avg       0.88      0.88      0.88       500\n",
            "   macro avg       0.88      0.88      0.88       500\n",
            "weighted avg       0.89      0.88      0.88       500\n",
            " samples avg       0.88      0.88      0.88       500\n",
            "\n"
          ]
        }
      ]
    },
    {
      "cell_type": "code",
      "source": [
        "#combined - 0.4\n",
        "pred_bools = [is_max(pl) for pl in pred_labels] #boolean output after thresholding\n",
        "\n",
        "# Print and save classification report\n",
        "print('Macro Test F1 Accuracy: ', f1_score(true_bools, pred_bools,average='macro'))\n",
        "print('Micro Test F1 Accuracy: ', f1_score(true_bools, pred_bools,average='micro'))\n",
        "print('Weighted Test F1 Accuracy: ', f1_score(true_bools, pred_bools,average='weighted'))\n",
        "print('Test Flat Accuracy: ', accuracy_score(true_bools, pred_bools),'\\n')\n",
        "clf_report = classification_report(true_bools,pred_bools,target_names=test_label_cols)\n",
        "pickle.dump(clf_report, open('classification_report.txt','wb')) #save report\n",
        "print(clf_report)"
      ],
      "metadata": {
        "colab": {
          "base_uri": "https://localhost:8080/"
        },
        "id": "oNjQDgiSjiEk",
        "outputId": "0fcf5702-bbc9-4e56-818c-c8a840d67f70"
      },
      "execution_count": null,
      "outputs": [
        {
          "output_type": "stream",
          "name": "stdout",
          "text": [
            "Macro Test F1 Accuracy:  0.8583741668153195\n",
            "Micro Test F1 Accuracy:  0.8619999999999999\n",
            "Weighted Test F1 Accuracy:  0.8634604165404576\n",
            "Test Flat Accuracy:  0.862 \n",
            "\n",
            "              precision    recall  f1-score   support\n",
            "\n",
            "       world       0.84      0.89      0.86       122\n",
            "      sports       0.96      0.90      0.93       145\n",
            "    business       0.74      0.87      0.80       106\n",
            "         sci       0.91      0.79      0.84       127\n",
            "\n",
            "   micro avg       0.86      0.86      0.86       500\n",
            "   macro avg       0.86      0.86      0.86       500\n",
            "weighted avg       0.87      0.86      0.86       500\n",
            " samples avg       0.86      0.86      0.86       500\n",
            "\n"
          ]
        }
      ]
    },
    {
      "cell_type": "code",
      "source": [
        "#combined - 0.6\n",
        "pred_bools = [is_max(pl) for pl in pred_labels] #boolean output after thresholding\n",
        "\n",
        "# Print and save classification report\n",
        "print('Macro Test F1 Accuracy: ', f1_score(true_bools, pred_bools,average='macro'))\n",
        "print('Micro Test F1 Accuracy: ', f1_score(true_bools, pred_bools,average='micro'))\n",
        "print('Weighted Test F1 Accuracy: ', f1_score(true_bools, pred_bools,average='weighted'))\n",
        "print('Test Flat Accuracy: ', accuracy_score(true_bools, pred_bools),'\\n')\n",
        "clf_report = classification_report(true_bools,pred_bools,target_names=test_label_cols)\n",
        "pickle.dump(clf_report, open('classification_report.txt','wb')) #save report\n",
        "print(clf_report)"
      ],
      "metadata": {
        "colab": {
          "base_uri": "https://localhost:8080/"
        },
        "id": "rbrh1caKmj9A",
        "outputId": "d1a33f39-43d1-4cda-c62a-89253deef042"
      },
      "execution_count": null,
      "outputs": [
        {
          "output_type": "stream",
          "name": "stdout",
          "text": [
            "Macro Test F1 Accuracy:  0.7980504439471048\n",
            "Micro Test F1 Accuracy:  0.8000000000000002\n",
            "Weighted Test F1 Accuracy:  0.8024709893378096\n",
            "Test Flat Accuracy:  0.8 \n",
            "\n",
            "              precision    recall  f1-score   support\n",
            "\n",
            "       world       0.70      0.89      0.78       122\n",
            "      sports       0.95      0.81      0.87       145\n",
            "    business       0.68      0.86      0.76       106\n",
            "         sci       0.94      0.66      0.78       127\n",
            "\n",
            "   micro avg       0.80      0.80      0.80       500\n",
            "   macro avg       0.82      0.80      0.80       500\n",
            "weighted avg       0.83      0.80      0.80       500\n",
            " samples avg       0.80      0.80      0.80       500\n",
            "\n"
          ]
        }
      ]
    },
    {
      "cell_type": "code",
      "source": [
        "#combined - 0.8\n",
        "pred_bools = [is_max(pl) for pl in pred_labels] #boolean output after thresholding\n",
        "\n",
        "# Print and save classification report\n",
        "print('Macro Test F1 Accuracy: ', f1_score(true_bools, pred_bools,average='macro'))\n",
        "print('Micro Test F1 Accuracy: ', f1_score(true_bools, pred_bools,average='micro'))\n",
        "print('Weighted Test F1 Accuracy: ', f1_score(true_bools, pred_bools,average='weighted'))\n",
        "print('Test Flat Accuracy: ', accuracy_score(true_bools, pred_bools),'\\n')\n",
        "clf_report = classification_report(true_bools,pred_bools,target_names=test_label_cols)\n",
        "pickle.dump(clf_report, open('classification_report.txt','wb')) #save report\n",
        "print(clf_report)"
      ],
      "metadata": {
        "colab": {
          "base_uri": "https://localhost:8080/"
        },
        "id": "52TY6kfAxG6c",
        "outputId": "06085f1f-a4a7-416d-a969-d30bad6bd868"
      },
      "execution_count": null,
      "outputs": [
        {
          "output_type": "stream",
          "name": "stdout",
          "text": [
            "Macro Test F1 Accuracy:  0.8179636996540369\n",
            "Micro Test F1 Accuracy:  0.826\n",
            "Weighted Test F1 Accuracy:  0.8254039052651132\n",
            "Test Flat Accuracy:  0.826 \n",
            "\n",
            "              precision    recall  f1-score   support\n",
            "\n",
            "       world       0.85      0.84      0.85       122\n",
            "      sports       0.96      0.94      0.95       145\n",
            "    business       0.63      0.92      0.75       106\n",
            "         sci       0.94      0.59      0.72       127\n",
            "\n",
            "   micro avg       0.83      0.83      0.83       500\n",
            "   macro avg       0.84      0.83      0.82       500\n",
            "weighted avg       0.86      0.83      0.83       500\n",
            " samples avg       0.83      0.83      0.83       500\n",
            "\n"
          ]
        }
      ]
    }
  ],
  "metadata": {
    "accelerator": "GPU",
    "colab": {
      "provenance": []
    },
    "gpuClass": "standard",
    "kernelspec": {
      "display_name": "Python 3",
      "language": "python",
      "name": "python3"
    },
    "language_info": {
      "codemirror_mode": {
        "name": "ipython",
        "version": 3
      },
      "file_extension": ".py",
      "mimetype": "text/x-python",
      "name": "python",
      "nbconvert_exporter": "python",
      "pygments_lexer": "ipython3",
      "version": "3.7.3"
    }
  },
  "nbformat": 4,
  "nbformat_minor": 0
}